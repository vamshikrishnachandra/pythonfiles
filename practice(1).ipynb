{
 "cells": [
  {
   "cell_type": "code",
   "execution_count": 4,
   "metadata": {},
   "outputs": [
    {
     "name": "stdout",
     "output_type": "stream",
     "text": [
      "Welcome to the tip calculator\n",
      "Each person should pay:110.0\n"
     ]
    }
   ],
   "source": [
    "print(\"Welcome to the tip calculator\")\n",
    "total_bill = float(input(\"What is the total bill \\n\"))\n",
    "tip = int(input(\"What percentage tip would you like to give? 10,12 or 15 \\n\"))\n",
    "person = int(input(\"How many people to split the bill?\\n\"))\n",
    "bill = tip/100*total_bill + total_bill\n",
    "print(f\"Each person should pay:{bill}\")\n"
   ]
  },
  {
   "cell_type": "code",
   "execution_count": 4,
   "metadata": {},
   "outputs": [
    {
     "name": "stdout",
     "output_type": "stream",
     "text": [
      "Welcome to rollercoasteer!\n",
      "You can ride the rollercoaster!\n",
      "Adult ticket are 12$\n",
      "Your final 15\n"
     ]
    }
   ],
   "source": [
    "print(\"Welcome to rollercoasteer!\")\n",
    "height = int(input(\"What is your height in cm ?\"))\n",
    "bill = 0 \n",
    "\n",
    "if height >= 120:\n",
    "    print(\"You can ride the rollercoaster!\")\n",
    "    age  = int(input(\"Enter your age\"))\n",
    "    if age < 12:\n",
    "        bill = 5\n",
    "        print(\"Child ticket are 5$\")\n",
    "    elif age <= 18:\n",
    "        bill = 7\n",
    "        print(\"Youth ticket are 7$\")\n",
    "    else:\n",
    "        bill = 12 \n",
    "        print(\"Adult ticket are 12$\")\n",
    "    want_photos = input(\"Do you want to take the photos taken? Y or N\")\n",
    "    if want_photos == \"Y\":\n",
    "        bill += 3 \n",
    "        print(f\"Your final {bill}\")\n",
    "else:\n",
    "    print(\"Sorry you have to grow taller before you can ride\")                \n",
    "    "
   ]
  },
  {
   "cell_type": "code",
   "execution_count": 3,
   "metadata": {},
   "outputs": [
    {
     "name": "stdout",
     "output_type": "stream",
     "text": [
      "The Love Calculator is calculating your score...\n",
      "Your score is 43, you are alright together.\n"
     ]
    }
   ],
   "source": [
    "print(\"The Love Calculator is calculating your score...\")\n",
    "name1 = input() # What is your name?\n",
    "name2 = input() # What is their name?\n",
    "# 🚨 Don't change the code above 👆\n",
    "# Write your code below this line 👇\n",
    "combine = name1 + name2\n",
    "lower_case = combine.lower()\n",
    "T = lower_case.count('t')\n",
    "R = lower_case.count('r')\n",
    "U = lower_case.count('u')\n",
    "E = lower_case.count('e')\n",
    "first_digit = T + R + U + E \n",
    "L = lower_case.count('l')\n",
    "O = lower_case.count('o')\n",
    "V = lower_case.count('v')\n",
    "E = lower_case.count('e')\n",
    "second_digit = L + O + V + E\n",
    "score = int(str(first_digit) + str(second_digit))\n",
    "if score < 10 or score > 90:\n",
    "  print(f\"Your score is {score}, you are together like coke and mentos.\")\n",
    "elif 40 <= score <= 50:  # Fix this condition\n",
    "  print(f\"Your score is {score}, you are alright together.\")\n",
    "else:\n",
    "  print(f\"Your score is {score}.\")\n"
   ]
  },
  {
   "cell_type": "code",
   "execution_count": null,
   "metadata": {},
   "outputs": [],
   "source": []
  },
  {
   "cell_type": "code",
   "execution_count": null,
   "metadata": {},
   "outputs": [],
   "source": []
  }
 ],
 "metadata": {
  "kernelspec": {
   "display_name": "Python 3",
   "language": "python",
   "name": "python3"
  },
  "language_info": {
   "codemirror_mode": {
    "name": "ipython",
    "version": 3
   },
   "file_extension": ".py",
   "mimetype": "text/x-python",
   "name": "python",
   "nbconvert_exporter": "python",
   "pygments_lexer": "ipython3",
   "version": "3.11.2"
  }
 },
 "nbformat": 4,
 "nbformat_minor": 2
}
