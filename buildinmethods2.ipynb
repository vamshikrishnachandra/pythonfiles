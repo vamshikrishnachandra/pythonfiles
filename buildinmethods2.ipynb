{
 "cells": [
  {
   "cell_type": "code",
   "execution_count": 2,
   "metadata": {},
   "outputs": [
    {
     "data": {
      "text/plain": [
       "2"
      ]
     },
     "execution_count": 2,
     "metadata": {},
     "output_type": "execute_result"
    }
   ],
   "source": [
    "a = \"vamshikrishna\"\n",
    "a.count('i')"
   ]
  },
  {
   "cell_type": "code",
   "execution_count": 7,
   "metadata": {},
   "outputs": [
    {
     "data": {
      "text/plain": [
       "2"
      ]
     },
     "execution_count": 7,
     "metadata": {},
     "output_type": "execute_result"
    }
   ],
   "source": [
    "def c_count(coll,ele):\n",
    "    count = 0\n",
    "    start = 0 \n",
    "    end = len(coll)\n",
    "    while start<end:\n",
    "        if coll[start] == ele:\n",
    "            count+=1 \n",
    "        start += 1 \n",
    "    return count\n",
    "c_count('vamshikrishna','a')    "
   ]
  },
  {
   "cell_type": "code",
   "execution_count": 8,
   "metadata": {},
   "outputs": [
    {
     "data": {
      "text/plain": [
       "'vamshi'"
      ]
     },
     "execution_count": 8,
     "metadata": {},
     "output_type": "execute_result"
    }
   ],
   "source": [
    "word = \"VAMSHI\"\n",
    "word.lower()"
   ]
  },
  {
   "cell_type": "code",
   "execution_count": 20,
   "metadata": {},
   "outputs": [
    {
     "data": {
      "text/plain": [
       "'vamshi'"
      ]
     },
     "execution_count": 20,
     "metadata": {},
     "output_type": "execute_result"
    }
   ],
   "source": [
    "def lower(coll):\n",
    "    if type(coll) != str:\n",
    "        raise AttributeError(\"Please enter a string value\")\n",
    "    else:\n",
    "        start = 0 \n",
    "        res = ''\n",
    "        end = len(coll)\n",
    "        while start<end:\n",
    "            if 'A' <= coll[start] <= 'Z':\n",
    "                res += chr(ord(coll[start])+32)\n",
    "            else:\n",
    "                res += coll[start]\n",
    "            start += 1\n",
    "        return res \n",
    "lower('VAMSHI')        \n",
    "    "
   ]
  },
  {
   "cell_type": "code",
   "execution_count": 21,
   "metadata": {},
   "outputs": [
    {
     "data": {
      "text/plain": [
       "'KRISHNA@123GMAIL.COM'"
      ]
     },
     "execution_count": 21,
     "metadata": {},
     "output_type": "execute_result"
    }
   ],
   "source": [
    "word = \"krishna@123gmail.com\"\n",
    "word.upper()"
   ]
  },
  {
   "cell_type": "code",
   "execution_count": 22,
   "metadata": {},
   "outputs": [
    {
     "data": {
      "text/plain": [
       "'VAMSHIKRISHNACHANDRA@GMAIL.COM'"
      ]
     },
     "execution_count": 22,
     "metadata": {},
     "output_type": "execute_result"
    }
   ],
   "source": [
    "def upper(coll):\n",
    "    if type(coll) != str:\n",
    "        raise AttributeError(\"It's work only for string\")\n",
    "    else:\n",
    "        start = 0 \n",
    "        end = len(coll)\n",
    "        res = ''\n",
    "        while start<end:\n",
    "            if 'a'<=coll[start]<='z':\n",
    "                res += chr(ord(coll[start])-32)\n",
    "            else:\n",
    "                res+=coll[start]\n",
    "            start+=1 \n",
    "        return res \n",
    "upper('vamshikrishnachandra@gmail.com')"
   ]
  },
  {
   "cell_type": "code",
   "execution_count": 23,
   "metadata": {},
   "outputs": [
    {
     "data": {
      "text/plain": [
       "True"
      ]
     },
     "execution_count": 23,
     "metadata": {},
     "output_type": "execute_result"
    }
   ],
   "source": [
    "word = 'vamshi'\n",
    "word.islower()"
   ]
  },
  {
   "cell_type": "code",
   "execution_count": 27,
   "metadata": {},
   "outputs": [
    {
     "data": {
      "text/plain": [
       "True"
      ]
     },
     "execution_count": 27,
     "metadata": {},
     "output_type": "execute_result"
    }
   ],
   "source": [
    "def islower(coll):\n",
    "    if type(coll) != str:\n",
    "        raise AttributeError(\"Its works only for string\")\n",
    "    else:\n",
    "        start = 0 \n",
    "        end = len(coll)\n",
    "        while start < end:\n",
    "            if 'A'<=coll[start]<='Z':\n",
    "                return False \n",
    "            else:\n",
    "                return True \n",
    "            start += 1\n",
    "islower('vamshi@123')\n",
    "            "
   ]
  },
  {
   "cell_type": "code",
   "execution_count": 28,
   "metadata": {},
   "outputs": [
    {
     "data": {
      "text/plain": [
       "True"
      ]
     },
     "execution_count": 28,
     "metadata": {},
     "output_type": "execute_result"
    }
   ],
   "source": [
    "word = 'VAMSHI'\n",
    "word.isupper()"
   ]
  },
  {
   "cell_type": "code",
   "execution_count": 29,
   "metadata": {},
   "outputs": [
    {
     "data": {
      "text/plain": [
       "True"
      ]
     },
     "execution_count": 29,
     "metadata": {},
     "output_type": "execute_result"
    }
   ],
   "source": [
    "def isupper(coll):\n",
    "    if type(coll) != str:\n",
    "        raise AttributeError(\"Its accept string values\")\n",
    "    else:\n",
    "        start = 0 \n",
    "        end = len(coll)\n",
    "        while start<end:\n",
    "            if 'a'<=coll[start]<='z':\n",
    "                return False \n",
    "            else:\n",
    "                return True \n",
    "isupper('VAMSHI@123')      \n",
    "    "
   ]
  },
  {
   "cell_type": "code",
   "execution_count": 33,
   "metadata": {},
   "outputs": [
    {
     "data": {
      "text/plain": [
       "True"
      ]
     },
     "execution_count": 33,
     "metadata": {},
     "output_type": "execute_result"
    }
   ],
   "source": [
    "num = '123'\n",
    "num.isnumeric()"
   ]
  },
  {
   "cell_type": "code",
   "execution_count": 34,
   "metadata": {},
   "outputs": [
    {
     "data": {
      "text/plain": [
       "True"
      ]
     },
     "execution_count": 34,
     "metadata": {},
     "output_type": "execute_result"
    }
   ],
   "source": [
    "def isnumeric(num):\n",
    "    if type(num) != str:\n",
    "        raise AttributeError(\"Please enter a string\")\n",
    "    else:\n",
    "        start = 0 \n",
    "        while start<len(num):\n",
    "            if not('0'<= num[start]<='9'):\n",
    "                return False\n",
    "            else:\n",
    "                return True \n",
    "isnumeric('123')"
   ]
  },
  {
   "cell_type": "code",
   "execution_count": 51,
   "metadata": {},
   "outputs": [
    {
     "data": {
      "text/plain": [
       "False"
      ]
     },
     "execution_count": 51,
     "metadata": {},
     "output_type": "execute_result"
    }
   ],
   "source": [
    "def isspecial(coll):\n",
    "    if type(coll) != str:\n",
    "        raise AttributeError(\"its accept string only\")\n",
    "    else:\n",
    "        start = 0 \n",
    "        end = len(coll)\n",
    "        while start<end:\n",
    "            if '0'<= coll[start]<= '9' or 'A' <= coll[start]<= 'Z' or 'a' <= coll[start] <= 'z':\n",
    "                return False\n",
    "            return True \n",
    "            start += 1 \n",
    "isspecial('1')"
   ]
  },
  {
   "cell_type": "code",
   "execution_count": 53,
   "metadata": {},
   "outputs": [
    {
     "data": {
      "text/plain": [
       "True"
      ]
     },
     "execution_count": 53,
     "metadata": {},
     "output_type": "execute_result"
    }
   ],
   "source": [
    "st = ' '\n",
    "st.isspace()"
   ]
  },
  {
   "cell_type": "code",
   "execution_count": 54,
   "metadata": {},
   "outputs": [
    {
     "data": {
      "text/plain": [
       "True"
      ]
     },
     "execution_count": 54,
     "metadata": {},
     "output_type": "execute_result"
    }
   ],
   "source": [
    "def isspace(coll):\n",
    "    if type(coll) != str:\n",
    "        raise AttributeError(\"Its accpet String value\")\n",
    "    elif len(coll)==0:\n",
    "        return False\n",
    "    else:\n",
    "        start = 0 \n",
    "        end = len(coll)\n",
    "        while start<end:\n",
    "            if coll[start] != \" \":\n",
    "                return False \n",
    "            else:\n",
    "                return True \n",
    "            start += 1 \n",
    "isspace(' ')"
   ]
  },
  {
   "cell_type": "code",
   "execution_count": 56,
   "metadata": {},
   "outputs": [
    {
     "data": {
      "text/plain": [
       "True"
      ]
     },
     "execution_count": 56,
     "metadata": {},
     "output_type": "execute_result"
    }
   ],
   "source": [
    "str = chr(65)\n",
    "str.isascii()"
   ]
  },
  {
   "cell_type": "code",
   "execution_count": 60,
   "metadata": {},
   "outputs": [
    {
     "data": {
      "text/plain": [
       "True"
      ]
     },
     "execution_count": 60,
     "metadata": {},
     "output_type": "execute_result"
    }
   ],
   "source": [
    "def u_str(num):\n",
    "    if not(chr(0)<=num<=chr(127)):\n",
    "        return False\n",
    "    else:\n",
    "        return True\n",
    "u_str(chr(56))"
   ]
  },
  {
   "cell_type": "code",
   "execution_count": 63,
   "metadata": {},
   "outputs": [
    {
     "data": {
      "text/plain": [
       "True"
      ]
     },
     "execution_count": 63,
     "metadata": {},
     "output_type": "execute_result"
    }
   ],
   "source": [
    "id = 'True'\n",
    "id.isidentifier()"
   ]
  },
  {
   "cell_type": "code",
   "execution_count": 1,
   "metadata": {},
   "outputs": [
    {
     "data": {
      "text/plain": [
       "False"
      ]
     },
     "execution_count": 1,
     "metadata": {},
     "output_type": "execute_result"
    }
   ],
   "source": [
    "from keyword import kwlist \n",
    "\n",
    "def isidentifer(coll):\n",
    "    if type(coll) != str:\n",
    "        raise AttributeError(\"its accept only string\")\n",
    "    if '0'<= coll[0] <= '9' or coll in kwlist:\n",
    "        return False \n",
    "    start = 0 \n",
    "    while start < len(coll):\n",
    "        if not ('A'<=coll[start]<='Z' or 'a'<=coll[start]<='z' or '0'<=coll[start]<='9' or coll[start]==\"_\"):\n",
    "            return False\n",
    "        start+=1\n",
    "        return True\n",
    "isidentifer('True')"
   ]
  },
  {
   "cell_type": "code",
   "execution_count": 5,
   "metadata": {},
   "outputs": [
    {
     "data": {
      "text/plain": [
       "'vamshikrishna'"
      ]
     },
     "execution_count": 5,
     "metadata": {},
     "output_type": "execute_result"
    }
   ],
   "source": [
    "#swapcase \n",
    "st = 'VAMSHIKRISHNA'\n",
    "st.swapcase()"
   ]
  },
  {
   "cell_type": "code",
   "execution_count": 12,
   "metadata": {},
   "outputs": [
    {
     "data": {
      "text/plain": [
       "'vamshi'"
      ]
     },
     "execution_count": 12,
     "metadata": {},
     "output_type": "execute_result"
    }
   ],
   "source": [
    "def swapcase(coll):\n",
    "    if type(coll)!= str:\n",
    "        raise AttributeError\n",
    "    else:\n",
    "        start = 0 \n",
    "        res= ''\n",
    "        while start<len(coll):\n",
    "            if('A'<=coll[start]<='Z'):\n",
    "                res += chr(ord(coll[start])+32)\n",
    "            elif('a'<=coll[start]<='z'):\n",
    "                res += chr(ord(coll[start])-32)\n",
    "            else:\n",
    "                res += coll[start]\n",
    "            start+=1 \n",
    "        return res \n",
    "swapcase('VAMSHI')"
   ]
  },
  {
   "cell_type": "code",
   "execution_count": 13,
   "metadata": {},
   "outputs": [
    {
     "data": {
      "text/plain": [
       "'Krishna'"
      ]
     },
     "execution_count": 13,
     "metadata": {},
     "output_type": "execute_result"
    }
   ],
   "source": [
    "#captialize \n",
    "a = 'krishna'\n",
    "a.capitalize()"
   ]
  },
  {
   "cell_type": "code",
   "execution_count": 22,
   "metadata": {},
   "outputs": [
    {
     "data": {
      "text/plain": [
       "'Vamshi'"
      ]
     },
     "execution_count": 22,
     "metadata": {},
     "output_type": "execute_result"
    }
   ],
   "source": [
    "def is_captailize(coll):\n",
    "    if type(coll) != str:\n",
    "        raise AttributeError\n",
    "    start = 0 \n",
    "    end = len(coll)\n",
    "    res = ''\n",
    "    while start<end:\n",
    "        if 'a'<=coll[0]<='z':\n",
    "            res = chr(ord(coll[start])-32)\n",
    "        else:\n",
    "            res+=coll[start]\n",
    "        start=1\n",
    "        while start<len(coll):\n",
    "            if 'A' <= coll[start]<='Z':\n",
    "                res = chr(ord(coll[start])+32)\n",
    "            else:\n",
    "                res += coll[start]\n",
    "            start+=1\n",
    "    return res \n",
    "is_captailize('vamshi')"
   ]
  },
  {
   "cell_type": "code",
   "execution_count": 4,
   "metadata": {},
   "outputs": [
    {
     "data": {
      "text/plain": [
       "True"
      ]
     },
     "execution_count": 4,
     "metadata": {},
     "output_type": "execute_result"
    }
   ],
   "source": [
    "#properfunction\n",
    "def is_proper(coll):\n",
    "    if type(coll) != str:\n",
    "        raise AttributeError \n",
    "    if 'a' <= coll[0] <= 'z':\n",
    "        return False\n",
    "    start = 1 \n",
    "    while start<len(coll):\n",
    "        if 'A'<=coll[start]<=\"Z\":\n",
    "            return True\n",
    "        start+=1 \n",
    "    return True \n",
    "is_proper('Sainath')\n",
    "            "
   ]
  },
  {
   "cell_type": "code",
   "execution_count": 6,
   "metadata": {},
   "outputs": [
    {
     "data": {
      "text/plain": [
       "'Sai_krishna'"
      ]
     },
     "execution_count": 6,
     "metadata": {},
     "output_type": "execute_result"
    }
   ],
   "source": [
    "#snakecase\n",
    "#wap to convert string intp snakecase\n",
    "#stars with uppercase\n",
    "#spaces are replaced with \"_\"\n",
    "#except first letter all are in lowercase \n",
    "def snakecase(coll):\n",
    "    if type(coll)!=str:\n",
    "        raise AttributeError \n",
    "    res = ''\n",
    "    if 'a' <= coll[0] <= 'z':\n",
    "        res += chr(ord(coll[0])-32)\n",
    "    else:\n",
    "        res += coll[0]\n",
    "        \n",
    "    start = 1 \n",
    "    while start<len(coll):\n",
    "        if 'A' <= coll[start] <= 'Z':\n",
    "            res += chr(ord(coll[start])+32)\n",
    "        elif coll[start]==' ':\n",
    "            res += \"_\"\n",
    "        else:\n",
    "            res += coll[start]\n",
    "        start+=1\n",
    "    return res \n",
    "snakecase('sai krishna')"
   ]
  },
  {
   "cell_type": "code",
   "execution_count": 17,
   "metadata": {},
   "outputs": [
    {
     "data": {
      "text/plain": [
       "True"
      ]
     },
     "execution_count": 17,
     "metadata": {},
     "output_type": "execute_result"
    }
   ],
   "source": [
    "#check wheather given word is snakecase or not\n",
    "def check_snakecase(coll):\n",
    "    if type(coll) != str:\n",
    "        raise AttributeError \n",
    "    if 'a' <= coll[0] <= 'z' or coll[0]==' ':\n",
    "        return False \n",
    "    start = 1 \n",
    "    while start<len(coll):\n",
    "        if 'A' <= coll[start] <= 'Z':\n",
    "            return False \n",
    "        elif coll[start]==\" \":\n",
    "            return False\n",
    "        start+=1 \n",
    "    return True \n",
    "check_snakecase('Vamshi_krishna')"
   ]
  },
  {
   "cell_type": "code",
   "execution_count": 3,
   "metadata": {},
   "outputs": [
    {
     "data": {
      "text/plain": [
       "'__vamshi__'"
      ]
     },
     "execution_count": 3,
     "metadata": {},
     "output_type": "execute_result"
    }
   ],
   "source": [
    "#daragon case\n",
    "#starts and ends with __ minimum.\n",
    "#No space, (replaced by _)\n",
    "#No uppercase characters\n",
    "def dragon_case(coll):\n",
    "    if type(coll) != str:\n",
    "       raise  AttributeError\n",
    "    res = '' \n",
    "    if(len(coll)>0):\n",
    "        start = 0\n",
    "        while start<len(coll):\n",
    "            if 'A'<=coll[start]<='Z':\n",
    "                res+=chr(ord(coll[start])+32)\n",
    "            elif 'a'<=coll[start]<='z':\n",
    "                res+=coll[start]\n",
    "            elif coll[start]==' 'or coll[start]=='_':\n",
    "                res+='_'\n",
    "            start+=1\n",
    "        coll = res\n",
    "        if coll[0] != \"_\":\n",
    "            res = \"__\" + coll\n",
    "        elif coll[0] == '_' and coll[1]!='_':\n",
    "            res = '_'+ coll\n",
    "        else:\n",
    "            res = coll\n",
    "        if res[-1]!='_':\n",
    "            res = res+ '__'\n",
    "        elif res[-1]=='_' and res[-2] != '_':\n",
    "            res = res + '_'\n",
    "        return res\n",
    "    else:\n",
    "        print('Empty string')\n",
    "dragon_case(\"vamshi\")"
   ]
  },
  {
   "cell_type": "code",
   "execution_count": 8,
   "metadata": {},
   "outputs": [
    {
     "name": "stdout",
     "output_type": "stream",
     "text": [
      "5\n",
      "3\n",
      "1\n"
     ]
    }
   ],
   "source": [
    "start=eval(input(\"enter the starting integer number\"))\n",
    "end=0\n",
    "while start>=end:\n",
    "    if start%2!=0:\n",
    "        print(start)\n",
    "    start-=1"
   ]
  },
  {
   "cell_type": "code",
   "execution_count": null,
   "metadata": {},
   "outputs": [],
   "source": []
  }
 ],
 "metadata": {
  "kernelspec": {
   "display_name": "Python 3",
   "language": "python",
   "name": "python3"
  },
  "language_info": {
   "codemirror_mode": {
    "name": "ipython",
    "version": 3
   },
   "file_extension": ".py",
   "mimetype": "text/x-python",
   "name": "python",
   "nbconvert_exporter": "python",
   "pygments_lexer": "ipython3",
   "version": "3.11.2"
  },
  "orig_nbformat": 4
 },
 "nbformat": 4,
 "nbformat_minor": 2
}
