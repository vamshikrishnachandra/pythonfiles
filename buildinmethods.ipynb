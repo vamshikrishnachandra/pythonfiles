{
 "cells": [
  {
   "cell_type": "code",
   "execution_count": 1,
   "metadata": {},
   "outputs": [
    {
     "name": "stdout",
     "output_type": "stream",
     "text": [
      "2\n"
     ]
    }
   ],
   "source": [
    "n = int(input())\n",
    "c = 0 \n",
    "while n:\n",
    "    n = n // 10\n",
    "    c+=1 \n",
    "print(c)"
   ]
  },
  {
   "cell_type": "code",
   "execution_count": 3,
   "metadata": {},
   "outputs": [
    {
     "name": "stdout",
     "output_type": "stream",
     "text": [
      "6\n"
     ]
    }
   ],
   "source": [
    "n = int(input())\n",
    "sum1 = 0 \n",
    "while n!=0:\n",
    "    d = n%10\n",
    "    sum1+=d \n",
    "    n = n//10 \n",
    "print(sum1)"
   ]
  },
  {
   "cell_type": "code",
   "execution_count": 10,
   "metadata": {},
   "outputs": [
    {
     "name": "stdout",
     "output_type": "stream",
     "text": [
      "palindrome number\n"
     ]
    }
   ],
   "source": [
    "n = int(input())\n",
    "temp = n \n",
    "res = 0\n",
    "while n!=0:\n",
    "    d = n%10 \n",
    "    res = d + res * 10   \n",
    "    n = n // 10\n",
    "if(res==temp):\n",
    "    print(\"palindrome number\")\n",
    "else:\n",
    "    print(\"not a palindrome number\")    "
   ]
  },
  {
   "cell_type": "code",
   "execution_count": 11,
   "metadata": {},
   "outputs": [
    {
     "name": "stdout",
     "output_type": "stream",
     "text": [
      "6\n"
     ]
    }
   ],
   "source": [
    "n = int(input())\n",
    "prod = 1 \n",
    "while n!=0:\n",
    "    d = n % 10\n",
    "    prod = prod * d \n",
    "    n = n//10\n",
    "print(prod)"
   ]
  },
  {
   "cell_type": "code",
   "execution_count": 13,
   "metadata": {},
   "outputs": [
    {
     "name": "stdout",
     "output_type": "stream",
     "text": [
      "1\n",
      "2\n",
      "3\n",
      "4\n",
      "6\n",
      "12\n"
     ]
    }
   ],
   "source": [
    "n = int(input())\n",
    "#count = 0 \n",
    "start = 1 \n",
    "while start<=n:\n",
    "    if(n%start)==0:\n",
    "        print(start)\n",
    "        #count += 1 \n",
    "    start+=1 "
   ]
  },
  {
   "cell_type": "code",
   "execution_count": 14,
   "metadata": {},
   "outputs": [
    {
     "name": "stdout",
     "output_type": "stream",
     "text": [
      "perfect number\n"
     ]
    }
   ],
   "source": [
    "n = int(input())\n",
    "sum = 0\n",
    "start = 1 \n",
    "while start<n:\n",
    "    if(n%start)==0:\n",
    "        sum = sum + start\n",
    "    start += 1 \n",
    "if(sum==n):\n",
    "    print(\"perfect number\")\n",
    "else:\n",
    "    print(\"Not a perfect number\")    "
   ]
  },
  {
   "cell_type": "code",
   "execution_count": 10,
   "metadata": {},
   "outputs": [
    {
     "name": "stdout",
     "output_type": "stream",
     "text": [
      "perfect number 6\n",
      "perfect number 28\n",
      "perfect number 496\n"
     ]
    }
   ],
   "source": [
    "i = 1 \n",
    "j = 1000\n",
    "while i<=j:\n",
    "    n = i\n",
    "    start = 1\n",
    "    sum1 = 0 \n",
    "    while(start<n):\n",
    "        if(n%start==0):\n",
    "            sum1 += start \n",
    "        start+=1 \n",
    "    if(sum1 == n):\n",
    "        print(\"perfect number\",sum1)\n",
    "    i+=1"
   ]
  },
  {
   "cell_type": "code",
   "execution_count": 25,
   "metadata": {},
   "outputs": [
    {
     "name": "stdout",
     "output_type": "stream",
     "text": [
      "1\n",
      "2\n",
      "6\n",
      "24\n",
      "120\n",
      "720\n",
      "5040\n",
      "40320\n",
      "362880\n",
      "3628800\n"
     ]
    }
   ],
   "source": [
    "i = 1 \n",
    "j = 10 \n",
    "while i<=j:\n",
    "    start = 1 \n",
    "    n = i \n",
    "    fact = 1 \n",
    "    while start<=n:\n",
    "        fact = fact * start\n",
    "        start +=1 \n",
    "    print(fact)\n",
    "    i+=1"
   ]
  },
  {
   "cell_type": "code",
   "execution_count": 29,
   "metadata": {},
   "outputs": [
    {
     "name": "stdout",
     "output_type": "stream",
     "text": [
      "6\n"
     ]
    }
   ],
   "source": [
    "n = int(input())\n",
    "sum1 = 0 \n",
    "while n!=0:\n",
    "    d = n%10 \n",
    "    fact = 1\n",
    "    start = 1 \n",
    "    while start<=d:\n",
    "        fact = fact * start\n",
    "        start+=1 \n",
    "    sum1 = sum1 + fact \n",
    "    n = n//10\n",
    "print(sum1)"
   ]
  },
  {
   "cell_type": "code",
   "execution_count": 2,
   "metadata": {},
   "outputs": [
    {
     "name": "stdout",
     "output_type": "stream",
     "text": [
      "3\n"
     ]
    }
   ],
   "source": [
    "import random\n",
    "\n",
    "print(random.randrange(1, 10))"
   ]
  },
  {
   "cell_type": "code",
   "execution_count": null,
   "metadata": {},
   "outputs": [],
   "source": []
  }
 ],
 "metadata": {
  "kernelspec": {
   "display_name": "Python 3",
   "language": "python",
   "name": "python3"
  },
  "language_info": {
   "codemirror_mode": {
    "name": "ipython",
    "version": 3
   },
   "file_extension": ".py",
   "mimetype": "text/x-python",
   "name": "python",
   "nbconvert_exporter": "python",
   "pygments_lexer": "ipython3",
   "version": "3.11.2"
  },
  "orig_nbformat": 4
 },
 "nbformat": 4,
 "nbformat_minor": 2
}
