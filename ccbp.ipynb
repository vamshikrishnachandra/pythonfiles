{
 "cells": [
  {
   "cell_type": "markdown",
   "metadata": {},
   "source": [
    "Loop Control Statements"
   ]
  },
  {
   "cell_type": "markdown",
   "metadata": {},
   "source": [
    "Write a program for prime number"
   ]
  },
  {
   "cell_type": "code",
   "execution_count": 11,
   "metadata": {},
   "outputs": [
    {
     "name": "stdout",
     "output_type": "stream",
     "text": [
      "Prime Number\n"
     ]
    }
   ],
   "source": [
    "n = int(input())\n",
    "\n",
    "factors = 0 \n",
    "\n",
    "for i in range(2,n):\n",
    "    if n % i == 0:\n",
    "        factors = factors + 1 \n",
    "        \n",
    "if (factors==0):\n",
    "    print(\"Prime Number\")\n",
    "else:\n",
    "    print(\"Not a Prime number\")"
   ]
  },
  {
   "cell_type": "markdown",
   "metadata": {},
   "source": [
    "Write a program for shuffeld string \n",
    "i/p:eimag\n",
    "1\n",
    "2\n",
    "3\n",
    "4\n",
    "0"
   ]
  },
  {
   "cell_type": "code",
   "execution_count": 12,
   "metadata": {},
   "outputs": [
    {
     "name": "stdout",
     "output_type": "stream",
     "text": [
      "image\n"
     ]
    }
   ],
   "source": [
    "word = input()\n",
    "shuffled_string = \"\" \n",
    "for i in range(len(word)):\n",
    "    n = int(input())\n",
    "    shuffled_string = shuffled_string + word[n]\n",
    "print(shuffled_string)"
   ]
  },
  {
   "cell_type": "markdown",
   "metadata": {},
   "source": [
    "i/p:Vamshi\n",
    "o/p:V\n",
    "va\n",
    "vam\n",
    "vams\n",
    "vamsh\n",
    "vamshi"
   ]
  },
  {
   "cell_type": "code",
   "execution_count": 16,
   "metadata": {},
   "outputs": [
    {
     "name": "stdout",
     "output_type": "stream",
     "text": [
      "\n",
      "v\n",
      "va\n",
      "vam\n",
      "vams\n",
      "vamsh\n",
      "vamshi\n"
     ]
    }
   ],
   "source": [
    "word = input()\n",
    "length = len(word)\n",
    "\n",
    "for j in range(0,length+1):\n",
    "    print(word[:j]) "
   ]
  },
  {
   "cell_type": "code",
   "execution_count": 18,
   "metadata": {},
   "outputs": [
    {
     "name": "stdout",
     "output_type": "stream",
     "text": [
      "Outer:0\n",
      "  Inner: 5\n",
      "  Inner: 6\n",
      "  Inner: 7\n",
      "Outer:1\n",
      "  Inner: 5\n",
      "  Inner: 6\n",
      "  Inner: 7\n",
      "Outer:2\n",
      "  Inner: 5\n",
      "  Inner: 6\n",
      "  Inner: 7\n",
      "end\n"
     ]
    }
   ],
   "source": [
    "for i in range(3):\n",
    "    print(\"Outer:\" + str(i))\n",
    "    for j in range(5,8):\n",
    "        print(\"  Inner: \" + str(j))\n",
    "print(\"end\")"
   ]
  },
  {
   "cell_type": "code",
   "execution_count": 19,
   "metadata": {},
   "outputs": [
    {
     "name": "stdout",
     "output_type": "stream",
     "text": [
      "1 \n",
      "1 2 \n",
      "1 2 3 \n",
      "1 2 3 4 \n"
     ]
    }
   ],
   "source": [
    "n = int(input())\n",
    "\n",
    "for i in range(1,n+1):\n",
    "    row_outer = \"\"\n",
    "    for row_inner in range(1,i+1):\n",
    "        row_outer = row_outer + str(row_inner) + \" \"\n",
    "    print(row_outer)\n",
    "    "
   ]
  },
  {
   "cell_type": "code",
   "execution_count": null,
   "metadata": {},
   "outputs": [],
   "source": []
  }
 ],
 "metadata": {
  "kernelspec": {
   "display_name": "Python 3",
   "language": "python",
   "name": "python3"
  },
  "language_info": {
   "codemirror_mode": {
    "name": "ipython",
    "version": 3
   },
   "file_extension": ".py",
   "mimetype": "text/x-python",
   "name": "python",
   "nbconvert_exporter": "python",
   "pygments_lexer": "ipython3",
   "version": "3.11.2"
  }
 },
 "nbformat": 4,
 "nbformat_minor": 2
}
