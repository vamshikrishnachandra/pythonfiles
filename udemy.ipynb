{
 "cells": [
  {
   "cell_type": "code",
   "execution_count": 4,
   "metadata": {},
   "outputs": [
    {
     "name": "stdout",
     "output_type": "stream",
     "text": [
      "Welcome to the tip calculator\n",
      "Each person should pay:110.0\n"
     ]
    }
   ],
   "source": [
    "print(\"Welcome to the tip calculator\")\n",
    "total_bill = float(input(\"What is the total bill \\n\"))\n",
    "tip = int(input(\"What percentage tip would you like to give? 10,12 or 15 \\n\"))\n",
    "person = int(input(\"How many people to split the bill?\\n\"))\n",
    "bill = tip/100*total_bill + total_bill\n",
    "print(f\"Each person should pay:{bill}\")\n"
   ]
  },
  {
   "cell_type": "code",
   "execution_count": 4,
   "metadata": {},
   "outputs": [
    {
     "name": "stdout",
     "output_type": "stream",
     "text": [
      "Welcome to rollercoasteer!\n",
      "You can ride the rollercoaster!\n",
      "Adult ticket are 12$\n",
      "Your final 15\n"
     ]
    }
   ],
   "source": [
    "print(\"Welcome to rollercoasteer!\")\n",
    "height = int(input(\"What is your height in cm ?\"))\n",
    "bill = 0 \n",
    "\n",
    "if height >= 120:\n",
    "    print(\"You can ride the rollercoaster!\")\n",
    "    age  = int(input(\"Enter your age\"))\n",
    "    if age < 12:\n",
    "        bill = 5\n",
    "        print(\"Child ticket are 5$\")\n",
    "    elif age <= 18:\n",
    "        bill = 7\n",
    "        print(\"Youth ticket are 7$\")\n",
    "    else:\n",
    "        bill = 12 \n",
    "        print(\"Adult ticket are 12$\")\n",
    "    want_photos = input(\"Do you want to take the photos taken? Y or N\")\n",
    "    if want_photos == \"Y\":\n",
    "        bill += 3 \n",
    "        print(f\"Your final {bill}\")\n",
    "else:\n",
    "    print(\"Sorry you have to grow taller before you can ride\")                \n",
    "    "
   ]
  },
  {
   "cell_type": "code",
   "execution_count": 3,
   "metadata": {},
   "outputs": [
    {
     "name": "stdout",
     "output_type": "stream",
     "text": [
      "The Love Calculator is calculating your score...\n",
      "Your score is 43, you are alright together.\n"
     ]
    }
   ],
   "source": [
    "print(\"The Love Calculator is calculating your score...\")\n",
    "name1 = input() # What is your name?\n",
    "name2 = input() # What is their name?\n",
    "# 🚨 Don't change the code above 👆\n",
    "# Write your code below this line 👇\n",
    "combine = name1 + name2\n",
    "lower_case = combine.lower()\n",
    "T = lower_case.count('t')\n",
    "R = lower_case.count('r')\n",
    "U = lower_case.count('u')\n",
    "E = lower_case.count('e')\n",
    "first_digit = T + R + U + E \n",
    "L = lower_case.count('l')\n",
    "O = lower_case.count('o')\n",
    "V = lower_case.count('v')\n",
    "E = lower_case.count('e')\n",
    "second_digit = L + O + V + E\n",
    "score = int(str(first_digit) + str(second_digit))\n",
    "if score < 10 or score > 90:\n",
    "  print(f\"Your score is {score}, you are together like coke and mentos.\")\n",
    "elif 40 <= score <= 50:  # Fix this condition\n",
    "  print(f\"Your score is {score}, you are alright together.\")\n",
    "else:\n",
    "  print(f\"Your score is {score}.\")\n"
   ]
  },
  {
   "cell_type": "code",
   "execution_count": 15,
   "metadata": {},
   "outputs": [
    {
     "name": "stdout",
     "output_type": "stream",
     "text": [
      "16\n",
      "2.6559190389651786\n",
      "Your love score is  35\n"
     ]
    }
   ],
   "source": [
    "import random \n",
    "\n",
    "random_int = random.randint(1,100)\n",
    "print(random_int)\n",
    "\n",
    "random_float = random.random()*5\n",
    "print(random_float)\n",
    "\n",
    "love_score = random.randint(1,100)\n",
    "print(f\"Your love score is  {love_score}\")"
   ]
  },
  {
   "cell_type": "markdown",
   "metadata": {},
   "source": [
    "List"
   ]
  },
  {
   "cell_type": "code",
   "execution_count": 16,
   "metadata": {},
   "outputs": [
    {
     "name": "stdout",
     "output_type": "stream",
     "text": [
      "['vamshikrishna', 'shashi', 'sree ram', 'varshith']\n"
     ]
    }
   ],
   "source": [
    "names = ['vamshi','shashi','sree ram' , 'varshith']\n",
    "names[0] = 'vamshikrishna'\n",
    "print(names)"
   ]
  },
  {
   "cell_type": "code",
   "execution_count": 15,
   "metadata": {},
   "outputs": [
    {
     "name": "stdout",
     "output_type": "stream",
     "text": [
      "You typed an invalid number,you lose!\n"
     ]
    }
   ],
   "source": [
    "import random\n",
    "rock = '''\n",
    "    _______\n",
    "---'   ____)\n",
    "      (_____)\n",
    "      (_____)\n",
    "      (____)\n",
    "---.__(___)\n",
    "'''\n",
    "\n",
    "paper = '''\n",
    "    _______\n",
    "---'   ____)____\n",
    "          ______)\n",
    "          _______)\n",
    "         _______)\n",
    "---.__________)\n",
    "'''\n",
    "\n",
    "scissors = '''\n",
    "    _______\n",
    "---'   ____)____\n",
    "          ______)\n",
    "       __________)\n",
    "      (____)\n",
    "---.__(___)\n",
    "'''\n",
    "game_image = [rock,paper,scissors]\n",
    "#Write your code below this line 👇\n",
    "user_choice = int(input(\"Enter do you choice? Type 0 for Rock,1 for paper or 2 for Scissors.\"))\n",
    "if user_choice >= 3 or user_choice < 0:\n",
    "    print(\"You typed an invalid number,you lose!\")\n",
    "else:\n",
    "    print(game_image[user_choice])\n",
    "\n",
    "    computer_choice  = random.randint(0,2)\n",
    "    print(\"Computer Choose:\")\n",
    "    print(game_image[computer_choice])\n",
    "\n",
    "\n",
    "    if user_choice == 0 and computer_choice==2:\n",
    "        print(\"You Win!\")\n",
    "    elif computer_choice == 0 and user_choice==2:\n",
    "        print(\"You lose\")\n",
    "    elif user_choice > computer_choice:\n",
    "        print(\"You  Win\")\n",
    "    elif computer_choice > user_choice:\n",
    "        print(\"You loose\")\n",
    "    elif computer_choice == user_choice:\n",
    "        print(\"It's a draw\")"
   ]
  },
  {
   "cell_type": "code",
   "execution_count": 4,
   "metadata": {},
   "outputs": [
    {
     "name": "stdout",
     "output_type": "stream",
     "text": [
      "Hiding your treasure! X marks the spot.\n",
      "['⬜️', '️⬜️', '️⬜️']\n",
      "['⬜️', '⬜️', '️⬜️']\n",
      "['⬜️️', 'X', '⬜️️']\n"
     ]
    }
   ],
   "source": [
    "line1 = [\"⬜️\",\"️⬜️\",\"️⬜️\"]\n",
    "line2 = [\"⬜️\",\"⬜️\",\"️⬜️\"]\n",
    "line3 = [\"⬜️️\",\"⬜️️\",\"⬜️️\"]\n",
    "map = [line1, line2, line3]\n",
    "print(\"Hiding your treasure! X marks the spot.\")\n",
    "position = input() # Where do you want to put the treasure?\n",
    "# 🚨 Don't change the code above 👆\n",
    "# Write your code below this row 👇\n",
    "letter = position[0].lower()\n",
    "abc = ['a','b','c']\n",
    "letter_index =  abc.index(letter)\n",
    "number_index = int(position[1])-1\n",
    "map[number_index][letter_index] = 'X'\n",
    "print(f\"{line1}\\n{line2}\\n{line3}\")\n"
   ]
  },
  {
   "cell_type": "code",
   "execution_count": 4,
   "metadata": {},
   "outputs": [
    {
     "name": "stdout",
     "output_type": "stream",
     "text": [
      "Apple\n",
      "Apple Kiwi\n",
      "Banana\n",
      "Banana Kiwi\n",
      "Grapes\n",
      "Grapes Kiwi\n",
      "Mango\n",
      "Mango Kiwi\n",
      "['Apple', 'Banana', 'Grapes', 'Mango']\n"
     ]
    }
   ],
   "source": [
    "fruits =  ['Apple','Banana','Grapes','Mango']\n",
    "for fruit in fruits:\n",
    "    print(fruit)\n",
    "    print(fruit+\" Kiwi\")\n",
    "print(fruits)\n",
    "    "
   ]
  },
  {
   "cell_type": "code",
   "execution_count": 7,
   "metadata": {},
   "outputs": [
    {
     "name": "stdout",
     "output_type": "stream",
     "text": [
      "1\n",
      "2\n",
      "3\n",
      "4\n",
      "5\n",
      "6\n",
      "7\n",
      "8\n",
      "9\n",
      "10\n"
     ]
    }
   ],
   "source": [
    "n = int(input())\n",
    "for i in range(1,n+1):\n",
    "    print(i)"
   ]
  },
  {
   "cell_type": "code",
   "execution_count": 11,
   "metadata": {},
   "outputs": [
    {
     "name": "stdout",
     "output_type": "stream",
     "text": [
      "Total height = 475\n",
      "Total students = 3\n",
      "average height = 158\n"
     ]
    }
   ],
   "source": [
    "student_height = input().split()\n",
    "for n in range(0,len(student_height)):\n",
    "    student_height[n] = int(student_height[n])\n",
    "    \n",
    "total_height = 0 \n",
    "for height in student_height:\n",
    "    total_height += height \n",
    "print(f'Total height = {total_height}')\n",
    "\n",
    "students = 0 \n",
    "for student in student_height:\n",
    "    students += 1 \n",
    "print(f'Total students = {students}')\n",
    "\n",
    "average_height = round(total_height/students)\n",
    "print(f'average height = {average_height}')"
   ]
  },
  {
   "cell_type": "code",
   "execution_count": 17,
   "metadata": {},
   "outputs": [
    {
     "name": "stdout",
     "output_type": "stream",
     "text": [
      "The highest score in the class is: 91\n"
     ]
    }
   ],
   "source": [
    "# Input a list of student scores\n",
    "student_scores = input().split()\n",
    "for n in range(0, len(student_scores)):\n",
    "  student_scores[n] = int(student_scores[n])\n",
    "\n",
    "# Write your code below this row 👇\n",
    "# print(student_scores)\n",
    "greater_score = student_scores[0]\n",
    "for heightest in student_scores:\n",
    "  if  heightest > greater_score:\n",
    "    greater_score = heightest\n",
    "  else:\n",
    "    greater_score = greater_score\n",
    "    # print(greater_score)\n",
    "print(f'The highest score in the class is: {greater_score}')"
   ]
  },
  {
   "cell_type": "code",
   "execution_count": 12,
   "metadata": {},
   "outputs": [
    {
     "name": "stdout",
     "output_type": "stream",
     "text": [
      "The highest score in the class is: 91\n"
     ]
    }
   ],
   "source": [
    "# Input a list of student scores\n",
    "student_scores = input().split()\n",
    "for n in range(0, len(student_scores)):\n",
    "  student_scores[n] = int(student_scores[n])\n",
    "\n",
    "heighest_score = 0 \n",
    "for score in student_scores:\n",
    "    if score > heighest_score:\n",
    "        heighest_score = score\n",
    "        \n",
    "print(f'The highest score in the class is: {heighest_score}')"
   ]
  },
  {
   "cell_type": "code",
   "execution_count": 19,
   "metadata": {},
   "outputs": [
    {
     "name": "stdout",
     "output_type": "stream",
     "text": [
      "5050\n"
     ]
    }
   ],
   "source": [
    "total = 0\n",
    "for i in range(1,101):\n",
    "    total += i \n",
    "print(total)"
   ]
  },
  {
   "cell_type": "code",
   "execution_count": 21,
   "metadata": {},
   "outputs": [
    {
     "name": "stdout",
     "output_type": "stream",
     "text": [
      "2550\n"
     ]
    }
   ],
   "source": [
    "target = int(input())\n",
    "total_even_number = 0 \n",
    "for even in range(2,target+1,2):\n",
    "    total_even_number += even\n",
    "print(total_even_number)"
   ]
  },
  {
   "cell_type": "code",
   "execution_count": 25,
   "metadata": {},
   "outputs": [
    {
     "name": "stdout",
     "output_type": "stream",
     "text": [
      "1\n",
      "2\n",
      "Fizz\n",
      "4\n",
      "Buzz\n",
      "Fizz\n",
      "7\n",
      "8\n",
      "Fizz\n",
      "Buzz\n",
      "11\n",
      "Fizz\n",
      "13\n",
      "14\n",
      "FizzBuzz\n",
      "16\n",
      "17\n",
      "Fizz\n",
      "19\n",
      "Buzz\n",
      "Fizz\n",
      "22\n",
      "23\n",
      "Fizz\n",
      "Buzz\n",
      "26\n",
      "Fizz\n",
      "28\n",
      "29\n",
      "FizzBuzz\n",
      "31\n",
      "32\n",
      "Fizz\n",
      "34\n",
      "Buzz\n",
      "Fizz\n",
      "37\n",
      "38\n",
      "Fizz\n",
      "Buzz\n",
      "41\n",
      "Fizz\n",
      "43\n",
      "44\n",
      "FizzBuzz\n",
      "46\n",
      "47\n",
      "Fizz\n",
      "49\n",
      "Buzz\n",
      "Fizz\n",
      "52\n",
      "53\n",
      "Fizz\n",
      "Buzz\n",
      "56\n",
      "Fizz\n",
      "58\n",
      "59\n",
      "FizzBuzz\n",
      "61\n",
      "62\n",
      "Fizz\n",
      "64\n",
      "Buzz\n",
      "Fizz\n",
      "67\n",
      "68\n",
      "Fizz\n",
      "Buzz\n",
      "71\n",
      "Fizz\n",
      "73\n",
      "74\n",
      "FizzBuzz\n",
      "76\n",
      "77\n",
      "Fizz\n",
      "79\n",
      "Buzz\n",
      "Fizz\n",
      "82\n",
      "83\n",
      "Fizz\n",
      "Buzz\n",
      "86\n",
      "Fizz\n",
      "88\n",
      "89\n",
      "FizzBuzz\n",
      "91\n",
      "92\n",
      "Fizz\n",
      "94\n",
      "Buzz\n",
      "Fizz\n",
      "97\n",
      "98\n",
      "Fizz\n",
      "Buzz\n"
     ]
    }
   ],
   "source": [
    "target = 100\n",
    "for number in range(1,target+1):\n",
    "    if number%3 == 0 and number % 5 ==0:\n",
    "        print(\"FizzBuzz\")\n",
    "    elif number%3 == 0:\n",
    "        print(\"Fizz\")\n",
    "    elif number%5==0:\n",
    "        print(\"Buzz\")\n",
    "    else:\n",
    "        print(number)"
   ]
  },
  {
   "cell_type": "code",
   "execution_count": 37,
   "metadata": {},
   "outputs": [
    {
     "name": "stdout",
     "output_type": "stream",
     "text": [
      "Welcome to the PyPassword Generator!\n",
      "['S', 'E', 'T', 'h', 'D', 'R', '4', '(', '&']\n",
      "['4', 'E', 'h', '(', 'D', '&', 'R', 'T', 'S']\n",
      "You are password is 4Eh(D&RTS\n"
     ]
    }
   ],
   "source": [
    "#Password Generator Project\n",
    "import random\n",
    "letters = ['a', 'b', 'c', 'd', 'e', 'f', 'g', 'h', 'i', 'j', 'k', 'l', 'm', 'n', 'o', 'p', 'q', 'r', 's', 't', 'u', 'v', 'w', 'x', 'y', 'z', 'A', 'B', 'C', 'D', 'E', 'F', 'G', 'H', 'I', 'J', 'K', 'L', 'M', 'N', 'O', 'P', 'Q', 'R', 'S', 'T', 'U', 'V', 'W', 'X', 'Y', 'Z']\n",
    "numbers = ['0', '1', '2', '3', '4', '5', '6', '7', '8', '9']\n",
    "symbols = ['!', '#', '$', '%', '&', '(', ')', '*', '+']\n",
    "\n",
    "print(\"Welcome to the PyPassword Generator!\")\n",
    "nr_letters= int(input(\"How many letters would you like in your password?\\n\")) \n",
    "nr_symbols = int(input(f\"How many symbols would you like?\\n\"))\n",
    "nr_numbers = int(input(f\"How many numbers would you like?\\n\"))\n",
    "\n",
    "#Eazy Level - Order not randomised:\n",
    "#e.g. 4 letter, 2 symbol, 2 number = JduE&!91\n",
    "# password = \"\" \n",
    "# for char in range(1,nr_letters+1):\n",
    "#     password += random.choice(letters)\n",
    "#     # print(random_char)\n",
    "# for number in range(1,nr_numbers+1):\n",
    "#     password += random.choice(numbers)\n",
    "#     # print(random_number)\n",
    "# for symbol in range(1,nr_symbols+1):\n",
    "#     password += random.choice(symbols)\n",
    "\n",
    "\n",
    "# print(password)\n",
    "#Hard Level - Order of characters randomised:\n",
    "#e.g. 4 letter, 2 symbol, 2 number = g^2jk8&P\n",
    "password_list = [] \n",
    "for char in range(1,nr_letters+1):\n",
    "    password_list += random.choice(letters)\n",
    "    # print(random_char)\n",
    "for number in range(1,nr_numbers+1):\n",
    "    password_list += random.choice(numbers)\n",
    "    # print(random_number)\n",
    "for symbol in range(1,nr_symbols+1):\n",
    "    password_list += random.choice(symbols)\n",
    "\n",
    "print(password_list)\n",
    "random.shuffle(password_list)\n",
    "print(password_list)\n",
    "\n",
    "password = \"\"\n",
    "for char in password_list:\n",
    "    password += char\n",
    "print(f\"You are password is {password}\")\n"
   ]
  },
  {
   "cell_type": "code",
   "execution_count": 13,
   "metadata": {},
   "outputs": [
    {
     "name": "stdout",
     "output_type": "stream",
     "text": [
      "Wrong\n",
      "Wrong\n",
      "Wrong\n",
      "Wrong\n",
      "Wrong\n",
      "Right\n"
     ]
    }
   ],
   "source": [
    "import random\n",
    "word_list = ['vamshi','krishna','shriya','sreeja','himaja']\n",
    "#TODO-1 - Randomly choose a word from the word_list and assign it to a variable called chosen_word\n",
    "random_word = random.choice(word_list)\n",
    "#TODO-2 - Ask the user to guess a letter and assign their answer to a variable called guess. Make guess lowercase.\n",
    "guess = input(\"Guss a letter: \").lower()\n",
    "#TODO-3 - Check if the letter the user guessed (guess) is one of the leters in the chosen_word.\n",
    "for letter in random_word:\n",
    "    if letter == guess:\n",
    "        print(\"Right\")\n",
    "    else:\n",
    "        print(\"Wrong\")"
   ]
  },
  {
   "cell_type": "code",
   "execution_count": 1,
   "metadata": {},
   "outputs": [
    {
     "name": "stdout",
     "output_type": "stream",
     "text": [
      "Wrong\n",
      "Right\n",
      "Wrong\n",
      "Wrong\n",
      "Wrong\n"
     ]
    }
   ],
   "source": [
    "#Step 1 \n",
    "\n",
    "word_list = [\"aardvark\", \"baboon\", \"camel\"]\n",
    "\n",
    "#TODO-1 - Randomly choose a word from the word_list and assign it to a variable called chosen_word.\n",
    "import random \n",
    "chosen_word = random.choice(word_list)\n",
    "#TODO-2 - Ask the user to guess a letter and assign their answer to a variable called guess. Make guess lowercase.\n",
    "guess = input(\"Guess a letter\").lower()\n",
    "#TODO-3 - Check if the letter the user guessed (guess) is one of the letters in the chosen_word.\n",
    "for letter in chosen_word:\n",
    "    if letter == guess:\n",
    "        print(\"Right\")\n",
    "    else:\n",
    "        print(\"Wrong\")\n",
    "        "
   ]
  },
  {
   "cell_type": "code",
   "execution_count": 16,
   "metadata": {},
   "outputs": [
    {
     "name": "stdout",
     "output_type": "stream",
     "text": [
      "Pssst, the solution is baboon.\n",
      "['_', '_', '_', '_', '_', '_']\n",
      "['b', '_', 'b', '_', '_', '_']\n"
     ]
    }
   ],
   "source": [
    "#Step 2\n",
    "\n",
    "import random\n",
    "word_list = [\"aardvark\", \"baboon\", \"camel\"]\n",
    "chosen_word = random.choice(word_list)\n",
    "\n",
    "#Testing code\n",
    "print(f'Pssst, the solution is {chosen_word}.')\n",
    "\n",
    "#TODO-1: - Create an empty List called display.\n",
    "#For each letter in the chosen_word, add a \"_\" to 'display'.\n",
    "#So if the chosen_word was \"apple\", display should be [\"_\", \"_\", \"_\", \"_\", \"_\"] with 5 \"_\" representing each letter to guess.\n",
    "display = []\n",
    "word_length = len(chosen_word)\n",
    "for _ in range(word_length):\n",
    "    display += '_'\n",
    "print(display)\n",
    "guess = input(\"Guess a letter: \").lower()\n",
    "#TODO-2: - Loop through each position in the chosen_word;\n",
    "#If the letter at that position matches 'guess' then reveal that letter in the display at that position.\n",
    "#e.g. If the user guessed \"p\" and the chosen word was \"apple\", then display should be [\"_\", \"p\", \"p\", \"_\", \"_\"].\n",
    "for postion in range(word_length):\n",
    "    letter = chosen_word[postion]   \n",
    "    if letter == guess:\n",
    "        display[postion] = letter\n",
    "\n",
    "#TODO-3: - Print 'display' and you should see the guessed letter in the correct position and every other letter replace with \"_\".\n",
    "#Hint - Don't worry about getting the user to guess the next letter. We'll tackle that in step 3.\n",
    "print(display)"
   ]
  },
  {
   "cell_type": "code",
   "execution_count": 19,
   "metadata": {},
   "outputs": [
    {
     "name": "stdout",
     "output_type": "stream",
     "text": [
      "Pssst, the solution is camel.\n",
      "Current position: 0\n",
      " Current letter: c\n",
      " Guessed letter: c\n",
      "Current position: 1\n",
      " Current letter: a\n",
      " Guessed letter: c\n",
      "Current position: 2\n",
      " Current letter: m\n",
      " Guessed letter: c\n",
      "Current position: 3\n",
      " Current letter: e\n",
      " Guessed letter: c\n",
      "Current position: 4\n",
      " Current letter: l\n",
      " Guessed letter: c\n",
      "['c', '_', '_', '_', '_']\n",
      "Current position: 0\n",
      " Current letter: c\n",
      " Guessed letter: a\n",
      "Current position: 1\n",
      " Current letter: a\n",
      " Guessed letter: a\n",
      "Current position: 2\n",
      " Current letter: m\n",
      " Guessed letter: a\n",
      "Current position: 3\n",
      " Current letter: e\n",
      " Guessed letter: a\n",
      "Current position: 4\n",
      " Current letter: l\n",
      " Guessed letter: a\n",
      "['c', 'a', '_', '_', '_']\n",
      "Current position: 0\n",
      " Current letter: c\n",
      " Guessed letter: m\n",
      "Current position: 1\n",
      " Current letter: a\n",
      " Guessed letter: m\n",
      "Current position: 2\n",
      " Current letter: m\n",
      " Guessed letter: m\n",
      "Current position: 3\n",
      " Current letter: e\n",
      " Guessed letter: m\n",
      "Current position: 4\n",
      " Current letter: l\n",
      " Guessed letter: m\n",
      "['c', 'a', 'm', '_', '_']\n",
      "Current position: 0\n",
      " Current letter: c\n",
      " Guessed letter: e\n",
      "Current position: 1\n",
      " Current letter: a\n",
      " Guessed letter: e\n",
      "Current position: 2\n",
      " Current letter: m\n",
      " Guessed letter: e\n",
      "Current position: 3\n",
      " Current letter: e\n",
      " Guessed letter: e\n",
      "Current position: 4\n",
      " Current letter: l\n",
      " Guessed letter: e\n",
      "['c', 'a', 'm', 'e', '_']\n",
      "Current position: 0\n",
      " Current letter: c\n",
      " Guessed letter: l\n",
      "Current position: 1\n",
      " Current letter: a\n",
      " Guessed letter: l\n",
      "Current position: 2\n",
      " Current letter: m\n",
      " Guessed letter: l\n",
      "Current position: 3\n",
      " Current letter: e\n",
      " Guessed letter: l\n",
      "Current position: 4\n",
      " Current letter: l\n",
      " Guessed letter: l\n",
      "['c', 'a', 'm', 'e', 'l']\n",
      "You Win\n"
     ]
    }
   ],
   "source": [
    "#Step 3\n",
    "\n",
    "import random\n",
    "word_list = [\"aardvark\", \"baboon\", \"camel\"]\n",
    "chosen_word = random.choice(word_list)\n",
    "word_length = len(chosen_word)\n",
    "\n",
    "#Testing code\n",
    "print(f'Pssst, the solution is {chosen_word}.')\n",
    "\n",
    "#Create blanks\n",
    "display = []\n",
    "for _ in range(word_length):\n",
    "    display += \"_\"\n",
    "\n",
    "#TODO-1: - Use a while loop to let the user guess again. The loop should only stop once the user has guessed all the letters in the chosen_word and 'display' has no more blanks (\"_\"). Then you can tell the user they've won.\n",
    "end_of_game = False\n",
    "while not end_of_game:\n",
    "    guess = input(\"Guess a letter: \").lower()\n",
    "\n",
    "    #Check guessed letter\n",
    "    for position in range(word_length):\n",
    "        letter = chosen_word[position]\n",
    "        print(f\"Current position: {position}\\n Current letter: {letter}\\n Guessed letter: {guess}\")\n",
    "        if letter == guess:\n",
    "            display[position] = letter\n",
    "\n",
    "    print(display)\n",
    "    \n",
    "    if '_' not in display:\n",
    "        end_of_game = True\n",
    "        print(\"You Win\")"
   ]
  },
  {
   "cell_type": "code",
   "execution_count": 24,
   "metadata": {},
   "outputs": [
    {
     "name": "stdout",
     "output_type": "stream",
     "text": [
      "Pssst, the solution is ardvark.\n",
      "a _ _ _ a _ _\n",
      "\n",
      "  +---+\n",
      "  |   |\n",
      "      |\n",
      "      |\n",
      "      |\n",
      "      |\n",
      "=========\n",
      "\n",
      "a r _ _ a r _\n",
      "\n",
      "  +---+\n",
      "  |   |\n",
      "      |\n",
      "      |\n",
      "      |\n",
      "      |\n",
      "=========\n",
      "\n",
      "a r _ v a r _\n",
      "\n",
      "  +---+\n",
      "  |   |\n",
      "      |\n",
      "      |\n",
      "      |\n",
      "      |\n",
      "=========\n",
      "\n",
      "a r d v a r _\n",
      "\n",
      "  +---+\n",
      "  |   |\n",
      "      |\n",
      "      |\n",
      "      |\n",
      "      |\n",
      "=========\n",
      "\n",
      "a r d v a r _\n",
      "\n",
      "  +---+\n",
      "  |   |\n",
      "      |\n",
      "      |\n",
      "      |\n",
      "      |\n",
      "=========\n",
      "\n",
      "a r d v a r k\n",
      "You win.\n",
      "\n",
      "  +---+\n",
      "  |   |\n",
      "      |\n",
      "      |\n",
      "      |\n",
      "      |\n",
      "=========\n",
      "\n"
     ]
    }
   ],
   "source": [
    "#Step 4\n",
    "\n",
    "import random\n",
    "\n",
    "stages = ['''\n",
    "  +---+\n",
    "  |   |\n",
    "  O   |\n",
    " /|\\  |\n",
    " / \\  |\n",
    "      |\n",
    "=========\n",
    "''', '''\n",
    "  +---+\n",
    "  |   |\n",
    "  O   |\n",
    " /|\\  |\n",
    " /    |\n",
    "      |\n",
    "=========\n",
    "''', '''\n",
    "  +---+\n",
    "  |   |\n",
    "  O   |\n",
    " /|\\  |\n",
    "      |\n",
    "      |\n",
    "=========\n",
    "''', '''\n",
    "  +---+\n",
    "  |   |\n",
    "  O   |\n",
    " /|   |\n",
    "      |\n",
    "      |\n",
    "=========''', '''\n",
    "  +---+\n",
    "  |   |\n",
    "  O   |\n",
    "  |   |\n",
    "      |\n",
    "      |\n",
    "=========\n",
    "''', '''\n",
    "  +---+\n",
    "  |   |\n",
    "  O   |\n",
    "      |\n",
    "      |\n",
    "      |\n",
    "=========\n",
    "''', '''\n",
    "  +---+\n",
    "  |   |\n",
    "      |\n",
    "      |\n",
    "      |\n",
    "      |\n",
    "=========\n",
    "''']\n",
    "\n",
    "end_of_game = False\n",
    "word_list = [\"ardvark\", \"baboon\", \"camel\"]\n",
    "chosen_word = random.choice(word_list)\n",
    "word_length = len(chosen_word)\n",
    "\n",
    "#TODO-1: - Create a variable called 'lives' to keep track of the number of lives left. \n",
    "#Set 'lives' to equal 6.\n",
    "lives = 6\n",
    "#Testing code\n",
    "print(f'Pssst, the solution is {chosen_word}.')\n",
    "\n",
    "#Create blanks\n",
    "display = []\n",
    "for _ in range(word_length):\n",
    "    display += \"_\"\n",
    "\n",
    "while not end_of_game:\n",
    "    guess = input(\"Guess a letter: \").lower()\n",
    "\n",
    "    #Check guessed letter\n",
    "    for position in range(word_length):\n",
    "        letter = chosen_word[position]\n",
    "        # print(f\"Current position: {position}\\n Current letter: {letter}\\n Guessed letter: {guess}\")\n",
    "        if letter == guess:\n",
    "            display[position] = letter\n",
    "\n",
    "    #TODO-2: - If guess is not a letter in the chosen_word,\n",
    "    #Then reduce 'lives' by 1. \n",
    "    #If lives goes down to 0 then the game should stop and it should print \"You lose.\"\n",
    "    if guess not in chosen_word:\n",
    "        lives -=1\n",
    "        if lives == 0:\n",
    "            end_of_game = True \n",
    "            print(\"You lose\")\n",
    "    #Join all the elements in the list and turn it into a String.\n",
    "    print(f\"{' '.join(display)}\")\n",
    "\n",
    "    #Check if user has got all letters.\n",
    "    if \"_\" not in display:\n",
    "        end_of_game = True\n",
    "        print(\"You win.\")\n",
    "\n",
    "    #TODO-3: - print the ASCII art from 'stages' that corresponds to the current number of 'lives' the user has remaining.\n",
    "    print(stages[lives])"
   ]
  },
  {
   "cell_type": "code",
   "execution_count": null,
   "metadata": {},
   "outputs": [],
   "source": []
  }
 ],
 "metadata": {
  "kernelspec": {
   "display_name": "Python 3",
   "language": "python",
   "name": "python3"
  },
  "language_info": {
   "codemirror_mode": {
    "name": "ipython",
    "version": 3
   },
   "file_extension": ".py",
   "mimetype": "text/x-python",
   "name": "python",
   "nbconvert_exporter": "python",
   "pygments_lexer": "ipython3",
   "version": "3.11.2"
  }
 },
 "nbformat": 4,
 "nbformat_minor": 2
}
