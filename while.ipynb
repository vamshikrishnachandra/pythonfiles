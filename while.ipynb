{
 "cells": [
  {
   "attachments": {},
   "cell_type": "markdown",
   "metadata": {},
   "source": [
    "1. WAP to print the “hello world” for 5 times by using a while loop."
   ]
  },
  {
   "cell_type": "code",
   "execution_count": null,
   "metadata": {},
   "outputs": [],
   "source": [
    "start = 1\n",
    "end = 5\n",
    "while start<=end:\n",
    "    print(\"Hello World\")\n",
    "    start += 1"
   ]
  },
  {
   "attachments": {},
   "cell_type": "markdown",
   "metadata": {},
   "source": [
    "2. WAP to print the number from 1 to 10 by using a while loop."
   ]
  },
  {
   "cell_type": "code",
   "execution_count": null,
   "metadata": {},
   "outputs": [],
   "source": [
    "start = 1 \n",
    "end = 10 \n",
    "while start<=end:\n",
    "    print(start)\n",
    "    start+=1"
   ]
  },
  {
   "attachments": {},
   "cell_type": "markdown",
   "metadata": {},
   "source": [
    "3. WAP to print the natural number until 1 to nth times by using a while loop."
   ]
  },
  {
   "cell_type": "code",
   "execution_count": null,
   "metadata": {},
   "outputs": [],
   "source": [
    "start = 1 \n",
    "end = eval(input())\n",
    "while start<=end:\n",
    "    print(start)\n",
    "    start += 1\n"
   ]
  },
  {
   "attachments": {},
   "cell_type": "markdown",
   "metadata": {},
   "source": [
    "4. WAP to print the reverse of the natural number nth to 0 times by using a while loop."
   ]
  },
  {
   "cell_type": "code",
   "execution_count": null,
   "metadata": {},
   "outputs": [],
   "source": [
    "start = eval(input())\n",
    "end = 0 \n",
    "while start>=end:\n",
    "    print(start)\n",
    "    start-=1 "
   ]
  },
  {
   "attachments": {},
   "cell_type": "markdown",
   "metadata": {},
   "source": [
    "5. WAP to print the whole number until nth times by using a while loop."
   ]
  },
  {
   "cell_type": "code",
   "execution_count": null,
   "metadata": {},
   "outputs": [],
   "source": [
    "start = 0 \n",
    "end = eval(input())\n",
    "while start<=end:\n",
    "    print(start)\n",
    "    start+=1"
   ]
  },
  {
   "attachments": {},
   "cell_type": "markdown",
   "metadata": {},
   "source": [
    "6. WAP to print the reverse of the whole number until nth times by using a while loop."
   ]
  },
  {
   "cell_type": "code",
   "execution_count": null,
   "metadata": {},
   "outputs": [],
   "source": [
    "start = eval(input())\n",
    "end = 0 \n",
    "while start>=0:\n",
    "    print(start)\n",
    "    start-=1"
   ]
  },
  {
   "attachments": {},
   "cell_type": "markdown",
   "metadata": {},
   "source": [
    "7. WAP to print the even number until nth times by using a while loop.\n"
   ]
  },
  {
   "cell_type": "code",
   "execution_count": null,
   "metadata": {},
   "outputs": [],
   "source": [
    "end = eval(input())\n",
    "start = 2 \n",
    "while start<=end:\n",
    "    if start%2==0:\n",
    "        print(start)\n",
    "    start+=1 \n",
    "    \n"
   ]
  },
  {
   "attachments": {},
   "cell_type": "markdown",
   "metadata": {},
   "source": [
    "8. WAP to print reserve the even number until nth times by using a while"
   ]
  },
  {
   "cell_type": "code",
   "execution_count": null,
   "metadata": {},
   "outputs": [],
   "source": [
    "start = eval(input())\n",
    "end = 2 \n",
    "while start>=end:\n",
    "    if(start%2)==0:\n",
    "        print(start)\n",
    "    start-=1"
   ]
  },
  {
   "attachments": {},
   "cell_type": "markdown",
   "metadata": {},
   "source": [
    "9. WAP to print the odd number until nth times by using a while loop."
   ]
  },
  {
   "cell_type": "code",
   "execution_count": null,
   "metadata": {},
   "outputs": [],
   "source": [
    "start = 1 \n",
    "end = eval(input())\n",
    "while start<=end:\n",
    "    if(start)%2!=0:\n",
    "        print(start)\n",
    "    start+=1"
   ]
  },
  {
   "attachments": {},
   "cell_type": "markdown",
   "metadata": {},
   "source": [
    "10. WAP to print reserve the odd number until nth times by using a while loop."
   ]
  },
  {
   "cell_type": "code",
   "execution_count": null,
   "metadata": {},
   "outputs": [],
   "source": [
    "start = eval(input())\n",
    "end = 1 \n",
    "while start>=end:\n",
    "    if(start%2)!=0:\n",
    "        print(start)\n",
    "    start-=1\n",
    "        "
   ]
  },
  {
   "attachments": {},
   "cell_type": "markdown",
   "metadata": {},
   "source": [
    "11. WAP to print the nth table 1 to 20, format ==> 5 * 1 = 5 to 5 * 20 = 100"
   ]
  },
  {
   "cell_type": "code",
   "execution_count": 54,
   "metadata": {},
   "outputs": [
    {
     "name": "stdout",
     "output_type": "stream",
     "text": [
      "7 X 1 = 7\n",
      "7 X 2 = 14\n",
      "7 X 3 = 21\n",
      "7 X 4 = 28\n",
      "7 X 5 = 35\n",
      "7 X 6 = 42\n",
      "7 X 7 = 49\n",
      "7 X 8 = 56\n",
      "7 X 9 = 63\n",
      "7 X 10 = 70\n",
      "7 X 11 = 77\n",
      "7 X 12 = 84\n",
      "7 X 13 = 91\n",
      "7 X 14 = 98\n",
      "7 X 15 = 105\n",
      "7 X 16 = 112\n",
      "7 X 17 = 119\n",
      "7 X 18 = 126\n",
      "7 X 19 = 133\n",
      "7 X 20 = 140\n"
     ]
    }
   ],
   "source": [
    "n = eval(input())\n",
    "start = 1 \n",
    "while start<=20:\n",
    "    print(str(n) + \" X \" +str(start)+ \" = \" + str(n*start))\n",
    "    start+=1"
   ]
  },
  {
   "attachments": {},
   "cell_type": "markdown",
   "metadata": {},
   "source": [
    "12. WAP to print the nth table 20 to 1, format ==> 5 * 20 = 100 to 5 * 1 = 5"
   ]
  },
  {
   "cell_type": "code",
   "execution_count": 55,
   "metadata": {},
   "outputs": [
    {
     "name": "stdout",
     "output_type": "stream",
     "text": [
      "9*20=180\n",
      "9*19=171\n",
      "9*18=162\n",
      "9*17=153\n",
      "9*16=144\n",
      "9*15=135\n",
      "9*14=126\n",
      "9*13=117\n",
      "9*12=108\n",
      "9*11=99\n",
      "9*10=90\n",
      "9*9=81\n",
      "9*8=72\n",
      "9*7=63\n",
      "9*6=54\n",
      "9*5=45\n",
      "9*4=36\n",
      "9*3=27\n",
      "9*2=18\n",
      "9*1=9\n"
     ]
    }
   ],
   "source": [
    "n = eval(input())\n",
    "start = 20 \n",
    "end = 1 \n",
    "while start>=end:\n",
    "    print(str(n)+ \"*\" + str(start) + \"=\" + str(n*start))\n",
    "    start -=1\n",
    "    "
   ]
  },
  {
   "attachments": {},
   "cell_type": "markdown",
   "metadata": {},
   "source": [
    "13. WAP to print the numbers which are divisible by 3 from 25 to 66."
   ]
  },
  {
   "cell_type": "code",
   "execution_count": null,
   "metadata": {},
   "outputs": [],
   "source": [
    "start = 25 \n",
    "end = 66 \n",
    "while start<=end:\n",
    "    if start%3 ==0:\n",
    "        print(start,end=\" \")\n",
    "    start += 1 "
   ]
  },
  {
   "attachments": {},
   "cell_type": "markdown",
   "metadata": {},
   "source": [
    "14. WAP to print the numbers which are divisible by 3 and 5 from 15 to 76."
   ]
  },
  {
   "cell_type": "code",
   "execution_count": null,
   "metadata": {},
   "outputs": [],
   "source": [
    "start = 15 \n",
    "end = 76 \n",
    "while start<=end:\n",
    "    if start%3 ==0 and start%5==0:\n",
    "        print(start,end=\" \")\n",
    "    start += 1 "
   ]
  },
  {
   "attachments": {},
   "cell_type": "markdown",
   "metadata": {},
   "source": [
    "15. WAP to print the numbers which are divisible by 5 and 7 from 77 to 22."
   ]
  },
  {
   "cell_type": "code",
   "execution_count": null,
   "metadata": {},
   "outputs": [],
   "source": [
    "start = 77 \n",
    "end = 22 \n",
    "while start>=end:\n",
    "    if start%3 ==0 and start%7==0:\n",
    "        print(start,end=\" \")\n",
    "    start -= 1 "
   ]
  },
  {
   "attachments": {},
   "cell_type": "markdown",
   "metadata": {},
   "source": [
    "16. WAP to print the ”love you” if value is divisible by 3, or print “hate you” value is\n",
    "divisible by 5, to print “i like you” if divisible by 3 and 5, from 1 to 30."
   ]
  },
  {
   "cell_type": "code",
   "execution_count": null,
   "metadata": {},
   "outputs": [],
   "source": [
    "start = 1 \n",
    "end = 30 \n",
    "while start<=end:\n",
    "    if start%3==0:\n",
    "        print(\"I love you\")\n",
    "    elif start%5==0:\n",
    "        print(\"I hate you\")\n",
    "    elif start%3==0 and start%5==0:\n",
    "        print(\"I like you\")\n",
    "    start+=1"
   ]
  },
  {
   "cell_type": "code",
   "execution_count": 56,
   "metadata": {},
   "outputs": [
    {
     "name": "stdout",
     "output_type": "stream",
     "text": [
      "3\n",
      "5\n",
      "6\n",
      "9\n",
      "10\n",
      "12\n",
      "15\n",
      "18\n",
      "20\n",
      "21\n",
      "24\n",
      "25\n",
      "27\n",
      "30\n"
     ]
    }
   ],
   "source": [
    "start = 1 \n",
    "end = 30 \n",
    "while start<=end:\n",
    "    if start%3==0:\n",
    "        print(start)\n",
    "    elif start%5==0:\n",
    "        print(start)\n",
    "    elif start%3==0 and start%5==0:\n",
    "        print(start)\n",
    "    start+=1"
   ]
  },
  {
   "attachments": {},
   "cell_type": "markdown",
   "metadata": {},
   "source": [
    "17. WAP to print sum of the 1 to nth natural numbers."
   ]
  },
  {
   "cell_type": "code",
   "execution_count": null,
   "metadata": {},
   "outputs": [],
   "source": [
    "start = 1 \n",
    "end = eval(input())\n",
    "sum = 0 \n",
    "while start<=end:\n",
    "    sum = sum + start \n",
    "    start+=1 \n",
    "print(sum)\n",
    "    "
   ]
  },
  {
   "attachments": {},
   "cell_type": "markdown",
   "metadata": {},
   "source": [
    "18. WAP to print sum of the even numbers 1 to 20 numbers."
   ]
  },
  {
   "cell_type": "code",
   "execution_count": null,
   "metadata": {},
   "outputs": [],
   "source": [
    "start = 2 \n",
    "end = eval(input())\n",
    "sum = 0\n",
    "while start<=end:\n",
    "    if(start%2)==0:\n",
    "        sum = sum + start\n",
    "    start+=1 \n",
    "print(sum)\n",
    "    "
   ]
  },
  {
   "attachments": {},
   "cell_type": "markdown",
   "metadata": {},
   "source": [
    "19. WAP to print products of the 1 to 6 numbers."
   ]
  },
  {
   "cell_type": "code",
   "execution_count": null,
   "metadata": {},
   "outputs": [],
   "source": [
    "start = 1 \n",
    "end = 6\n",
    "prod = 1 \n",
    "while start<=end:\n",
    "    prod = prod * start\n",
    "    start += 1\n",
    "print(prod)     \n"
   ]
  },
  {
   "attachments": {},
   "cell_type": "markdown",
   "metadata": {},
   "source": [
    "20. WAP to count the no of odd values from 1 to 30 numbers."
   ]
  },
  {
   "cell_type": "code",
   "execution_count": null,
   "metadata": {},
   "outputs": [],
   "source": [
    "start = 2 \n",
    "end = 30 \n",
    "count = 0 \n",
    "while start<=end:\n",
    "    if(start)%2!=0:\n",
    "        count+=1 \n",
    "    start+=1 \n",
    "print(count)"
   ]
  },
  {
   "attachments": {},
   "cell_type": "markdown",
   "metadata": {},
   "source": [
    "21. WAP to print the factors of the given number."
   ]
  },
  {
   "cell_type": "code",
   "execution_count": 57,
   "metadata": {},
   "outputs": [
    {
     "name": "stdout",
     "output_type": "stream",
     "text": [
      "1\n",
      "2\n",
      "3\n",
      "6\n"
     ]
    }
   ],
   "source": [
    "a = eval(input())\n",
    "start = 1 \n",
    "while start<=a:\n",
    "    if(a%start)==0:\n",
    "        print(start)\n",
    "    start += 1 "
   ]
  },
  {
   "attachments": {},
   "cell_type": "markdown",
   "metadata": {},
   "source": [
    "22. WAP to sum of the factors of the given number."
   ]
  },
  {
   "cell_type": "code",
   "execution_count": null,
   "metadata": {},
   "outputs": [],
   "source": [
    "a = eval(input())\n",
    "start = 1 \n",
    "sum = 0 \n",
    "while start<=a:\n",
    "    if(a%start)==0:\n",
    "        sum = sum + start\n",
    "    start+=1\n",
    "print(sum)"
   ]
  },
  {
   "attachments": {},
   "cell_type": "markdown",
   "metadata": {},
   "source": [
    "23. WAP to prod of the factors of the given number."
   ]
  },
  {
   "cell_type": "code",
   "execution_count": null,
   "metadata": {},
   "outputs": [],
   "source": [
    "a  = eval(input())\n",
    "start = 1 \n",
    "prod = 1 \n",
    "while start<=a:\n",
    "    if(a%start)==0:\n",
    "        prod = prod * start\n",
    "    start+=1 \n",
    "print(prod)"
   ]
  },
  {
   "attachments": {},
   "cell_type": "markdown",
   "metadata": {},
   "source": [
    "24. WAP to print Fibonacci series 0 to nth."
   ]
  },
  {
   "cell_type": "code",
   "execution_count": 58,
   "metadata": {},
   "outputs": [],
   "source": [
    "end = eval(input())\n",
    "while end<=0:\n",
    "    if end < 0:\n",
    "        print(\"Invaild number\")\n",
    "    elif end == 0 :\n",
    "        print(0)\n",
    "    elif  end == 1 or end == 2 :\n",
    "        print(1)\n",
    "    else:\n",
    "        print((end-1)+(end-2))"
   ]
  },
  {
   "attachments": {},
   "cell_type": "markdown",
   "metadata": {},
   "source": [
    "25. WAP to find out the factorial number of a given number."
   ]
  },
  {
   "cell_type": "code",
   "execution_count": 59,
   "metadata": {},
   "outputs": [
    {
     "name": "stdout",
     "output_type": "stream",
     "text": [
      "5040\n"
     ]
    }
   ],
   "source": [
    "number = eval(input())\n",
    "start = 1 \n",
    "prod = 1 \n",
    "while start<=number:\n",
    "    prod = prod * start\n",
    "    start += 1\n",
    "print(prod)"
   ]
  },
  {
   "attachments": {},
   "cell_type": "markdown",
   "metadata": {},
   "source": [
    "26. WAP to print the factorial numbers in the given range m to n."
   ]
  },
  {
   "cell_type": "code",
   "execution_count": 60,
   "metadata": {},
   "outputs": [
    {
     "name": "stdout",
     "output_type": "stream",
     "text": [
      "1\n"
     ]
    }
   ],
   "source": [
    "m = eval(input())\n",
    "n = eval(input())\n",
    "prod = 1 \n",
    "while m<=n:\n",
    "    prod = prod * m \n",
    "    m+=1 \n",
    "print(prod)"
   ]
  },
  {
   "attachments": {},
   "cell_type": "markdown",
   "metadata": {},
   "source": [
    "27. WAP to check whether a given number is a prime number or not."
   ]
  },
  {
   "cell_type": "code",
   "execution_count": null,
   "metadata": {},
   "outputs": [],
   "source": [
    "a = eval(input())\n",
    "factors = 0 \n",
    "start = 1 \n",
    "while start<=a:\n",
    "    if(a%start)==0:\n",
    "        factors = factors + 1 \n",
    "    start+=1 \n",
    "if(factors==2):\n",
    "    print(\"Prime number\")\n",
    "else:\n",
    "    print(\"Not a prime number\")"
   ]
  },
  {
   "attachments": {},
   "cell_type": "markdown",
   "metadata": {},
   "source": [
    "28. WAP to print the prime numbers in the given range m to n."
   ]
  },
  {
   "cell_type": "code",
   "execution_count": null,
   "metadata": {},
   "outputs": [],
   "source": [
    "m = eval(input())\n",
    "n  = eval(input())\n",
    "while m<=n:\n",
    "    i = m\n",
    "    start = 2 \n",
    "    while start<i:\n",
    "        if(i%start)==0:\n",
    "            break\n",
    "        start += 1 \n",
    "    else:\n",
    "        print(m,end = \" \")\n",
    "    m+=1"
   ]
  },
  {
   "attachments": {},
   "cell_type": "markdown",
   "metadata": {},
   "source": [
    "29. WAP to check whether a given number is an armstrong number or not."
   ]
  },
  {
   "cell_type": "code",
   "execution_count": null,
   "metadata": {},
   "outputs": [],
   "source": [
    "n = int(input())\n",
    "temp = n\n",
    "temp1 = n \n",
    "count = 0 \n",
    "while n:\n",
    "    n = n //10\n",
    "    count += 1 \n",
    "sum1 = 0 \n",
    "while temp:\n",
    "    d = temp%10\n",
    "    sum1 = sum1 + (d**count)\n",
    "    temp = temp//10 \n",
    "if sum1 == temp1:\n",
    "    print(\"Armstong number\")\n",
    "else:\n",
    "    print(\"Not a Arm strongnumber\")\n"
   ]
  },
  {
   "attachments": {},
   "cell_type": "markdown",
   "metadata": {},
   "source": [
    "30. WAP to print the armstrong numbers in the given range m to n."
   ]
  },
  {
   "cell_type": "code",
   "execution_count": 7,
   "metadata": {},
   "outputs": [
    {
     "name": "stdout",
     "output_type": "stream",
     "text": [
      "153\n",
      "370\n",
      "371\n",
      "407\n",
      "1634\n"
     ]
    }
   ],
   "source": [
    "i = 10\n",
    "j = 2000\n",
    "while i<=j:\n",
    "    n = i\n",
    "    temp = i\n",
    "    count = 0 \n",
    "    while n:\n",
    "        n  = n//10\n",
    "        count+=1\n",
    "    sum = 0 \n",
    "    while temp:\n",
    "        d = temp%10\n",
    "        sum = sum + (d**count)\n",
    "        temp = temp//10 \n",
    "    if sum == i:\n",
    "        print(sum)\n",
    "    i+=1"
   ]
  },
  {
   "attachments": {},
   "cell_type": "markdown",
   "metadata": {},
   "source": [
    "31. Write a program to print prime series 1 to nth."
   ]
  },
  {
   "cell_type": "code",
   "execution_count": 5,
   "metadata": {},
   "outputs": [
    {
     "name": "stdout",
     "output_type": "stream",
     "text": [
      "2 3 5 7 11 13 17 19 23 29 31 37 41 43 47 53 59 61 67 71 73 79 83 89 97 101 103 107 109 113 127 131 137 139 149 151 157 163 167 173 179 181 191 193 197 199 211 223 227 229 233 239 241 251 257 263 269 271 277 281 283 293 307 311 313 317 331 337 347 349 353 359 367 373 379 383 389 397 401 409 419 421 431 433 439 443 449 457 461 463 467 479 487 491 499 503 509 521 523 541 547 557 563 569 571 577 587 593 599 601 607 613 617 619 631 641 643 647 653 659 661 673 677 683 691 701 709 719 727 733 739 743 751 757 761 769 773 787 797 809 811 821 823 827 829 839 853 857 859 863 877 881 883 887 907 911 919 929 937 941 947 953 967 971 977 983 991 997 "
     ]
    }
   ],
   "source": [
    "num1 = 2\n",
    "num2 = 1000\n",
    "while num1<=num2:\n",
    "    m = num1 \n",
    "    start = 2 \n",
    "    while start<m:\n",
    "        if(m%start)==0:\n",
    "            break \n",
    "        start += 1\n",
    "    else:\n",
    "        print(num1,end = \" \")\n",
    "    num1+=1"
   ]
  },
  {
   "attachments": {},
   "cell_type": "markdown",
   "metadata": {},
   "source": [
    "32. Write a program to print 1 to 100 prime numbers in fibonacci series"
   ]
  },
  {
   "cell_type": "code",
   "execution_count": 7,
   "metadata": {},
   "outputs": [
    {
     "name": "stdout",
     "output_type": "stream",
     "text": [
      "0 1 1 2 3 5 8 13 21 34 55 89 144 233 377 610 987 1597 2584 4181 6765 10946 17711 28657 46368 75025 121393 "
     ]
    }
   ],
   "source": [
    "a = 0 \n",
    "b = 1\n",
    "print(a,b,end=\" \") \n",
    "start = 2 \n",
    "end = 100 \n",
    "while start<=end:\n",
    "    n = start\n",
    "    j = 2 \n",
    "    while j<n:\n",
    "        if(n%j)==0:\n",
    "            break \n",
    "        j+=1\n",
    "    else:\n",
    "        c = a + b\n",
    "        a = b \n",
    "        b = c \n",
    "        print(c,end=\" \")\n",
    "    start+=1 \n",
    "# while start<=n:\n",
    "#     c = a + b\n",
    "#     a = b \n",
    "#     b = c \n",
    "#     print(c,end=\" \")\n",
    "#     start+=1 "
   ]
  },
  {
   "attachments": {},
   "cell_type": "markdown",
   "metadata": {},
   "source": [
    "33. Write a program Sum of prime numbers in a given collection"
   ]
  },
  {
   "cell_type": "code",
   "execution_count": 12,
   "metadata": {},
   "outputs": [
    {
     "name": "stdout",
     "output_type": "stream",
     "text": [
      "41\n"
     ]
    }
   ],
   "source": [
    "coll = [2,3,5,7,11,13]\n",
    "start = 0 \n",
    "end = len(coll)\n",
    "sum = 0\n",
    "for i in range(start,end):\n",
    "    sum = sum + coll[i] \n",
    "print(sum)\n",
    "    "
   ]
  },
  {
   "attachments": {},
   "cell_type": "markdown",
   "metadata": {},
   "source": [
    "34. WAP to the given number is palindrome or not."
   ]
  },
  {
   "cell_type": "code",
   "execution_count": 15,
   "metadata": {},
   "outputs": [
    {
     "name": "stdout",
     "output_type": "stream",
     "text": [
      "palindrome number\n"
     ]
    }
   ],
   "source": [
    "n = 121\n",
    "temp = n  \n",
    "res = 0 \n",
    "while n!=0:\n",
    "    d = n%10\n",
    "    res = d + res * 10 \n",
    "    n = n //10 \n",
    "if(temp==res):\n",
    "    print(\"palindrome number\")\n",
    "else:\n",
    "    print(\"Not a palindrome number\")\n",
    "    \n"
   ]
  },
  {
   "attachments": {},
   "cell_type": "markdown",
   "metadata": {},
   "source": [
    "35.WAP to check whether the length of the string is even or odd. If it is even, print\n",
    "that string 10 times. If it is not printed 5 times."
   ]
  },
  {
   "cell_type": "code",
   "execution_count": 20,
   "metadata": {},
   "outputs": [
    {
     "name": "stdout",
     "output_type": "stream",
     "text": [
      "vamshikrishna vamshikrishna vamshikrishna vamshikrishna vamshikrishna \n"
     ]
    }
   ],
   "source": [
    "word = \"vamshikrishna\"\n",
    "end = len(word)\n",
    "if end%2==0:\n",
    "    word = word + \" \"\n",
    "    print(word*10)\n",
    "else:\n",
    "    word = word + \" \"\n",
    "    print(word*5)"
   ]
  },
  {
   "attachments": {},
   "cell_type": "markdown",
   "metadata": {},
   "source": [
    "36.WAP to print the uppercase character from ‘A’ to ‘Z’ by using a while loop."
   ]
  },
  {
   "cell_type": "code",
   "execution_count": 24,
   "metadata": {},
   "outputs": [
    {
     "name": "stdout",
     "output_type": "stream",
     "text": [
      "A B C D E F G H I J K L M N O P Q R S T U V W X Y Z "
     ]
    }
   ],
   "source": [
    "start = 'A'\n",
    "end = 'Z'\n",
    "while start<=end:\n",
    "    print(start,end=\" \")\n",
    "    start = chr(ord(start)+1)\n",
    "    "
   ]
  },
  {
   "attachments": {},
   "cell_type": "markdown",
   "metadata": {},
   "source": [
    "37. WAP to print the lowercase character from ‘a’ to ‘z’ by using a while loop."
   ]
  },
  {
   "cell_type": "code",
   "execution_count": 26,
   "metadata": {},
   "outputs": [
    {
     "name": "stdout",
     "output_type": "stream",
     "text": [
      "a b c d e f g h i j k l m n o p q r s t u v w x y z "
     ]
    }
   ],
   "source": [
    "start = 'a'\n",
    "end = 'z'\n",
    "while start<=end:\n",
    "    print(start,end=\" \")\n",
    "    start = chr(ord(start)+1)"
   ]
  },
  {
   "cell_type": "code",
   "execution_count": 35,
   "metadata": {},
   "outputs": [
    {
     "name": "stdout",
     "output_type": "stream",
     "text": [
      "A B C D E F G H I J K L M N O P Q R S T U V W X Y Z "
     ]
    }
   ],
   "source": [
    "start = 'a'\n",
    "end = 'z'\n",
    "for i in range(65,91):\n",
    "    print(chr(i),end =\" \")\n",
    "    "
   ]
  },
  {
   "attachments": {},
   "cell_type": "markdown",
   "metadata": {},
   "source": [
    "38. WAP to print the ascii numbers character from ‘0’ to ‘9’ by using a while loop."
   ]
  },
  {
   "cell_type": "code",
   "execution_count": 36,
   "metadata": {},
   "outputs": [
    {
     "name": "stdout",
     "output_type": "stream",
     "text": [
      "0 1 2 3 4 5 6 7 8 9 "
     ]
    }
   ],
   "source": [
    "start = '0'\n",
    "end = '9'\n",
    "while start<=end:\n",
    "    print(start,end = \" \")\n",
    "    start = chr(ord(start)+1)"
   ]
  },
  {
   "attachments": {},
   "cell_type": "markdown",
   "metadata": {},
   "source": [
    "39. WAP to print the uppercase character from ‘E’ to ‘U’ by using a while loop."
   ]
  },
  {
   "cell_type": "code",
   "execution_count": 37,
   "metadata": {},
   "outputs": [
    {
     "name": "stdout",
     "output_type": "stream",
     "text": [
      "E F G H I J K L M N O P Q R S T U "
     ]
    }
   ],
   "source": [
    "start = 'E'\n",
    "end = 'U'\n",
    "while start<=end:\n",
    "    print(start,end = \" \")\n",
    "    start = chr(ord(start)+1)"
   ]
  },
  {
   "attachments": {},
   "cell_type": "markdown",
   "metadata": {},
   "source": [
    "40. WAP to print the uppercase character from ‘Z’ to ‘A’ by using a while loop."
   ]
  },
  {
   "cell_type": "code",
   "execution_count": 46,
   "metadata": {},
   "outputs": [
    {
     "name": "stdout",
     "output_type": "stream",
     "text": [
      "ZYXWVUTSRQPONMLKJIHGFEDCBA"
     ]
    }
   ],
   "source": [
    "start = 'Z'\n",
    "end = 'A'\n",
    "while start>=end: \n",
    "    print(start,end=\" \")\n",
    "    start = chr(ord(start)-1)\n"
   ]
  },
  {
   "attachments": {},
   "cell_type": "markdown",
   "metadata": {},
   "source": [
    "41. WAP to print the uppercase character from ‘U’ to ‘G’ by using a while loop."
   ]
  },
  {
   "cell_type": "code",
   "execution_count": 3,
   "metadata": {},
   "outputs": [
    {
     "name": "stdout",
     "output_type": "stream",
     "text": [
      "U T S R Q P O N M L K J I H G "
     ]
    }
   ],
   "source": [
    "start = 'U'\n",
    "end = 'G' \n",
    "while start>=end:\n",
    "    print(start,end=\" \")\n",
    "    start = chr(ord(start)-1)"
   ]
  },
  {
   "attachments": {},
   "cell_type": "markdown",
   "metadata": {},
   "source": [
    "42. WAP to print the lowercase character from ‘i’ to ‘y’ by using a while loop."
   ]
  },
  {
   "cell_type": "code",
   "execution_count": 6,
   "metadata": {},
   "outputs": [
    {
     "name": "stdout",
     "output_type": "stream",
     "text": [
      "i j k l m n o p q r s t u v w x y "
     ]
    }
   ],
   "source": [
    "start = 'i'\n",
    "end = 'y'\n",
    "while start<=end:\n",
    "    print(start,end = \" \")\n",
    "    start = chr(ord(start)+1)"
   ]
  },
  {
   "attachments": {},
   "cell_type": "markdown",
   "metadata": {},
   "source": [
    "43. WAP to print the lowercase character from ‘z’ to ‘a’ by using a while loop."
   ]
  },
  {
   "cell_type": "code",
   "execution_count": 7,
   "metadata": {},
   "outputs": [
    {
     "name": "stdout",
     "output_type": "stream",
     "text": [
      "z y x w v u t s r q p o n m l k j i h g f e d c b a "
     ]
    }
   ],
   "source": [
    "start = 'z'\n",
    "end = 'a'\n",
    "while start>=end:\n",
    "    print(start,end =\" \")\n",
    "    start = chr(ord(start)-1)"
   ]
  },
  {
   "attachments": {},
   "cell_type": "markdown",
   "metadata": {},
   "source": [
    "44. WAP to print the lowercase character from ‘p’ to ‘c’ by using a while loop."
   ]
  },
  {
   "cell_type": "code",
   "execution_count": 8,
   "metadata": {},
   "outputs": [
    {
     "name": "stdout",
     "output_type": "stream",
     "text": [
      "p o n m l k j i h g f e d c "
     ]
    }
   ],
   "source": [
    "start = 'p'\n",
    "end = 'c'\n",
    "while start>=end:\n",
    "    print(start,end = \" \")\n",
    "    start = chr(ord(start)-1) "
   ]
  },
  {
   "attachments": {},
   "cell_type": "markdown",
   "metadata": {},
   "source": [
    "45. WAP to print the uppercase characters based on even ascii values."
   ]
  },
  {
   "cell_type": "code",
   "execution_count": 24,
   "metadata": {},
   "outputs": [
    {
     "name": "stdout",
     "output_type": "stream",
     "text": [
      "B D F H J L N P R T V X Z "
     ]
    }
   ],
   "source": [
    "start = 65\n",
    "end = 91\n",
    "while start<=end:\n",
    "    if(start)%2==0:\n",
    "        print(chr(start),end= \" \")\n",
    "    start += 1"
   ]
  },
  {
   "attachments": {},
   "cell_type": "markdown",
   "metadata": {},
   "source": [
    "46. WAP to print the lowercase characters based on even ascii values."
   ]
  },
  {
   "cell_type": "code",
   "execution_count": 25,
   "metadata": {},
   "outputs": [
    {
     "name": "stdout",
     "output_type": "stream",
     "text": [
      "b d f h j l n p r t v x z "
     ]
    }
   ],
   "source": [
    "start = 98 \n",
    "end = 122\n",
    "while start<=end:\n",
    "    if(start)%2==0:\n",
    "        print(chr(start),end = \" \")\n",
    "    start += 1"
   ]
  },
  {
   "attachments": {},
   "cell_type": "markdown",
   "metadata": {},
   "source": [
    "47. WAP to print the uppercase characters based on odd ascii values."
   ]
  },
  {
   "cell_type": "code",
   "execution_count": 30,
   "metadata": {},
   "outputs": [
    {
     "name": "stdout",
     "output_type": "stream",
     "text": [
      "A C E G I K M O Q S U W Y [ "
     ]
    }
   ],
   "source": [
    "start = 65 \n",
    "end = 91 \n",
    "while start<=end:\n",
    "    if(start)%2!=0:\n",
    "        print(chr(start),end=\" \")\n",
    "    start+=1"
   ]
  },
  {
   "attachments": {},
   "cell_type": "markdown",
   "metadata": {},
   "source": [
    "48. WAP to print the lowercase characters based on odd ascii values."
   ]
  },
  {
   "cell_type": "code",
   "execution_count": 31,
   "metadata": {},
   "outputs": [
    {
     "name": "stdout",
     "output_type": "stream",
     "text": [
      "a c e g i k m o q s u w y "
     ]
    }
   ],
   "source": [
    "start = 97 \n",
    "end = 122\n",
    "while start<=end:\n",
    "    if(start%2)!=0:\n",
    "        print(chr(start),end = \" \")\n",
    "    start += 1 "
   ]
  },
  {
   "attachments": {},
   "cell_type": "markdown",
   "metadata": {},
   "source": [
    "49. WAP to print all the even characters from ‘A’ to ‘Z’."
   ]
  },
  {
   "cell_type": "code",
   "execution_count": 48,
   "metadata": {},
   "outputs": [
    {
     "name": "stdout",
     "output_type": "stream",
     "text": [
      "B D F H J L N P R T V X Z "
     ]
    }
   ],
   "source": [
    "start = ord('A')\n",
    "end = ord('Z')\n",
    "while start<=end:\n",
    "    if(start)%2==0:\n",
    "        print(chr(start),end=\" \")\n",
    "    start +=1"
   ]
  },
  {
   "attachments": {},
   "cell_type": "markdown",
   "metadata": {},
   "source": [
    "\n",
    "50. WAP to print all the odd characters from ‘a’ to ‘z’."
   ]
  },
  {
   "cell_type": "code",
   "execution_count": 50,
   "metadata": {},
   "outputs": [
    {
     "name": "stdout",
     "output_type": "stream",
     "text": [
      "b d f h j l n p r t v x z "
     ]
    }
   ],
   "source": [
    "start = ord('a')\n",
    "end = ord('z')\n",
    "while start<=end:\n",
    "    if(start)%2 == 0:\n",
    "        print(chr(start),end = \" \")\n",
    "    start+=1 "
   ]
  },
  {
   "attachments": {},
   "cell_type": "markdown",
   "metadata": {},
   "source": [
    "\n",
    "\n",
    "\n",
    "\n",
    "\n",
    "57. Write a java program to find the largest number ‘M’ less than a given number ‘N’\n",
    "which should not contain a given digit ‘D’.\n",
    "For example, if 150 is the given number and 5 is the given digit, then you should\n",
    "find the largest number less than 150 such that it should not contain 5 in it. In this\n",
    "case, 149 will be the answer.\n",
    "\n",
    "\n",
    "60. WAP to print the uppercase characters in a given string."
   ]
  },
  {
   "attachments": {},
   "cell_type": "markdown",
   "metadata": {},
   "source": [
    "51. WAP to count the number of vowels present in D to V."
   ]
  },
  {
   "cell_type": "code",
   "execution_count": 1,
   "metadata": {},
   "outputs": [
    {
     "name": "stdout",
     "output_type": "stream",
     "text": [
      "1\n",
      "2\n",
      "3\n",
      "4\n"
     ]
    }
   ],
   "source": [
    "start = 'D'\n",
    "end = 'V'\n",
    "count = 0 \n",
    "while start<=end:\n",
    "    if(start in 'aeiouAEIOU'):\n",
    "        count += 1\n",
    "        print(ord(chr(count)))\n",
    "    start = chr(ord(start)+1) \n",
    "    "
   ]
  },
  {
   "cell_type": "code",
   "execution_count": 68,
   "metadata": {},
   "outputs": [
    {
     "name": "stdout",
     "output_type": "stream",
     "text": [
      "p o n m l k j i h g f e d c "
     ]
    }
   ],
   "source": [
    "start = 'p'\n",
    "end = 'c'\n",
    "while start>=end:\n",
    "    print(start,end = \" \")\n",
    "    start = chr(ord(start)-1) "
   ]
  },
  {
   "cell_type": "code",
   "execution_count": 72,
   "metadata": {},
   "outputs": [],
   "source": [
    "v = 'v'\n",
    "if v == 'vamshi':\n",
    "    print(\"True\")"
   ]
  },
  {
   "cell_type": "code",
   "execution_count": 79,
   "metadata": {},
   "outputs": [
    {
     "name": "stdout",
     "output_type": "stream",
     "text": [
      "A\n"
     ]
    }
   ],
   "source": [
    "r = 65\n",
    "print(chr(r))"
   ]
  },
  {
   "attachments": {},
   "cell_type": "markdown",
   "metadata": {},
   "source": [
    "52. WAP to count the number of vowels present in u to e."
   ]
  },
  {
   "cell_type": "code",
   "execution_count": 17,
   "metadata": {},
   "outputs": [
    {
     "name": "stdout",
     "output_type": "stream",
     "text": [
      "1 2 3 4 "
     ]
    }
   ],
   "source": [
    "start = 'u'\n",
    "end = 'e'\n",
    "count = 0\n",
    "while start>=end:\n",
    "    if start in 'aeiouAEIOU':\n",
    "        count +=1 \n",
    "        print(count,end=\" \")\n",
    "    start = chr(ord(start)-1)\n",
    "        #print(start,end = \" \")"
   ]
  },
  {
   "attachments": {},
   "cell_type": "markdown",
   "metadata": {},
   "source": [
    "53. WAP to print the square of the number in between the range from m to n which\n",
    "is multiple of 3.\n"
   ]
  },
  {
   "cell_type": "code",
   "execution_count": 19,
   "metadata": {},
   "outputs": [
    {
     "name": "stdout",
     "output_type": "stream",
     "text": [
      "216\n"
     ]
    }
   ],
   "source": [
    "m = int(input())\n",
    "n = int(input())\n",
    "while m<=n:\n",
    "    if(m%3)==0:\n",
    "      print(m**3)\n",
    "    m+=1"
   ]
  },
  {
   "attachments": {},
   "cell_type": "markdown",
   "metadata": {},
   "source": [
    " \n",
    "54. Write a program which takes an integer number and find the sum of digits and\n",
    "repeat until the sum gets a single digit in the end.\n",
    "Example:\n",
    "Input 5643\n",
    "Example:\n",
    "5+6+4+3 =>18\n",
    "1+8=>9\n",
    "Output 9"
   ]
  },
  {
   "cell_type": "code",
   "execution_count": 38,
   "metadata": {},
   "outputs": [
    {
     "name": "stdout",
     "output_type": "stream",
     "text": [
      "9\n"
     ]
    }
   ],
   "source": [
    "a = 5643\n",
    "while a>9:\n",
    "    digit_sum = 0 \n",
    "    while a > 0:\n",
    "        digit_sum += a % 10\n",
    "        a = a//10\n",
    "    a = digit_sum\n",
    "print(a)"
   ]
  },
  {
   "cell_type": "code",
   "execution_count": 37,
   "metadata": {},
   "outputs": [
    {
     "name": "stdout",
     "output_type": "stream",
     "text": [
      "Output: 9\n"
     ]
    }
   ],
   "source": [
    "num = 5643\n",
    "\n",
    "while num > 9:\n",
    "    digit_sum = 0\n",
    "    while num > 0:\n",
    "        digit_sum += num % 10\n",
    "        num //= 10\n",
    "    num = digit_sum\n",
    "\n",
    "print(\"Output:\", num)\n"
   ]
  },
  {
   "attachments": {},
   "cell_type": "markdown",
   "metadata": {},
   "source": [
    "55. Write a program to count the numbers of 2’s between 0 and n\n",
    "Input n=35\n",
    "Example: 2,12,20,21,22,23,24,25,26,27,28,29,32\n",
    "Output 14"
   ]
  },
  {
   "cell_type": "code",
   "execution_count": 42,
   "metadata": {},
   "outputs": [
    {
     "name": "stdout",
     "output_type": "stream",
     "text": [
      "14\n"
     ]
    }
   ],
   "source": [
    "n = 35\n",
    "count = 0 \n",
    "start = 2\n",
    "while start<=n:\n",
    "    i = start \n",
    "    while i > 0:\n",
    "        if i %10 == 2:\n",
    "            count +=1 \n",
    "        i = i //10\n",
    "    start += 1\n",
    "print(count)\n",
    "    "
   ]
  },
  {
   "cell_type": "code",
   "execution_count": 43,
   "metadata": {},
   "outputs": [
    {
     "name": "stdout",
     "output_type": "stream",
     "text": [
      "14\n"
     ]
    }
   ],
   "source": [
    "n = 35 \n",
    "start = 2 \n",
    "count = 0\n",
    "while start <= n:\n",
    "    i = start\n",
    "    while i >0:\n",
    "        if(i%10)==2:\n",
    "            count +=1 \n",
    "        i = i //10\n",
    "    start += 1 \n",
    "print(count)   "
   ]
  },
  {
   "attachments": {},
   "cell_type": "markdown",
   "metadata": {},
   "source": [
    "56. Write a program to find max product of three numbers from the given integer\n",
    "array\n",
    "Input arr() =6,3,2,0,10\n",
    "Example: 10*6*2\n",
    "Output =180"
   ]
  },
  {
   "cell_type": "code",
   "execution_count": 52,
   "metadata": {},
   "outputs": [
    {
     "name": "stdout",
     "output_type": "stream",
     "text": [
      "180\n"
     ]
    }
   ],
   "source": [
    "list_1 = [6,3,2,0,10]\n",
    "list_1.sort()\n",
    "mult = list_1[-1] * list_1[-2] * list_1[-3]  \n",
    "print(mult)"
   ]
  },
  {
   "attachments": {},
   "cell_type": "markdown",
   "metadata": {},
   "source": [
    "57. Write a python program to find the largest number ‘M’ less than a given number ‘N’\n",
    "which should not contain a given digit ‘D’.\n",
    "For example, if 150 is the given number and 5 is the given digit, then you should\n",
    "find the largest number less than 150 such that it should not contain 5 in it. In this\n",
    "case, 149 will be the answer."
   ]
  },
  {
   "cell_type": "code",
   "execution_count": 58,
   "metadata": {},
   "outputs": [
    {
     "name": "stdout",
     "output_type": "stream",
     "text": [
      "Output: 149\n"
     ]
    }
   ],
   "source": [
    "N = 150\n",
    "D = 5\n",
    "\n",
    "M = N - 1\n",
    "\n",
    "while str(D) in str(M):\n",
    "    M -= 1\n",
    "\n",
    "print(\"Output:\", M)\n"
   ]
  },
  {
   "attachments": {},
   "cell_type": "markdown",
   "metadata": {},
   "source": [
    "58. WAP to print all the characters in a given string."
   ]
  },
  {
   "cell_type": "code",
   "execution_count": 68,
   "metadata": {},
   "outputs": [
    {
     "name": "stdout",
     "output_type": "stream",
     "text": [
      "V\n",
      "a\n",
      "m\n",
      "s\n",
      "h\n",
      "i\n"
     ]
    }
   ],
   "source": [
    "a = 'Vamshi'\n",
    "start = 0\n",
    "while start<len(a):\n",
    "    print(a[start])\n",
    "    start+=1"
   ]
  },
  {
   "cell_type": "code",
   "execution_count": 69,
   "metadata": {},
   "outputs": [
    {
     "name": "stdout",
     "output_type": "stream",
     "text": [
      "*         * \n",
      "  *     *   \n",
      "    * *     \n",
      "    * *     \n",
      "  *     *   \n",
      "*         * \n"
     ]
    }
   ],
   "source": [
    "n = 6  # Number of rows in the pattern\n",
    "\n",
    "for i in range(1, n + 1):\n",
    "    for j in range(1, n + 1):\n",
    "        if i == j or i + j == n + 1:\n",
    "            print(\"*\", end=\" \")\n",
    "        else:\n",
    "            print(\" \", end=\" \")\n",
    "    print()\n"
   ]
  },
  {
   "cell_type": "code",
   "execution_count": 72,
   "metadata": {},
   "outputs": [
    {
     "name": "stdout",
     "output_type": "stream",
     "text": [
      "* * * * * * \n",
      "* *     * * \n",
      "*   * *   * \n",
      "*   * *   * \n",
      "* *     * * \n",
      "* * * * * * \n"
     ]
    }
   ],
   "source": [
    "n = 6  # Number of rows in the pattern\n",
    "\n",
    "for i in range(1, n + 1):\n",
    "    for j in range(1, n + 1):\n",
    "        if i == j or i + j == n + 1 or i == 1 or i == n or j == 1 or j == n:\n",
    "            print(\"*\", end=\" \")\n",
    "        else:\n",
    "            print(\" \", end=\" \")\n",
    "    print()\n"
   ]
  },
  {
   "cell_type": "code",
   "execution_count": 73,
   "metadata": {},
   "outputs": [
    {
     "name": "stdout",
     "output_type": "stream",
     "text": [
      "3 3 3 3 \n",
      "4 4 4 4 \n",
      "5 5 5 5 \n"
     ]
    }
   ],
   "source": [
    "rows = 3\n",
    "columns = 4\n",
    "\n",
    "for i in range(rows):\n",
    "    for j in range(columns):\n",
    "        print(i + 3, end=\" \")\n",
    "    print()\n"
   ]
  },
  {
   "attachments": {},
   "cell_type": "markdown",
   "metadata": {},
   "source": [
    "59. WAP to print all the items present in the string between the range from m to n."
   ]
  },
  {
   "cell_type": "code",
   "execution_count": 3,
   "metadata": {},
   "outputs": [
    {
     "name": "stdout",
     "output_type": "stream",
     "text": [
      "Vamshi\n",
      "98\n",
      "Hyderabad\n",
      "1995933068432\n",
      "1995953727888\n"
     ]
    }
   ],
   "source": [
    "class Employee():\n",
    "    name = \"Vamshi\"\n",
    "    marks = 98 \n",
    "    center = \"Hyderabad\"\n",
    "Vamshi = Employee()\n",
    "print(Vamshi.name)\n",
    "print(Vamshi.marks)\n",
    "print(Vamshi.center)\n",
    "print(id(Employee))\n",
    "print(id(Vamshi))"
   ]
  },
  {
   "cell_type": "code",
   "execution_count": null,
   "metadata": {},
   "outputs": [],
   "source": [
    "class Employee():\n",
    "    center = \"Not known\"\n",
    "    def __init__(self,name,marks,center):\n",
    "        self.name = name \n",
    "        self.marks = marks \n",
    "        self.center = center \n",
    "        "
   ]
  },
  {
   "cell_type": "code",
   "execution_count": 4,
   "metadata": {},
   "outputs": [
    {
     "name": "stdout",
     "output_type": "stream",
     "text": [
      "4\n",
      "6\n",
      "9\n"
     ]
    }
   ],
   "source": [
    "class parent1:\n",
    "    a = 4 \n",
    "class parent2:\n",
    "    b = 6 \n",
    "class child(parent1,parent2):\n",
    "    c = 9 \n",
    "ch = child \n",
    "print(ch.a)\n",
    "print(ch.b)\n",
    "print(ch.c)"
   ]
  },
  {
   "cell_type": "code",
   "execution_count": 5,
   "metadata": {},
   "outputs": [
    {
     "name": "stdout",
     "output_type": "stream",
     "text": [
      "12\n",
      "13\n",
      "14\n"
     ]
    }
   ],
   "source": [
    "class parent:\n",
    "    a = 12 \n",
    "class child1(parent):\n",
    "    b = 13 \n",
    "class child2(child1):\n",
    "    c = 14 \n",
    "ch = child2\n",
    "print(ch.a)\n",
    "print(ch.b)\n",
    "print(ch.c)\n",
    "    "
   ]
  },
  {
   "cell_type": "code",
   "execution_count": 7,
   "metadata": {},
   "outputs": [
    {
     "name": "stdout",
     "output_type": "stream",
     "text": [
      "Krishna Vamshi\n",
      "21\n",
      "22\n"
     ]
    }
   ],
   "source": [
    "class employee:\n",
    "    def __init__(self,a,name):\n",
    "        self.a = a \n",
    "        self.name = name \n",
    "    def __add__(self,obj):\n",
    "        return self.a+obj \n",
    "    def __str__(self):\n",
    "        return self.name \n",
    "    def __len__(self):\n",
    "        return self.a \n",
    "a = employee(21,\"Krishna\")\n",
    "b = employee(22,\"Vamshi\")\n",
    "print(a,b)\n",
    "print(len(a))\n",
    "print(len(b))"
   ]
  },
  {
   "cell_type": "code",
   "execution_count": 1,
   "metadata": {},
   "outputs": [
    {
     "name": "stdout",
     "output_type": "stream",
     "text": [
      "7\n"
     ]
    }
   ],
   "source": [
    "list_1 = [1,2,[5,6,7,8],9,10]\n",
    "print(list_1[2][2])"
   ]
  },
  {
   "cell_type": "code",
   "execution_count": 9,
   "metadata": {},
   "outputs": [
    {
     "name": "stdout",
     "output_type": "stream",
     "text": [
      "3\n",
      "5\n",
      "7\n"
     ]
    }
   ],
   "source": [
    "m = 3\n",
    "n = 8 \n",
    "for i in range(m,n+1):\n",
    "    factors1 = 0 \n",
    "    for j in range(2,i):\n",
    "        if(i%j)==0:\n",
    "            factors1 = factors1 + 1\n",
    "    if(factors1==0):\n",
    "        print(i)"
   ]
  },
  {
   "cell_type": "code",
   "execution_count": null,
   "metadata": {},
   "outputs": [],
   "source": []
  }
 ],
 "metadata": {
  "kernelspec": {
   "display_name": "Python 3",
   "language": "python",
   "name": "python3"
  },
  "language_info": {
   "codemirror_mode": {
    "name": "ipython",
    "version": 3
   },
   "file_extension": ".py",
   "mimetype": "text/x-python",
   "name": "python",
   "nbconvert_exporter": "python",
   "pygments_lexer": "ipython3",
   "version": "3.11.2"
  },
  "orig_nbformat": 4
 },
 "nbformat": 4,
 "nbformat_minor": 2
}
