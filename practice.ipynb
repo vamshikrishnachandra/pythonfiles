{
 "cells": [
  {
   "cell_type": "code",
   "execution_count": 1,
   "metadata": {},
   "outputs": [
    {
     "name": "stdout",
     "output_type": "stream",
     "text": [
      "8\n"
     ]
    }
   ],
   "source": [
    "n = 143 \n",
    "sum = 0\n",
    "while n!=0:\n",
    "    d = n%10\n",
    "    sum+=d \n",
    "    n = n//10\n",
    "print(sum)"
   ]
  },
  {
   "cell_type": "code",
   "execution_count": 2,
   "metadata": {},
   "outputs": [
    {
     "name": "stdout",
     "output_type": "stream",
     "text": [
      "3\n"
     ]
    }
   ],
   "source": [
    "n = 143 \n",
    "count = 0\n",
    "while n!=0:\n",
    "    n = n//10 \n",
    "    count+=1 \n",
    "print(count)"
   ]
  },
  {
   "cell_type": "code",
   "execution_count": 6,
   "metadata": {},
   "outputs": [
    {
     "name": "stdout",
     "output_type": "stream",
     "text": [
      "V A "
     ]
    }
   ],
   "source": [
    "name = \"VAmshi\"\n",
    "start = 0 \n",
    "end = len(name)\n",
    "while start < end:\n",
    "    if \"A\"<=name[start]<=\"Z\":\n",
    "        print(name[start],end=\" \")\n",
    "    start+=1 "
   ]
  },
  {
   "cell_type": "code",
   "execution_count": 10,
   "metadata": {},
   "outputs": [
    {
     "name": "stdout",
     "output_type": "stream",
     "text": [
      "5   *   1   =   5\n",
      "5   *   2   =   10\n",
      "5   *   3   =   15\n",
      "5   *   4   =   20\n",
      "5   *   5   =   25\n",
      "5   *   6   =   30\n",
      "5   *   7   =   35\n",
      "5   *   8   =   40\n",
      "5   *   9   =   45\n",
      "5   *   10   =   50\n"
     ]
    }
   ],
   "source": [
    "n = 5 \n",
    "start = 1 \n",
    "end = 10 \n",
    "while start<=end:\n",
    "    print(n,\" \",\"*\",\" \",start,\" \",\"=\",\" \",n*start)\n",
    "    start+=1"
   ]
  },
  {
   "cell_type": "code",
   "execution_count": 11,
   "metadata": {},
   "outputs": [
    {
     "name": "stdout",
     "output_type": "stream",
     "text": [
      "3\n"
     ]
    }
   ],
   "source": [
    "n = 143 \n",
    "count = 0\n",
    "while n!=0:\n",
    "    n = n//10\n",
    "    count+=1 \n",
    "print(count)"
   ]
  },
  {
   "cell_type": "code",
   "execution_count": 12,
   "metadata": {},
   "outputs": [
    {
     "name": "stdout",
     "output_type": "stream",
     "text": [
      "palindrom number\n"
     ]
    }
   ],
   "source": [
    "n = 222\n",
    "res = 0\n",
    "temp = n\n",
    "while n!=0:\n",
    "    d = n%10 \n",
    "    res = d + res*10\n",
    "    n = n//10 \n",
    "if(res==temp):\n",
    "    print(\"palindrom number\")\n",
    "else:\n",
    "    print(\"Not a palindrom number\")"
   ]
  },
  {
   "cell_type": "code",
   "execution_count": 13,
   "metadata": {},
   "outputs": [
    {
     "name": "stdout",
     "output_type": "stream",
     "text": [
      "24\n"
     ]
    }
   ],
   "source": [
    "n = 1234\n",
    "prod = 1 \n",
    "while n!=0:\n",
    "    d = n %10 \n",
    "    prod = prod * d \n",
    "    n = n//10\n",
    "print(prod)"
   ]
  },
  {
   "cell_type": "code",
   "execution_count": 14,
   "metadata": {},
   "outputs": [
    {
     "name": "stdout",
     "output_type": "stream",
     "text": [
      "120\n"
     ]
    }
   ],
   "source": [
    "start = 1 \n",
    "end = 5 \n",
    "prod = 1 \n",
    "while start<=end:\n",
    "    prod = prod * start\n",
    "    start+=1 \n",
    "print(prod)"
   ]
  },
  {
   "cell_type": "code",
   "execution_count": 5,
   "metadata": {},
   "outputs": [
    {
     "name": "stdout",
     "output_type": "stream",
     "text": [
      "5\n"
     ]
    }
   ],
   "source": [
    "n = int(input())\n",
    "start = 1 \n",
    "count = 0 \n",
    "while start<n:\n",
    "    if(n%start)==0:\n",
    "        count+=1 \n",
    "    start+=1\n",
    "print(count)"
   ]
  },
  {
   "cell_type": "code",
   "execution_count": 5,
   "metadata": {},
   "outputs": [
    {
     "name": "stdout",
     "output_type": "stream",
     "text": [
      "1\n",
      "2\n",
      "6\n",
      "24\n",
      "120\n",
      "720\n",
      "5040\n",
      "40320\n",
      "362880\n",
      "3628800\n",
      "39916800\n",
      "479001600\n",
      "6227020800\n",
      "87178291200\n",
      "1307674368000\n",
      "20922789888000\n",
      "355687428096000\n",
      "6402373705728000\n",
      "121645100408832000\n",
      "2432902008176640000\n"
     ]
    }
   ],
   "source": [
    "i = 1 \n",
    "j = 20\n",
    "while i<=j:\n",
    "    start = 1 \n",
    "    end = i \n",
    "    fact = 1 \n",
    "    while start<=end:\n",
    "        fact = fact * start \n",
    "        start += 1 \n",
    "    print(fact)\n",
    "    i+=1"
   ]
  },
  {
   "cell_type": "code",
   "execution_count": 10,
   "metadata": {},
   "outputs": [
    {
     "name": "stdout",
     "output_type": "stream",
     "text": [
      "120\n"
     ]
    }
   ],
   "source": [
    "n = int(input())\n",
    "sum1 = 0\n",
    "while n!=0:\n",
    "    d = n%10\n",
    "    fact = 1 \n",
    "    start = 1 \n",
    "    while start<=d:\n",
    "        fact = fact*start\n",
    "        start+=1 \n",
    "    sum1 = sum1 + fact\n",
    "    n = n//10\n",
    "print(sum1)"
   ]
  },
  {
   "cell_type": "code",
   "execution_count": 14,
   "metadata": {},
   "outputs": [],
   "source": [
    "v = int(input())\n",
    "temp = v \n",
    "sum1 = 0 \n",
    "while v!=0:\n",
    "    d = v%10 \n",
    "    fact = 1\n",
    "    start =  1 \n",
    "    while start<=d:\n",
    "        fact = fact * start\n",
    "        start+=1 \n",
    "    sum1 = sum1 + fact \n",
    "    n = n//10 \n",
    "if(temp==sum1):\n",
    "    print(\"given number is strong number\")\n",
    "else:\n",
    "    print(\"Number is not a strong number\")\n"
   ]
  },
  {
   "cell_type": "code",
   "execution_count": 4,
   "metadata": {},
   "outputs": [
    {
     "name": "stdout",
     "output_type": "stream",
     "text": [
      "3\n"
     ]
    }
   ],
   "source": [
    "n = 143 \n",
    "# temp=n\n",
    "# temp1=n\n",
    "count=0\n",
    "while n:\n",
    "    n=n//10\n",
    "    count+=1 \n",
    "print(count)"
   ]
  },
  {
   "cell_type": "code",
   "execution_count": 8,
   "metadata": {},
   "outputs": [
    {
     "name": "stdout",
     "output_type": "stream",
     "text": [
      "0 1 1 2 3 5 8 13 21 34 55 89 144 233 377 610 987 1597 2584 4181 6765 10946 17711 28657 46368 75025 121393 196418 317811 514229 832040 1346269 2178309 3524578 5702887 9227465 14930352 24157817 39088169 63245986 102334155 165580141 267914296 433494437 701408733 1134903170 1836311903 2971215073 4807526976 7778742049 12586269025 20365011074 32951280099 53316291173 86267571272 139583862445 225851433717 365435296162 591286729879 956722026041 1548008755920 2504730781961 4052739537881 6557470319842 10610209857723 17167680177565 27777890035288 44945570212853 72723460248141 117669030460994 190392490709135 308061521170129 498454011879264 806515533049393 1304969544928657 2111485077978050 3416454622906707 5527939700884757 8944394323791464 14472334024676221 23416728348467685 37889062373143906 61305790721611591 99194853094755497 160500643816367088 259695496911122585 420196140727489673 679891637638612258 1100087778366101931 1779979416004714189 2880067194370816120 4660046610375530309 7540113804746346429 12200160415121876738 19740274219868223167 31940434634990099905 51680708854858323072 83621143489848422977 135301852344706746049 218922995834555169026 "
     ]
    }
   ],
   "source": [
    "a = 0 \n",
    "b = 1 \n",
    "print(a,b,end=\" \")\n",
    "start = 3 \n",
    "n = 100\n",
    "while start<=n:\n",
    "    c = a+b\n",
    "    a = b \n",
    "    b = c \n",
    "    print(c,end=\" \")\n",
    "    start+=1"
   ]
  },
  {
   "cell_type": "code",
   "execution_count": null,
   "metadata": {},
   "outputs": [],
   "source": []
  }
 ],
 "metadata": {
  "kernelspec": {
   "display_name": "Python 3",
   "language": "python",
   "name": "python3"
  },
  "language_info": {
   "codemirror_mode": {
    "name": "ipython",
    "version": 3
   },
   "file_extension": ".py",
   "mimetype": "text/x-python",
   "name": "python",
   "nbconvert_exporter": "python",
   "pygments_lexer": "ipython3",
   "version": "3.11.2"
  },
  "orig_nbformat": 4
 },
 "nbformat": 4,
 "nbformat_minor": 2
}
