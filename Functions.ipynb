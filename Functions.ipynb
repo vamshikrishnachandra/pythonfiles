{
 "cells": [
  {
   "cell_type": "code",
   "execution_count": 5,
   "metadata": {},
   "outputs": [
    {
     "data": {
      "text/plain": [
       "1"
      ]
     },
     "execution_count": 5,
     "metadata": {},
     "output_type": "execute_result"
    }
   ],
   "source": [
    "#Count\n",
    "#Pre defined Count\n",
    "\n",
    "st = 'saisrinu'\n",
    "st.count('i')"
   ]
  },
  {
   "cell_type": "code",
   "execution_count": 4,
   "metadata": {},
   "outputs": [
    {
     "name": "stdout",
     "output_type": "stream",
     "text": [
      "2\n"
     ]
    }
   ],
   "source": [
    "#User defined count\n",
    "\n",
    "def u_count(coll, ele):\n",
    "    count = 0\n",
    "    start = 0\n",
    "    while start<len(coll):\n",
    "        if coll[start]==ele:\n",
    "            count+=1\n",
    "        start+=1\n",
    "    return count\n",
    "\n",
    "print(u_count(input(), input()))"
   ]
  },
  {
   "cell_type": "code",
   "execution_count": 33,
   "metadata": {},
   "outputs": [
    {
     "name": "stdout",
     "output_type": "stream",
     "text": [
      "0\n"
     ]
    }
   ],
   "source": [
    "#User defined count with range\n",
    "\n",
    "def u_count(coll, ele, start = 0, end = 0):\n",
    "    if type(coll) != str:\n",
    "        raise AttributeError(\"This function works only for string\")\n",
    "    if end == 0:\n",
    "        end = len(coll)\n",
    "    count = 0\n",
    "    while start<end:\n",
    "        if coll[start]==ele:\n",
    "            count+=1\n",
    "        start+=1\n",
    "    return count\n",
    "\n",
    "print(u_count('helloworld', 's'))"
   ]
  },
  {
   "cell_type": "code",
   "execution_count": 34,
   "metadata": {},
   "outputs": [
    {
     "data": {
      "text/plain": [
       "'saisrinuss123@'"
      ]
     },
     "execution_count": 34,
     "metadata": {},
     "output_type": "execute_result"
    }
   ],
   "source": [
    "#predefined .lower()\n",
    "st = 'SAISRINUss123@'\n",
    "st.lower()"
   ]
  },
  {
   "cell_type": "code",
   "execution_count": 19,
   "metadata": {},
   "outputs": [
    {
     "name": "stdout",
     "output_type": "stream",
     "text": [
      "saisrinu@123\n"
     ]
    }
   ],
   "source": [
    "#User defined lower function\n",
    "\n",
    "def u_lower(coll):\n",
    "    if type(coll) != str:\n",
    "        raise AttributeError(\"Works only with string\")\n",
    "    start = 0\n",
    "    res = ''\n",
    "    while start<len(coll):\n",
    "        if 'A' <= coll[start] <= 'Z':\n",
    "            res += chr(ord(coll[start])+32)\n",
    "        else:\n",
    "            res += coll[start]\n",
    "        start+=1\n",
    "    return res\n",
    "\n",
    "print(u_lower('SaisriNU@123'))"
   ]
  },
  {
   "cell_type": "code",
   "execution_count": 12,
   "metadata": {},
   "outputs": [
    {
     "data": {
      "text/plain": [
       "'HELLOWORLD'"
      ]
     },
     "execution_count": 12,
     "metadata": {},
     "output_type": "execute_result"
    }
   ],
   "source": [
    "#Upper\n",
    "#Predefined function\n",
    "\n",
    "st = 'helloWorld'\n",
    "st.upper()\n"
   ]
  },
  {
   "cell_type": "code",
   "execution_count": 25,
   "metadata": {},
   "outputs": [
    {
     "data": {
      "text/plain": [
       "'SAISRINU123@'"
      ]
     },
     "execution_count": 25,
     "metadata": {},
     "output_type": "execute_result"
    }
   ],
   "source": [
    "#Upper\n",
    "#User defined \n",
    "\n",
    "def u_upper(coll):\n",
    "    if type(coll)!= str:\n",
    "        raise AttributeError\n",
    "    start = 0\n",
    "    res = ''\n",
    "    while start<len(coll):\n",
    "        if 'a'<=coll[start]<='z':\n",
    "            res+=chr(ord(coll[start])-32)\n",
    "        else:\n",
    "            res+=coll[start]\n",
    "        start+=1\n",
    "    return res\n",
    "\n",
    "u_upper('saiSRInu123@')"
   ]
  },
  {
   "cell_type": "code",
   "execution_count": 34,
   "metadata": {},
   "outputs": [
    {
     "data": {
      "text/plain": [
       "True"
      ]
     },
     "execution_count": 34,
     "metadata": {},
     "output_type": "execute_result"
    }
   ],
   "source": [
    "#isupper\n",
    "#pre defined function\n",
    "\n",
    "st = 'SRINU1'\n",
    "\n",
    "st.isupper()"
   ]
  },
  {
   "cell_type": "code",
   "execution_count": 32,
   "metadata": {},
   "outputs": [
    {
     "data": {
      "text/plain": [
       "True"
      ]
     },
     "execution_count": 32,
     "metadata": {},
     "output_type": "execute_result"
    }
   ],
   "source": [
    "#is upper\n",
    "#User defined\n",
    "\n",
    "def u_isupper(coll):\n",
    "    if type(coll)!=str:\n",
    "        raise AttributeError\n",
    "    start = 0\n",
    "    while start<len(coll):\n",
    "        if 'a'<=coll[start]<='z':\n",
    "            return False\n",
    "        start+=1\n",
    "    return True\n",
    "\n",
    "u_isupper('SAISRINU2@23')"
   ]
  },
  {
   "cell_type": "code",
   "execution_count": 37,
   "metadata": {},
   "outputs": [
    {
     "data": {
      "text/plain": [
       "False"
      ]
     },
     "execution_count": 37,
     "metadata": {},
     "output_type": "execute_result"
    }
   ],
   "source": [
    "#is lower\n",
    "#predefined function\n",
    "st = 'saisrA@123inu'\n",
    "st.islower()"
   ]
  },
  {
   "cell_type": "code",
   "execution_count": 46,
   "metadata": {},
   "outputs": [
    {
     "data": {
      "text/plain": [
       "True"
      ]
     },
     "execution_count": 46,
     "metadata": {},
     "output_type": "execute_result"
    }
   ],
   "source": [
    "#islowwer\n",
    "#user defined \n",
    "\n",
    "def u_islower(coll):\n",
    "    start = 0\n",
    "    while start<len(coll):\n",
    "        if 'A'<=coll[start]<='Z':\n",
    "            return False\n",
    "        start+=1\n",
    "    return True\n",
    "\n",
    "u_islower('hellow@rld')\n"
   ]
  },
  {
   "cell_type": "code",
   "execution_count": 2,
   "metadata": {},
   "outputs": [
    {
     "data": {
      "text/plain": [
       "True"
      ]
     },
     "execution_count": 2,
     "metadata": {},
     "output_type": "execute_result"
    }
   ],
   "source": [
    "#isnumeric()\n",
    "#predefined\n",
    "\n",
    "st = '12345'\n",
    "st.isnumeric()"
   ]
  },
  {
   "cell_type": "code",
   "execution_count": 1,
   "metadata": {},
   "outputs": [
    {
     "data": {
      "text/plain": [
       "False"
      ]
     },
     "execution_count": 1,
     "metadata": {},
     "output_type": "execute_result"
    }
   ],
   "source": [
    "#isnumeric\n",
    "#User defined\n",
    "\n",
    "def u_isnumeric(coll):\n",
    "    if type(coll)!= str:\n",
    "        return AttributeError\n",
    "    start = 0\n",
    "    while start<len(coll):\n",
    "        if not ('0' <= coll[start] <= '9'):\n",
    "            return False\n",
    "        start+=1\n",
    "    return True\n",
    "\n",
    "u_isnumeric(\"string-method-2\")"
   ]
  },
  {
   "cell_type": "code",
   "execution_count": 57,
   "metadata": {},
   "outputs": [
    {
     "data": {
      "text/plain": [
       "True"
      ]
     },
     "execution_count": 57,
     "metadata": {},
     "output_type": "execute_result"
    }
   ],
   "source": [
    "#isspecial\n",
    "#No pre defined\n",
    "#User defined\n",
    "\n",
    "def u_isspecial(coll):\n",
    "    if type(coll)!=str:\n",
    "        return AttributeError\n",
    "    start = 0\n",
    "    while start<len(coll):\n",
    "        if '0' <= coll[start]<='9' or 'a'<coll[start]<='z' or 'A'<=coll[start]<='Z':\n",
    "            return False\n",
    "        start+=1\n",
    "    return True\n",
    "\n",
    "u_isspecial(' ')\n",
    "#Space is also a special character"
   ]
  },
  {
   "cell_type": "code",
   "execution_count": 5,
   "metadata": {},
   "outputs": [
    {
     "data": {
      "text/plain": [
       "False"
      ]
     },
     "execution_count": 5,
     "metadata": {},
     "output_type": "execute_result"
    }
   ],
   "source": [
    "#isspace\n",
    "#predefined function\n",
    "\n",
    "st = ' '\n",
    "st.isspace()"
   ]
  },
  {
   "cell_type": "code",
   "execution_count": null,
   "metadata": {},
   "outputs": [],
   "source": []
  },
  {
   "cell_type": "code",
   "execution_count": 10,
   "metadata": {},
   "outputs": [
    {
     "data": {
      "text/plain": [
       "True"
      ]
     },
     "execution_count": 10,
     "metadata": {},
     "output_type": "execute_result"
    }
   ],
   "source": [
    "#user defined isspace function\n",
    "\n",
    "def u_isspace(coll):\n",
    "    if type(coll)!= str:\n",
    "        raise AttributeError\n",
    "    if len(coll)==0:\n",
    "        return False\n",
    "    start = 0\n",
    "    while start<len(coll):\n",
    "        if coll[start] != ' ':\n",
    "            return False\n",
    "        start+=1\n",
    "    return True\n",
    "\n",
    "u_isspace('Tech Fountions')"
   ]
  },
  {
   "cell_type": "code",
   "execution_count": 19,
   "metadata": {},
   "outputs": [
    {
     "data": {
      "text/plain": [
       "False"
      ]
     },
     "execution_count": 19,
     "metadata": {},
     "output_type": "execute_result"
    }
   ],
   "source": [
    "#isascii predefined strinf function\n",
    "#Checks whether given character is ascii value or not\n",
    "#applies to only single character\n",
    "#Returns True if it is ascii character from 0 to 127. Else false\n",
    "\n",
    "st = chr(128)\n",
    "st.isascii()"
   ]
  },
  {
   "cell_type": "code",
   "execution_count": 26,
   "metadata": {},
   "outputs": [
    {
     "data": {
      "text/plain": [
       "True"
      ]
     },
     "execution_count": 26,
     "metadata": {},
     "output_type": "execute_result"
    }
   ],
   "source": [
    "#user defined isascii\n",
    "\n",
    "def u_isascii(coll):\n",
    "    if not(chr(0)<=coll<=chr(127)):\n",
    "        return False\n",
    "    return True\n",
    "u_isascii(chr(60))"
   ]
  },
  {
   "cell_type": "code",
   "execution_count": 6,
   "metadata": {},
   "outputs": [
    {
     "data": {
      "text/plain": [
       "False"
      ]
     },
     "execution_count": 6,
     "metadata": {},
     "output_type": "execute_result"
    }
   ],
   "source": [
    "#wap to check whether the string is following identifier rule or not.\n",
    "\n",
    "from keyword import kwlist\n",
    "\n",
    "def u_isidentifier(coll):\n",
    "    if type(coll)!=str:\n",
    "        return AttributeError\n",
    "    if '0' <= coll[0] <= '9' or coll in kwlist:\n",
    "        return False\n",
    "    start = 0\n",
    "    while start<len(coll):\n",
    "        if not ('A'<=coll[start]<='Z' or 'a'<=coll[start]<='z' or '0'<=coll[start]<='9' or coll[start] == '_'):\n",
    "                return False\n",
    "        start+=1\n",
    "    return True\n",
    "\n",
    "u_isidentifier('def')"
   ]
  },
  {
   "cell_type": "code",
   "execution_count": 23,
   "metadata": {},
   "outputs": [
    {
     "data": {
      "text/plain": [
       "'hELLOWOrLD'"
      ]
     },
     "execution_count": 23,
     "metadata": {},
     "output_type": "execute_result"
    }
   ],
   "source": [
    "#Swapcase userdefined\n",
    "st = 'HellowoRld'\n",
    "st.swapcase()"
   ]
  },
  {
   "cell_type": "code",
   "execution_count": 1,
   "metadata": {},
   "outputs": [
    {
     "data": {
      "text/plain": [
       "'heLLsnJNaNn'"
      ]
     },
     "execution_count": 1,
     "metadata": {},
     "output_type": "execute_result"
    }
   ],
   "source": [
    "#User defined swapcase\n",
    "def u_swapcase(coll):\n",
    "    if type(coll)!= str:\n",
    "        return AttributeError\n",
    "    res = ''\n",
    "    start = 0\n",
    "    while start<len(coll):\n",
    "        if 'A' <= coll[start] <= 'Z':\n",
    "            res+= chr(ord(coll[start])+32)\n",
    "        elif 'a' <= coll[start] <='z':\n",
    "            res+= chr(ord(coll[start])-32)\n",
    "        else: res+=coll[start]\n",
    "        start+=1\n",
    "    return res\n",
    "\n",
    "u_swapcase('HEllSNjnAnN')"
   ]
  },
  {
   "cell_type": "code",
   "execution_count": 45,
   "metadata": {},
   "outputs": [
    {
     "data": {
      "text/plain": [
       "'@ython'"
      ]
     },
     "execution_count": 45,
     "metadata": {},
     "output_type": "execute_result"
    }
   ],
   "source": [
    "#capitalize predefined function\n",
    "#Makes the string to propercase\n",
    "#dont mind special or number at starting\n",
    "st = '@ython'\n",
    "st.capitalize()"
   ]
  },
  {
   "cell_type": "code",
   "execution_count": 42,
   "metadata": {},
   "outputs": [
    {
     "data": {
      "text/plain": [
       "'Hellow@1orld'"
      ]
     },
     "execution_count": 42,
     "metadata": {},
     "output_type": "execute_result"
    }
   ],
   "source": [
    "#userdefined capitalize\n",
    "\n",
    "def u_capitalize(coll):\n",
    "    if type(coll)!=str:\n",
    "        return AttributeError\n",
    "    res = ''\n",
    "    if 'a' <= coll[0] <= 'z':\n",
    "        res+= chr(ord(coll[0])-32)\n",
    "    else:\n",
    "        res+=coll[0]\n",
    "    start = 1\n",
    "    while start<len(coll):\n",
    "        if 'A' <= coll[start] <= 'Z':\n",
    "            res+=chr(ord(coll[start])+32)\n",
    "        else:\n",
    "            res+=coll[start]\n",
    "        start+=1\n",
    "    return res\n",
    "\n",
    "u_capitalize('HelloW@1orld')"
   ]
  },
  {
   "cell_type": "code",
   "execution_count": 51,
   "metadata": {},
   "outputs": [
    {
     "data": {
      "text/plain": [
       "True"
      ]
     },
     "execution_count": 51,
     "metadata": {},
     "output_type": "execute_result"
    }
   ],
   "source": [
    "#isproper\n",
    "#User defined function\n",
    "\n",
    "def u_isproper(coll):\n",
    "    if type(coll)!= str:\n",
    "        return AttributeError\n",
    "    if 'a' <= coll[0] <= 'z':\n",
    "        return False\n",
    "    start = 1\n",
    "    while start<len(coll):\n",
    "        if 'A' <= coll[start] <= 'Z':\n",
    "            return False\n",
    "        start+=1\n",
    "    return True\n",
    "\n",
    "u_isproper('Helloorld')"
   ]
  },
  {
   "cell_type": "code",
   "execution_count": 2,
   "metadata": {},
   "outputs": [
    {
     "data": {
      "text/plain": [
       "'Hello_world'"
      ]
     },
     "execution_count": 2,
     "metadata": {},
     "output_type": "execute_result"
    }
   ],
   "source": [
    "#Program to convert given string in to snake case\n",
    "#Starts with uppercase\n",
    "#Spaces are replaces with _\n",
    "#Except first character every character shoule be lowercase\n",
    "\n",
    "def u_snakecase(coll):\n",
    "    if type(coll)!=str:\n",
    "        return AttributeError\n",
    "    res = ''\n",
    "    if 'a' <= coll[0] <= 'z':\n",
    "        res += chr(ord(coll[0])-32)\n",
    "    else:\n",
    "        res += coll[0]\n",
    "    start = 1\n",
    "    while start<len(coll):\n",
    "        if 'A' <= coll[start] <= 'Z':\n",
    "            res+= chr(ord(coll[start])+32)\n",
    "        elif coll[start] == ' ':\n",
    "            res+= '_'\n",
    "        else: res+=coll[start]\n",
    "        start+=1\n",
    "    return res\n",
    "\n",
    "u_snakecase('Hello World')"
   ]
  },
  {
   "cell_type": "code",
   "execution_count": 3,
   "metadata": {},
   "outputs": [
    {
     "data": {
      "text/plain": [
       "True"
      ]
     },
     "execution_count": 3,
     "metadata": {},
     "output_type": "execute_result"
    }
   ],
   "source": [
    "#Check whether given string is snake case or not.\n",
    "\n",
    "def check_snake(coll):\n",
    "    if type(coll)!= str:\n",
    "        raise AttributeError\n",
    "    if 'a' <= coll[0] <= 'z' or ' ' == coll[0]:\n",
    "        return False\n",
    "    start = 1\n",
    "    while start<len(coll):\n",
    "        if 'A' <= coll[start] <= 'Z':\n",
    "            return False\n",
    "        elif coll[start] == ' ':\n",
    "            return False\n",
    "        start+=1\n",
    "    return True\n",
    "\n",
    "check_snake('Hello_world')"
   ]
  },
  {
   "cell_type": "code",
   "execution_count": 28,
   "metadata": {},
   "outputs": [
    {
     "data": {
      "text/plain": [
       "'__s__'"
      ]
     },
     "execution_count": 28,
     "metadata": {},
     "output_type": "execute_result"
    }
   ],
   "source": [
    "#Convert string to dragon case\n",
    "\n",
    "#starts and ends with __ minimum.\n",
    "#No space, (replaced by _)\n",
    "#No uppercase characters\n",
    "def dragon_case(coll):\n",
    "    if type(coll)!= str:\n",
    "        raise AttributeError\n",
    "    res = ''\n",
    "    if len(coll)>0:\n",
    "        start = 0\n",
    "        while start<len(coll):\n",
    "            if 'A'<=coll[start]<='Z':\n",
    "                res+=chr(ord(coll[start])+32)\n",
    "            elif 'a'<=coll[start]<='z':\n",
    "                res+=coll[start]\n",
    "            elif coll[start]==' 'or coll[start]=='_':\n",
    "                res+='_'\n",
    "            start+=1\n",
    "        coll = res\n",
    "        if coll[0]!= '_':\n",
    "            res = '__'+coll\n",
    "        elif coll[0] == '_' and coll[1]!='_':\n",
    "            res = '_'+ coll\n",
    "        else:\n",
    "            res = coll\n",
    "        if res[-1]!='_':\n",
    "            res = res+ '__'\n",
    "        elif res[-1]=='_' and res[-2] != '_':\n",
    "            res = res + '_'\n",
    "        return res\n",
    "    else:\n",
    "        print('Empty string')\n",
    "\n",
    "dragon_case(\"s\")"
   ]
  },
  {
   "cell_type": "code",
   "execution_count": 39,
   "metadata": {},
   "outputs": [
    {
     "data": {
      "text/plain": [
       "False"
      ]
     },
     "execution_count": 39,
     "metadata": {},
     "output_type": "execute_result"
    }
   ],
   "source": [
    "#Write a function to chekc string is gragon or not.\n",
    "def check_dragon(coll):\n",
    "    if type(coll)!=str:\n",
    "        raise AttributeError\n",
    "    if len(coll)==0:\n",
    "        return False\n",
    "    if coll[0] != '_'and coll[1]!='_' and coll[-1]!='_' and coll[-2]!='_':\n",
    "        return False\n",
    "    start = 2\n",
    "    while start<(len(coll)-2):\n",
    "        if not ('a'<=coll[start]<='z' or coll[start]=='_'):\n",
    "            return False\n",
    "        start+=1\n",
    "    return True\n",
    "\n",
    "check_dragon('__he@l_loworld__')"
   ]
  },
  {
   "cell_type": "code",
   "execution_count": 45,
   "metadata": {},
   "outputs": [
    {
     "data": {
      "text/plain": [
       "False"
      ]
     },
     "execution_count": 45,
     "metadata": {},
     "output_type": "execute_result"
    }
   ],
   "source": [
    "#WAP to check the even index position values are lowercase or not.\n",
    "def check_even(coll):\n",
    "    start = 0\n",
    "    while start<len(coll):\n",
    "        if start%2==0 and not ('a'<=coll[start]<='z'):\n",
    "            return False\n",
    "        start+=1\n",
    "    return True\n",
    "check_even('hELlowolrd')"
   ]
  },
  {
   "cell_type": "code",
   "execution_count": 46,
   "metadata": {},
   "outputs": [
    {
     "data": {
      "text/plain": [
       "'Hello*World*****'"
      ]
     },
     "execution_count": 46,
     "metadata": {},
     "output_type": "execute_result"
    }
   ],
   "source": [
    "#WAP to convert special characters or ascii numbers in to *.\n",
    "\n",
    "def replace_char(coll):\n",
    "    res = ''\n",
    "    start = 0\n",
    "    while start<len(coll):\n",
    "        if 'A'<=coll[start]<='Z' or 'a'<=coll[start]<='z':\n",
    "            res+=coll[start]\n",
    "        else:\n",
    "            res+='*'\n",
    "        start+=1\n",
    "    return res\n",
    "\n",
    "replace_char('Hello World 123@')"
   ]
  },
  {
   "cell_type": "code",
   "execution_count": 49,
   "metadata": {},
   "outputs": [
    {
     "data": {
      "text/plain": [
       "'hellowo123@rld'"
      ]
     },
     "execution_count": 49,
     "metadata": {},
     "output_type": "execute_result"
    }
   ],
   "source": [
    "#Casefold #It is a predefined string function\n",
    "#Considers only uppercase characters and converts to lowercase characters.\n",
    "#returns other characters ai they are.\n",
    "#No arguments are accepted\n",
    "st = 'HellowO123@rld'\n",
    "st.casefold()"
   ]
  },
  {
   "cell_type": "code",
   "execution_count": 10,
   "metadata": {},
   "outputs": [
    {
     "data": {
      "text/plain": [
       "'helloworld@123__'"
      ]
     },
     "execution_count": 10,
     "metadata": {},
     "output_type": "execute_result"
    }
   ],
   "source": [
    "#Function by user\n",
    "\n",
    "def u_casefold(coll):\n",
    "    if type(coll)!= str:\n",
    "        raise AttributeError\n",
    "    res= ''\n",
    "    start = 0\n",
    "    while start<len(coll):\n",
    "        if 'A'<=coll[start]<='Z':\n",
    "            res+=chr(ord(coll[start])+32)\n",
    "        else:\n",
    "            res+=coll[start]\n",
    "        start+=1\n",
    "    return res\n",
    "\n",
    "u_casefold('HelloWorld@123__')"
   ]
  },
  {
   "cell_type": "code",
   "execution_count": 6,
   "metadata": {},
   "outputs": [
    {
     "data": {
      "text/plain": [
       "'Hell@Oworld'"
      ]
     },
     "execution_count": 6,
     "metadata": {},
     "output_type": "execute_result"
    }
   ],
   "source": [
    "#.title()\n",
    "#Predefined function with no additional arguments\n",
    "#First character is uppercase and character next to special character or ascii number is uppercase. \n",
    "#remaining all characters are lower.\n",
    "# Special characters are returned as they are.\n",
    "\n",
    "st = 'hell@oworld'\n",
    "st.title()"
   ]
  },
  {
   "cell_type": "code",
   "execution_count": 16,
   "metadata": {},
   "outputs": [
    {
     "data": {
      "text/plain": [
       "'Hello@World'"
      ]
     },
     "execution_count": 16,
     "metadata": {},
     "output_type": "execute_result"
    }
   ],
   "source": [
    "#User defined .title() function\n",
    "\n",
    "def u_title(coll):\n",
    "    if type(coll)!= str:\n",
    "        raise AttributeError\n",
    "    res = ''\n",
    "    start = None\n",
    "    if 'A' <= coll[0] <= 'Z':\n",
    "        res+= coll[0]\n",
    "        start = 1\n",
    "    elif 'a' <= coll[0] <= 'z':\n",
    "        res += chr(ord(coll[0])-32)\n",
    "        start = 1\n",
    "    else:\n",
    "        start = 0\n",
    "    while start<len(coll):\n",
    "        if not ('A'<= coll[start] <= 'Z' or 'a' <= coll[start] <= 'z'):\n",
    "            res+=coll[start]\n",
    "            if 'a' <= coll[start+1] <= 'z':\n",
    "                res+= chr(ord(coll[start+1])-32)\n",
    "                start+=1\n",
    "            elif 'A' <= coll[start+1] <= 'Z':\n",
    "                res+=coll[start+1]\n",
    "                start+=1\n",
    "        else: \n",
    "            res+= coll[start]\n",
    "        start+=1\n",
    "    return res\n",
    "\n",
    "u_title('hello@world')\n",
    "        "
   ]
  },
  {
   "cell_type": "code",
   "execution_count": 34,
   "metadata": {},
   "outputs": [
    {
     "data": {
      "text/plain": [
       "False"
      ]
     },
     "execution_count": 34,
     "metadata": {},
     "output_type": "execute_result"
    }
   ],
   "source": [
    "#WAP to check whether given string is title case or not.\n",
    "\n",
    "st = ' HellWo1Rld'\n",
    "st.istitle()\n"
   ]
  },
  {
   "cell_type": "code",
   "execution_count": 2,
   "metadata": {
    "tags": [
     "Review"
    ]
   },
   "outputs": [
    {
     "ename": "IndexError",
     "evalue": "string index out of range",
     "output_type": "error",
     "traceback": [
      "\u001b[1;31m---------------------------------------------------------------------------\u001b[0m",
      "\u001b[1;31mIndexError\u001b[0m                                Traceback (most recent call last)",
      "Cell \u001b[1;32mIn[2], line 19\u001b[0m\n\u001b[0;32m     16\u001b[0m         start\u001b[39m+\u001b[39m\u001b[39m=\u001b[39m\u001b[39m1\u001b[39m\n\u001b[0;32m     17\u001b[0m     \u001b[39mreturn\u001b[39;00m \u001b[39mTrue\u001b[39;00m\n\u001b[1;32m---> 19\u001b[0m u_istitle(\u001b[39m'\u001b[39;49m\u001b[39mHello World\u001b[39;49m\u001b[39m'\u001b[39;49m)\n",
      "Cell \u001b[1;32mIn[2], line 14\u001b[0m, in \u001b[0;36mu_istitle\u001b[1;34m(coll)\u001b[0m\n\u001b[0;32m     12\u001b[0m         \u001b[39mreturn\u001b[39;00m \u001b[39mFalse\u001b[39;00m\n\u001b[0;32m     13\u001b[0m \u001b[39melse\u001b[39;00m:\n\u001b[1;32m---> 14\u001b[0m     \u001b[39mif\u001b[39;00m \u001b[39m'\u001b[39m\u001b[39mA\u001b[39m\u001b[39m'\u001b[39m \u001b[39m<\u001b[39m\u001b[39m=\u001b[39m coll[start\u001b[39m+\u001b[39;49m\u001b[39m1\u001b[39;49m] \u001b[39m<\u001b[39m\u001b[39m=\u001b[39m \u001b[39m'\u001b[39m\u001b[39mZ\u001b[39m\u001b[39m'\u001b[39m \u001b[39mand\u001b[39;00m (start\u001b[39m+\u001b[39m\u001b[39m1\u001b[39m)\u001b[39m<\u001b[39m\u001b[39m=\u001b[39m\u001b[39mlen\u001b[39m(coll):\n\u001b[0;32m     15\u001b[0m         \u001b[39mreturn\u001b[39;00m \u001b[39mFalse\u001b[39;00m\n\u001b[0;32m     16\u001b[0m start\u001b[39m+\u001b[39m\u001b[39m=\u001b[39m\u001b[39m1\u001b[39m\n",
      "\u001b[1;31mIndexError\u001b[0m: string index out of range"
     ]
    }
   ],
   "source": [
    "#User defined .istitle()\n",
    "\n",
    "def u_istitle(coll):\n",
    "    if type(coll)!=str:\n",
    "        raise AttributeError\n",
    "    if 'a' <= coll[0] <= 'z':\n",
    "        return False\n",
    "    start = 1\n",
    "    while start<len(coll):\n",
    "        if not ('A'<= coll[start] <= 'Z' or 'a' <=coll[start]<='z'):\n",
    "            if 'a'<=coll[start+1]<='z':\n",
    "                return False\n",
    "        else:\n",
    "            if 'A' <= coll[start+1] <= 'Z' and (start+1)<=len(coll):\n",
    "                return False\n",
    "        start+=1\n",
    "    return True\n",
    "\n",
    "u_istitle('Hello World')\n"
   ]
  },
  {
   "cell_type": "code",
   "execution_count": 67,
   "metadata": {},
   "outputs": [
    {
     "data": {
      "text/plain": [
       "'SSHelloSSS'"
      ]
     },
     "execution_count": 67,
     "metadata": {},
     "output_type": "execute_result"
    }
   ],
   "source": [
    "#.center()\n",
    "#Predefined string function\n",
    "#It will cebterize the given string using filling characters.\n",
    "#Accepts 2 arguments.\n",
    "#1. Length if the string and 2. Filling character\n",
    "#By default space is taken as filling character\n",
    "\n",
    "st = 'Hello'\n",
    "st.center(10,'S')"
   ]
  },
  {
   "cell_type": "code",
   "execution_count": 68,
   "metadata": {},
   "outputs": [
    {
     "data": {
      "text/plain": [
       "'SSHelloSSS'"
      ]
     },
     "execution_count": 68,
     "metadata": {},
     "output_type": "execute_result"
    }
   ],
   "source": [
    "#user defined .center()\n",
    "\n",
    "def u_center(coll, leng=0, fil_char=' '):\n",
    "    if type(coll)!=str:\n",
    "        raise AttributeError\n",
    "    if len(coll)>=leng:\n",
    "        return coll\n",
    "    res = leng - len(coll)\n",
    "    left = res//2\n",
    "    right = res-left\n",
    "    return fil_char*left + coll + fil_char*right\n",
    "\n",
    "u_center('Hello',10, 'S')"
   ]
  },
  {
   "cell_type": "code",
   "execution_count": 24,
   "metadata": {},
   "outputs": [
    {
     "data": {
      "text/plain": [
       "'Hello java developers python learners'"
      ]
     },
     "execution_count": 24,
     "metadata": {},
     "output_type": "execute_result"
    }
   ],
   "source": [
    "#replace()\n",
    "'''It is a predefined string function\n",
    "It will replaces all the occurances or certain number of occurances in the given string with the new character\n",
    "Accepts 3 inputs 1. Old string 2. New string and 3. Occurances\n",
    "By default occurances are set to max'''\n",
    "\n",
    "st = 'Hello python developers python learners'\n",
    "st.replace('python', 'java', 1)"
   ]
  },
  {
   "cell_type": "code",
   "execution_count": 74,
   "metadata": {},
   "outputs": [
    {
     "data": {
      "text/plain": [
       "'IBALLS#IS#A#HARDWARE#COMPANY'"
      ]
     },
     "execution_count": 74,
     "metadata": {},
     "output_type": "execute_result"
    }
   ],
   "source": [
    "#WAP to replace specifin character with new character.\n",
    "st = 'IBALLS IS A HARDWARE COMPANY'\n",
    "def replace_char(coll, old, new):\n",
    "    res = ''\n",
    "    start = 0\n",
    "    while start<len(coll):\n",
    "        if old == coll[start]:\n",
    "            res+= new\n",
    "        else:\n",
    "            res+=coll[start]\n",
    "        start+=1\n",
    "    return res\n",
    "\n",
    "replace_char(st, ' ', '#')"
   ]
  },
  {
   "cell_type": "code",
   "execution_count": 7,
   "metadata": {},
   "outputs": [
    {
     "data": {
      "text/plain": [
       "'IBALL@IS@SOFTWARE@COMPANY'"
      ]
     },
     "execution_count": 7,
     "metadata": {},
     "output_type": "execute_result"
    }
   ],
   "source": [
    "#WAP to replace certain character with new character in a string based on specified times.\n",
    "\n",
    "def replace_char(coll, old, new, occur= None):\n",
    "    if type(coll)!=str:\n",
    "        raise AttributeError\n",
    "    if occur == None:\n",
    "        occur = len(coll)\n",
    "    res = ''\n",
    "    start = 0\n",
    "    count = 0\n",
    "    while start<len(coll):\n",
    "        if count<occur:\n",
    "            if old == coll[start]:\n",
    "                res+= new\n",
    "                count+=1\n",
    "            else:\n",
    "                res+=coll[start]\n",
    "        else:\n",
    "            res+=coll[start]\n",
    "        start+=1\n",
    "\n",
    "    return res\n",
    "\n",
    "st1 = 'IBALL IS SOFTWARE COMPANY'\n",
    "\n",
    "replace_char(st1, ' ','@')\n"
   ]
  },
  {
   "cell_type": "code",
   "execution_count": 44,
   "metadata": {},
   "outputs": [
    {
     "data": {
      "text/plain": [
       "'IBALL WAS A SOFTWARE WAS COMPANY WAS'"
      ]
     },
     "execution_count": 44,
     "metadata": {},
     "output_type": "execute_result"
    }
   ],
   "source": [
    "#WAP to replace specific substring with new one from given string.\n",
    "\n",
    "st = 'IBALL IS A SOFTWARE IS COMPANY IS'\n",
    "def replace_substring(coll,old,new):\n",
    "    res = ''\n",
    "    start = 0\n",
    "    while start<len(coll):\n",
    "        if coll[start:start+len(old)] == old:\n",
    "            res+= new\n",
    "            start+=len(old)\n",
    "        else:\n",
    "            res+=coll[start]\n",
    "            start+=1\n",
    "    return res\n",
    "\n",
    "replace_substring(st, 'IS', 'WAS' )"
   ]
  },
  {
   "cell_type": "code",
   "execution_count": 43,
   "metadata": {},
   "outputs": [
    {
     "data": {
      "text/plain": [
       "'IBALL WAS A SOFTWARE COMPANY WAS WAS'"
      ]
     },
     "execution_count": 43,
     "metadata": {},
     "output_type": "execute_result"
    }
   ],
   "source": [
    "#WAP to replace specific substring with new substring in a string based on number of occurances.\n",
    "\n",
    "def u_replace(coll, old, new, occur= None):\n",
    "    if type(coll)!=str:\n",
    "        raise AttributeError\n",
    "    if len(coll)==0:\n",
    "        return -1\n",
    "    if occur == None:\n",
    "        occur = len(coll)\n",
    "    res= ''\n",
    "    count = 0\n",
    "    start = 0\n",
    "    while start<len(coll):\n",
    "        if count<occur:\n",
    "            if coll[start:start+len(old)] == old:\n",
    "                res+= new\n",
    "                count+=1\n",
    "                start+=len(old)\n",
    "            else:\n",
    "                res+=coll[start]\n",
    "                start+=1\n",
    "        else:\n",
    "            res+=coll[start]\n",
    "            start+=1\n",
    "\n",
    "    return res\n",
    "\n",
    "st = 'IBALL IS A SOFTWARE COMPANY IS IS'\n",
    "u_replace(st, 'IS', 'WAS')\n",
    "            "
   ]
  },
  {
   "cell_type": "code",
   "execution_count": 51,
   "metadata": {},
   "outputs": [
    {
     "data": {
      "text/plain": [
       "'PYTHON IS A PROGRAMMING LANGUAGE JAVA IS DYNAMIC PYTHON IS EASY'"
      ]
     },
     "execution_count": 51,
     "metadata": {},
     "output_type": "execute_result"
    }
   ],
   "source": [
    "#including range\n",
    "def u_replace(coll, old, new, start = 0, end = None):\n",
    "    res = ''\n",
    "    if type(coll)!=str:\n",
    "        raise AttributeError\n",
    "    if end ==  None:\n",
    "        end = len(coll)\n",
    "    stt = start\n",
    "    while start<end:\n",
    "        if coll[start:start+len(old)] == old:\n",
    "            res+=new\n",
    "            start+=len(old)\n",
    "        else:\n",
    "            res+=coll[start]\n",
    "            start+=1\n",
    "    return coll[:stt] + res + coll[end:]\n",
    "st = 'PYTHON IS A PROGRAMMING LANGUAGE PYTHON IS DYNAMIC PYTHON IS EASY'\n",
    "\n",
    "u_replace(st, 'PYTHON', 'JAVA',5, 50)"
   ]
  },
  {
   "cell_type": "code",
   "execution_count": 7,
   "metadata": {},
   "outputs": [
    {
     "data": {
      "text/plain": [
       "'PYTHON IS PROGRAMMING LANGUAGE JAVA IS DYNAMIC, PYTHON IS EASY'"
      ]
     },
     "execution_count": 7,
     "metadata": {},
     "output_type": "execute_result"
    }
   ],
   "source": [
    "def uu_replace(coll,old,new,start=0,end=None,occur=None):\n",
    "    if type(coll)!=str:\n",
    "        raise AttributeError\n",
    "    if end==None:\n",
    "        end = len(coll)\n",
    "    if occur==None:\n",
    "        occur = len(coll)\n",
    "    stt = start\n",
    "    res = ''\n",
    "    count = 0\n",
    "    while start<end:\n",
    "        if count<occur:\n",
    "            if coll[start:start+len(old)] == old:\n",
    "                res+= new\n",
    "                count+=1\n",
    "                start+=len(old)\n",
    "            else:\n",
    "                res+= coll[start]\n",
    "                start+=1\n",
    "        else:\n",
    "            res+=coll[start]\n",
    "            start+=1\n",
    "    return coll[:stt] + res + coll[end:]\n",
    "\n",
    "st = 'PYTHON IS PROGRAMMING LANGUAGE PYTHON IS DYNAMIC, PYTHON IS EASY'\n",
    "uu_replace(st, 'PYTHON', 'JAVA', 5,None, 1)"
   ]
  },
  {
   "cell_type": "code",
   "execution_count": 2,
   "metadata": {},
   "outputs": [
    {
     "data": {
      "text/plain": [
       "-1"
      ]
     },
     "execution_count": 2,
     "metadata": {},
     "output_type": "execute_result"
    }
   ],
   "source": [
    "st = 'Helloworld'\n",
    "st.find('a')\n",
    "#Predefined function\n",
    "#Accepts 3 inputs 1. substring, 2. Start index, 3. End index\n",
    "#returns first occurance index value in string with in range"
   ]
  },
  {
   "cell_type": "code",
   "execution_count": 7,
   "metadata": {},
   "outputs": [
    {
     "data": {
      "text/plain": [
       "-1"
      ]
     },
     "execution_count": 7,
     "metadata": {},
     "output_type": "execute_result"
    }
   ],
   "source": [
    "#User defined\n",
    "\n",
    "def u_find(coll, ele, start = 0, end = None):\n",
    "    if type(coll)!=str:\n",
    "        raise TypeError\n",
    "    if end == None:\n",
    "        end = len(coll)\n",
    "    while start<end:\n",
    "        if coll[start]==ele:\n",
    "            return start\n",
    "        start+=1\n",
    "    return -1\n",
    "\n",
    "u_find('Hellworld','a')"
   ]
  },
  {
   "cell_type": "code",
   "execution_count": 4,
   "metadata": {},
   "outputs": [
    {
     "data": {
      "text/plain": [
       "6"
      ]
     },
     "execution_count": 4,
     "metadata": {},
     "output_type": "execute_result"
    }
   ],
   "source": [
    "#Design a function to return index value of specifin occurance of ele in a string\n",
    "\n",
    "def specific_find(coll, ele, occur = None):\n",
    "    if type(coll) != str:\n",
    "        raise TypeError\n",
    "    if occur == None:\n",
    "        occur = len(coll)\n",
    "    start = 0\n",
    "    count = 0\n",
    "    while start<len(coll):\n",
    "        if coll[start]==ele:\n",
    "            count+=1\n",
    "            if count == occur:\n",
    "                return start\n",
    "        start+=1\n",
    "    return -1\n",
    "\n",
    "specific_find('Helloworld','o',2)"
   ]
  },
  {
   "cell_type": "code",
   "execution_count": 5,
   "metadata": {},
   "outputs": [
    {
     "data": {
      "text/plain": [
       "6"
      ]
     },
     "execution_count": 5,
     "metadata": {},
     "output_type": "execute_result"
    }
   ],
   "source": [
    "#With range and occur\n",
    "\n",
    "def specific_occur_range(coll,ele,occur= 1, start = 0, end = None):\n",
    "    if type(coll)!=str:\n",
    "        raise TypeError\n",
    "    if end == None:\n",
    "        end = len(coll)\n",
    "    if occur == None:\n",
    "        occur = len(coll)\n",
    "    count = 0\n",
    "    while start<end:\n",
    "        if coll[start]==ele:\n",
    "            count+=1\n",
    "            if count == occur:\n",
    "                return start\n",
    "        start+=1\n",
    "    return -1\n",
    "\n",
    "specific_occur_range('Helloworld', 'o',2)\n",
    "            "
   ]
  },
  {
   "cell_type": "code",
   "execution_count": 19,
   "metadata": {},
   "outputs": [
    {
     "ename": "ValueError",
     "evalue": "substring not found",
     "output_type": "error",
     "traceback": [
      "\u001b[1;31m---------------------------------------------------------------------------\u001b[0m",
      "\u001b[1;31mValueError\u001b[0m                                Traceback (most recent call last)",
      "Cell \u001b[1;32mIn[19], line 8\u001b[0m\n\u001b[0;32m      1\u001b[0m \u001b[39m#rindex()\u001b[39;00m\n\u001b[0;32m      2\u001b[0m \u001b[39m#it will find the element in given string and returns the index value of first occurance from right to left.\u001b[39;00m\n\u001b[0;32m      3\u001b[0m \u001b[39m#Accepts 3 arguments\u001b[39;00m\n\u001b[0;32m      4\u001b[0m \u001b[39m#1. element, 2. Starting index, 3.Ending index\u001b[39;00m\n\u001b[0;32m      5\u001b[0m \u001b[39m#returns value error if element is not present in string\u001b[39;00m\n\u001b[0;32m      7\u001b[0m st \u001b[39m=\u001b[39m \u001b[39m'\u001b[39m\u001b[39mPYTHON PYTHON\u001b[39m\u001b[39m'\u001b[39m\n\u001b[1;32m----> 8\u001b[0m st\u001b[39m.\u001b[39;49mrindex(\u001b[39m'\u001b[39;49m\u001b[39mY\u001b[39;49m\u001b[39m'\u001b[39;49m,\u001b[39m13\u001b[39;49m)\n",
      "\u001b[1;31mValueError\u001b[0m: substring not found"
     ]
    }
   ],
   "source": [
    "#rindex()\n",
    "#it will find the element in given string and returns the index value of first occurance from right to left.\n",
    "#Accepts 3 arguments\n",
    "#1. element, 2. Starting index, 3.Ending index\n",
    "#returns value error if element is not present in string\n",
    "\n",
    "st = 'PYTHON PYTHON'\n",
    "st.rindex('Y',13)"
   ]
  },
  {
   "cell_type": "code",
   "execution_count": null,
   "metadata": {},
   "outputs": [],
   "source": [
    "def u_rindex(coll, ele, start=0,end=0):\n",
    "    if start<0 and end<0:\n",
    "        start,end = end, start\n",
    "        temp = True\n",
    "    if start>0 and end>0:\n",
    "        start,end=end,start\n",
    "        temp = False\n",
    "    if start ==0:\n",
    "        start = len(coll)-1\n",
    "    "
   ]
  },
  {
   "cell_type": "code",
   "execution_count": 32,
   "metadata": {},
   "outputs": [
    {
     "data": {
      "text/plain": [
       "True"
      ]
     },
     "execution_count": 32,
     "metadata": {},
     "output_type": "execute_result"
    }
   ],
   "source": [
    "#startswith()\n",
    "#Predefined function which checks whether the given element is present in the starting of the string or not.\n",
    "#If present returns True otherwise False\n",
    "#Accepts 3 arguments. 1.Element 2. Starting index 3. Ending index\n",
    "\n",
    "st = 'Hello World'\n",
    "st.startswith('Hello',0,10)"
   ]
  },
  {
   "cell_type": "code",
   "execution_count": 96,
   "metadata": {},
   "outputs": [
    {
     "data": {
      "text/plain": [
       "True"
      ]
     },
     "execution_count": 96,
     "metadata": {},
     "output_type": "execute_result"
    }
   ],
   "source": [
    "#User defined\n",
    "\n",
    "def u_startswith(coll,ele,start=0,end = 0):\n",
    "    if type(coll)!=str:\n",
    "        return -1\n",
    "    if end==0:\n",
    "        end= start+ len(ele)\n",
    "    while start<end:\n",
    "        if coll[start:start+len(ele)] == ele:\n",
    "            return True\n",
    "        start+=1\n",
    "    return False\n",
    "\n",
    "u_startswith('Hello World','llo',2)"
   ]
  },
  {
   "cell_type": "code",
   "execution_count": 10,
   "metadata": {},
   "outputs": [
    {
     "data": {
      "text/plain": [
       "False"
      ]
     },
     "execution_count": 10,
     "metadata": {},
     "output_type": "execute_result"
    }
   ],
   "source": [
    "def u_startswith2(coll,ele,start = 0, end = 0):\n",
    "    if end == 0:\n",
    "        end = len(coll)\n",
    "    if ele == coll[:len(ele)]:\n",
    "        return True\n",
    "    else:\n",
    "        return False\n",
    "u_startswith2('Hello world','llo')"
   ]
  },
  {
   "cell_type": "code",
   "execution_count": 45,
   "metadata": {},
   "outputs": [
    {
     "data": {
      "text/plain": [
       "True"
      ]
     },
     "execution_count": 45,
     "metadata": {},
     "output_type": "execute_result"
    }
   ],
   "source": [
    "#endswith()\n",
    "#predefined function which checks whether the given string ednswith the given element or not.\n",
    "#If yes, returns True otherwise False\n",
    "#3 arguments. 1.ele 2. Start index 3. End index\n",
    "\n",
    "st = 'Helloworld'\n",
    "st.endswith('ld',5,15)"
   ]
  },
  {
   "cell_type": "code",
   "execution_count": 69,
   "metadata": {},
   "outputs": [
    {
     "data": {
      "text/plain": [
       "True"
      ]
     },
     "execution_count": 69,
     "metadata": {},
     "output_type": "execute_result"
    }
   ],
   "source": [
    "#User defined\n",
    "\n",
    "def u_endswith(coll, ele, start = 0, end = 0):\n",
    "    if type(coll)!=str:\n",
    "        return -1\n",
    "    if end==0:\n",
    "        end = len(coll)\n",
    "    coll = coll[start:end+1][::-1]\n",
    "    ele = ele[::-1]\n",
    "    i = 0\n",
    "    j = len(ele)\n",
    "    while i<j:\n",
    "        if coll[i:i+len(ele)] == ele:\n",
    "            return True\n",
    "        i+=1\n",
    "    return False\n",
    "\n",
    "u_endswith('saisrinu','inu')"
   ]
  },
  {
   "cell_type": "code",
   "execution_count": 70,
   "metadata": {},
   "outputs": [
    {
     "data": {
      "text/plain": [
       "'ssrn'"
      ]
     },
     "execution_count": 70,
     "metadata": {},
     "output_type": "execute_result"
    }
   ],
   "source": [
    "#WAP to eliminate vowels from given string\n",
    "\n",
    "def remove_vowels(coll):\n",
    "    res = ''\n",
    "    start = 0\n",
    "    while start<len(coll):\n",
    "        if coll[start] not in 'AEIOUaeiou':\n",
    "            res+=coll[start]\n",
    "        start+=1\n",
    "    return res\n",
    "remove_vowels('saisrinu')"
   ]
  },
  {
   "cell_type": "code",
   "execution_count": 79,
   "metadata": {},
   "outputs": [
    {
     "data": {
      "text/plain": [
       "'sasnu'"
      ]
     },
     "execution_count": 79,
     "metadata": {},
     "output_type": "execute_result"
    }
   ],
   "source": [
    "#WAP to eliminate specifin characters\n",
    "def remove_specific(coll, char):\n",
    "    res = ''\n",
    "    start = 0\n",
    "    while start<len(coll):\n",
    "        if coll[start] not in char:\n",
    "            res+=coll[start]\n",
    "        start+=1\n",
    "    return res\n",
    "\n",
    "remove_specific('saisrinu','ri')"
   ]
  },
  {
   "cell_type": "code",
   "execution_count": 82,
   "metadata": {},
   "outputs": [
    {
     "data": {
      "text/plain": [
       "'Saisinu'"
      ]
     },
     "execution_count": 82,
     "metadata": {},
     "output_type": "execute_result"
    }
   ],
   "source": [
    "#WAP to eliminate substring from string\n",
    "\n",
    "def remove_substr(coll,substr):\n",
    "    start = 0\n",
    "    res = ''\n",
    "    while start<len(coll):\n",
    "        if coll[start:start+len(substr)] == substr:\n",
    "            start+=len(substr)\n",
    "        else:\n",
    "            res+=coll[start]\n",
    "            start+=1\n",
    "    return res\n",
    "\n",
    "remove_substr('Saisrinu','r')"
   ]
  },
  {
   "cell_type": "code",
   "execution_count": 6,
   "metadata": {},
   "outputs": [
    {
     "data": {
      "text/plain": [
       "' world'"
      ]
     },
     "execution_count": 6,
     "metadata": {},
     "output_type": "execute_result"
    }
   ],
   "source": [
    "#removeprefix()\n",
    "#Predefined function\n",
    "#CHecks whether the given sy=ubstring is present in starting of the string and removes the string and returns remaining string.\n",
    "#If not present at string, returns original string\n",
    "#Accepts one argument that is substring\n",
    "\n",
    "st =  'hello world'\n",
    "st.removeprefix('hello')"
   ]
  },
  {
   "cell_type": "code",
   "execution_count": 4,
   "metadata": {},
   "outputs": [
    {
     "data": {
      "text/plain": [
       "' world'"
      ]
     },
     "execution_count": 4,
     "metadata": {},
     "output_type": "execute_result"
    }
   ],
   "source": [
    "#User defined\n",
    "\n",
    "def u_removeprefix(coll, ele):\n",
    "    if ele == coll[:len(ele)]:\n",
    "        return coll[len(ele):]\n",
    "    else:\n",
    "        return coll\n",
    "u_removeprefix('Hello world','Hello')"
   ]
  },
  {
   "cell_type": "code",
   "execution_count": 14,
   "metadata": {},
   "outputs": [
    {
     "data": {
      "text/plain": [
       "'Helloworld'"
      ]
     },
     "execution_count": 14,
     "metadata": {},
     "output_type": "execute_result"
    }
   ],
   "source": [
    "#removesuffix()\n",
    "#Predefined function which removes the suffix element from the string\n",
    "#Accepts one argument that is suffix element\n",
    "\n",
    "st = 'Helloworld'\n",
    "st.removesuffix('H')"
   ]
  },
  {
   "cell_type": "code",
   "execution_count": 20,
   "metadata": {},
   "outputs": [
    {
     "data": {
      "text/plain": [
       "'Hello'"
      ]
     },
     "execution_count": 20,
     "metadata": {},
     "output_type": "execute_result"
    }
   ],
   "source": [
    "#User defined \n",
    "\n",
    "def u_removesuffix(coll, ele):\n",
    "    coll = coll[::-1]\n",
    "    ele = ele[::-1]\n",
    "    if ele == coll[:len(ele)]:\n",
    "        return coll[len(ele):][::-1]\n",
    "    else:\n",
    "        return coll[::-1]\n",
    "    \n",
    "u_removesuffix(\"Helloworld\",'world')"
   ]
  },
  {
   "cell_type": "code",
   "execution_count": 31,
   "metadata": {},
   "outputs": [
    {
     "data": {
      "text/plain": [
       "' #He llo world '"
      ]
     },
     "execution_count": 31,
     "metadata": {},
     "output_type": "execute_result"
    }
   ],
   "source": [
    "#.strip()\n",
    "#Predefined string function\n",
    "#Removes the element in the right and left of the main string and returns the main string\n",
    "#Accepts element to be remove. By default it is space\n",
    "\n",
    "st = ' #He llo world '\n",
    "st.strip('#')"
   ]
  },
  {
   "cell_type": "code",
   "execution_count": 37,
   "metadata": {},
   "outputs": [
    {
     "data": {
      "text/plain": [
       "'Hello World'"
      ]
     },
     "execution_count": 37,
     "metadata": {},
     "output_type": "execute_result"
    }
   ],
   "source": [
    "#User defined strip()\n",
    "\n",
    "def u_strip(coll, ele = ' '):\n",
    "    res = ''\n",
    "    start = 0\n",
    "    while start<len(coll):\n",
    "        if coll[start] != ele:\n",
    "            res+=coll[start:]\n",
    "            break\n",
    "        start+=1\n",
    "    start = 0\n",
    "    coll = res[::-1]\n",
    "    ele = ele[::-1]\n",
    "    res = ''\n",
    "    while start<len(coll):\n",
    "        if coll[start]!=ele:\n",
    "            res+= coll[start:]\n",
    "            break\n",
    "        start+=1\n",
    "    return res[::-1]\n",
    "\n",
    "u_strip('##Hello World#','#')"
   ]
  },
  {
   "cell_type": "code",
   "execution_count": 50,
   "metadata": {},
   "outputs": [
    {
     "data": {
      "text/plain": [
       "'# Hello world##'"
      ]
     },
     "execution_count": 50,
     "metadata": {},
     "output_type": "execute_result"
    }
   ],
   "source": [
    "#rstrip()\n",
    "#Predefined string function\n",
    "#Removes the element in the right of the main string and returns remaining string\n",
    "#Accepts one argument that is element to be removes. By default it is space\n",
    "\n",
    "st = '# Hello world##'\n",
    "st.rstrip('@')"
   ]
  },
  {
   "cell_type": "code",
   "execution_count": 65,
   "metadata": {},
   "outputs": [
    {
     "data": {
      "text/plain": [
       "'   Hello world'"
      ]
     },
     "execution_count": 65,
     "metadata": {},
     "output_type": "execute_result"
    }
   ],
   "source": [
    "#User defined\n",
    "\n",
    "def u_rstrip(coll, ele = ' '):\n",
    "    coll = coll[::-1]\n",
    "    ele = ele[::-1]\n",
    "    start = 0\n",
    "    while start<len(coll):\n",
    "        if coll[start] != ele:\n",
    "            return coll[start:][::-1]\n",
    "        start+=1\n",
    "\n",
    "u_rstrip('   Hello world   ')"
   ]
  },
  {
   "cell_type": "code",
   "execution_count": 64,
   "metadata": {},
   "outputs": [
    {
     "data": {
      "text/plain": [
       "'   Hello world  '"
      ]
     },
     "execution_count": 64,
     "metadata": {},
     "output_type": "execute_result"
    }
   ],
   "source": [
    "#lstrip()\n",
    "#Predefined string function\n",
    "#Removes the element from the left of the string and returns the main string\n",
    "#Accepts the element to be removed. By default the element is space\n",
    "\n",
    "st = '#   Hello world  '\n",
    "st.lstrip('#')"
   ]
  },
  {
   "cell_type": "code",
   "execution_count": 69,
   "metadata": {},
   "outputs": [
    {
     "data": {
      "text/plain": [
       "'Hello World  '"
      ]
     },
     "execution_count": 69,
     "metadata": {},
     "output_type": "execute_result"
    }
   ],
   "source": [
    "#User defined function\n",
    "\n",
    "def u_lstrip(coll, ele = ' '):\n",
    "    start = 0\n",
    "    while start<len(coll):\n",
    "        if coll[start]!=ele:\n",
    "            return coll[start:]\n",
    "        start+=1\n",
    "u_lstrip('##Hello World  ', '#')"
   ]
  },
  {
   "cell_type": "code",
   "execution_count": 81,
   "metadata": {},
   "outputs": [
    {
     "data": {
      "text/plain": [
       "'Helloworld'"
      ]
     },
     "execution_count": 81,
     "metadata": {},
     "output_type": "execute_result"
    }
   ],
   "source": [
    "st = 'Helloworld'\n",
    "st.ljust(10,'@')\n",
    "\n",
    "#ljust() if a predefined function which makes the length of string equal to required length\n",
    "#Accepts length and fill character\n",
    "#By default fill character is space"
   ]
  },
  {
   "cell_type": "code",
   "execution_count": 86,
   "metadata": {},
   "outputs": [
    {
     "data": {
      "text/plain": [
       "'  Helloworld'"
      ]
     },
     "execution_count": 86,
     "metadata": {},
     "output_type": "execute_result"
    }
   ],
   "source": [
    "#User defined\n",
    "def u_ljust(coll, length, fil_char = ' '):\n",
    "    if len(coll)>=length:\n",
    "        return coll\n",
    "    j = length - len(coll)\n",
    "    return coll + j*fil_char\n",
    "\n",
    "u_ljust('  Helloworld',5,'@')"
   ]
  },
  {
   "cell_type": "code",
   "execution_count": 79,
   "metadata": {},
   "outputs": [
    {
     "data": {
      "text/plain": [
       "'     Helloworld'"
      ]
     },
     "execution_count": 79,
     "metadata": {},
     "output_type": "execute_result"
    }
   ],
   "source": [
    "st = 'Helloworld'\n",
    "st.rjust(15)"
   ]
  },
  {
   "cell_type": "code",
   "execution_count": 89,
   "metadata": {},
   "outputs": [
    {
     "data": {
      "text/plain": [
       "'##Helloworld'"
      ]
     },
     "execution_count": 89,
     "metadata": {},
     "output_type": "execute_result"
    }
   ],
   "source": [
    "#user defined rjust()\n",
    "#adds characters left of the string\n",
    "\n",
    "def u_rjust(coll, length, fil_char = ' '):\n",
    "    if len(coll)>=length:\n",
    "        return coll\n",
    "    j = length - len(coll)\n",
    "    return fil_char*j+coll\n",
    "\n",
    "u_rjust('Helloworld',12,'#')"
   ]
  },
  {
   "cell_type": "code",
   "execution_count": 99,
   "metadata": {},
   "outputs": [
    {
     "data": {
      "text/plain": [
       "['Hello', 'wor ld']"
      ]
     },
     "execution_count": 99,
     "metadata": {},
     "output_type": "execute_result"
    }
   ],
   "source": [
    "st = 'Hello wor ld'\n",
    "st.split(' ',1)\n",
    "\n",
    "#split()\n",
    "#predefined function which split the given string in to differnt string based on separator and adds them them in to a list.\n",
    "#by default separator is white space"
   ]
  },
  {
   "cell_type": "code",
   "execution_count": 107,
   "metadata": {},
   "outputs": [
    {
     "data": {
      "text/plain": [
       "['Python', 'is', 'a', 'programming', 'language']"
      ]
     },
     "execution_count": 107,
     "metadata": {},
     "output_type": "execute_result"
    }
   ],
   "source": [
    "#Split without count function \n",
    "#Simple split\n",
    "\n",
    "def simple_split(coll, ele = ' '):\n",
    "    l = []\n",
    "    s = ''\n",
    "    start = 0\n",
    "    while start<len(coll):\n",
    "        if coll[start] != ele:\n",
    "            s+=coll[start]\n",
    "        elif coll[start] == ele and len(s)!=0:\n",
    "            l+=[s]\n",
    "            s = ''\n",
    "        if start == len(coll)-1 and len(s)!=0:\n",
    "            l+=[s]\n",
    "        start+=1\n",
    "    return l\n",
    "\n",
    "simple_split('Python  is a programming language')"
   ]
  },
  {
   "cell_type": "code",
   "execution_count": 111,
   "metadata": {},
   "outputs": [
    {
     "data": {
      "text/plain": [
       "['Python', 'is', 'a', 'programming', 'language']"
      ]
     },
     "execution_count": 111,
     "metadata": {},
     "output_type": "execute_result"
    }
   ],
   "source": [
    "#.split() with count function\n",
    "#split()\n",
    "def u_split(coll, ele = ' ', occur = 0):\n",
    "    if type(coll)!=str:\n",
    "        raise AttributeError\n",
    "    if occur == 0:\n",
    "        occur = len(coll)\n",
    "    l = []\n",
    "    s = ''\n",
    "    start = 0\n",
    "    count = 0\n",
    "    while start<len(coll):\n",
    "        if count != occur:\n",
    "            if coll[start]!=ele:\n",
    "                s+=coll[start]\n",
    "            elif coll[start] == ele and len(s)!=0:\n",
    "                l+=[s]\n",
    "                count += 1\n",
    "                s = ''\n",
    "            if start == len(coll)-1 and len(s)!=0:\n",
    "                l+=[s]\n",
    "        else:\n",
    "            l+=[coll[start:]]\n",
    "        start+=1\n",
    "    return l\n",
    "\n",
    "u_split('Python is   a programming language')"
   ]
  },
  {
   "cell_type": "code",
   "execution_count": 2,
   "metadata": {},
   "outputs": [
    {
     "data": {
      "text/plain": [
       "['Python is   a programming language',\n",
       " '',\n",
       " 'Python is   a programming language',\n",
       " 'Python is   a programming language']"
      ]
     },
     "execution_count": 2,
     "metadata": {},
     "output_type": "execute_result"
    }
   ],
   "source": [
    "st = '''Python is   a programming language\n",
    "\n",
    "Python is   a programming language\n",
    "Python is   a programming language'''\n",
    "st.splitlines()"
   ]
  },
  {
   "cell_type": "code",
   "execution_count": 4,
   "metadata": {},
   "outputs": [
    {
     "data": {
      "text/plain": [
       "['Python is   a programming language',\n",
       " '',\n",
       " 'Python is   a programming language',\n",
       " 'Python is   a programming language']"
      ]
     },
     "execution_count": 4,
     "metadata": {},
     "output_type": "execute_result"
    }
   ],
   "source": [
    "#user defined \n",
    "def u_splitlines(coll):\n",
    "    s = ''\n",
    "    lis = []\n",
    "    start = 0\n",
    "    while start<len(coll):\n",
    "        if coll[start] != '\\n':\n",
    "            s+=coll[start]\n",
    "        elif coll[start] == '\\n':\n",
    "            lis+=[s]\n",
    "            s = ''\n",
    "        if start == len(coll)-1 and len(s)!=0:\n",
    "            lis += [s]\n",
    "        start+=1\n",
    "    return lis\n",
    "\n",
    "u_splitlines(st)"
   ]
  },
  {
   "cell_type": "code",
   "execution_count": 4,
   "metadata": {},
   "outputs": [
    {
     "name": "stdout",
     "output_type": "stream",
     "text": [
      "The square of 0 is 0\n",
      "The square of 1 is 1\n",
      "The square of 2 is 4\n",
      "The square of 3 is 9\n",
      "The square of 4 is 16\n",
      "The square of 5 is 25\n",
      "The square of 6 is 36\n",
      "The square of 7 is 49\n",
      "The square of 8 is 64\n",
      "The square of 9 is 81\n"
     ]
    }
   ],
   "source": [
    "def square(n):\n",
    "    return n*n \n",
    "\n",
    "for i in range(10):\n",
    "    print(f\"The square of {i} is {square(i)}\")"
   ]
  },
  {
   "cell_type": "code",
   "execution_count": 2,
   "metadata": {},
   "outputs": [],
   "source": [
    "def square(n):\n",
    "    return n*n "
   ]
  },
  {
   "cell_type": "code",
   "execution_count": null,
   "metadata": {},
   "outputs": [],
   "source": []
  }
 ],
 "metadata": {
  "kernelspec": {
   "display_name": "Python 3",
   "language": "python",
   "name": "python3"
  },
  "language_info": {
   "codemirror_mode": {
    "name": "ipython",
    "version": 3
   },
   "file_extension": ".py",
   "mimetype": "text/x-python",
   "name": "python",
   "nbconvert_exporter": "python",
   "pygments_lexer": "ipython3",
   "version": "3.11.2"
  },
  "orig_nbformat": 4
 },
 "nbformat": 4,
 "nbformat_minor": 2
}
