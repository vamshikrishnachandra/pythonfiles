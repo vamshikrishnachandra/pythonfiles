{
 "cells": [
  {
   "attachments": {},
   "cell_type": "markdown",
   "metadata": {},
   "source": [
    "1)WAP to check whether a number is positive. If Positive, print a message Positive."
   ]
  },
  {
   "cell_type": "code",
   "execution_count": 1,
   "metadata": {},
   "outputs": [
    {
     "name": "stdout",
     "output_type": "stream",
     "text": [
      "Postive\n"
     ]
    }
   ],
   "source": [
    "n = 9 \n",
    "if(n>0):\n",
    "    print(\"Postive\")"
   ]
  },
  {
   "attachments": {},
   "cell_type": "markdown",
   "metadata": {},
   "source": [
    "2)WAP to display hello world if the number is greater than 1 and lesser than 5"
   ]
  },
  {
   "cell_type": "code",
   "execution_count": 1,
   "metadata": {},
   "outputs": [
    {
     "name": "stdout",
     "output_type": "stream",
     "text": [
      "Hello World\n"
     ]
    }
   ],
   "source": [
    "A = eval(input())\n",
    "if(A>=1)and(A<=5):\n",
    "    print(\"Hello World\")"
   ]
  },
  {
   "attachments": {},
   "cell_type": "markdown",
   "metadata": {},
   "source": [
    "3)WAP to check whether the given number is divisible by 3 or not if print fizz."
   ]
  },
  {
   "cell_type": "code",
   "execution_count": null,
   "metadata": {},
   "outputs": [
    {
     "name": "stdout",
     "output_type": "stream",
     "text": [
      "fizz\n"
     ]
    }
   ],
   "source": [
    "number = eval(input())\n",
    "if(number%3)==0:\n",
    "    print(\"fizz\")"
   ]
  },
  {
   "attachments": {},
   "cell_type": "markdown",
   "metadata": {},
   "source": [
    "4)WAP to check whether given input is divisible by 2 and 6. If the condition is satisfied,  convert the given number into a complex number."
   ]
  },
  {
   "cell_type": "code",
   "execution_count": null,
   "metadata": {},
   "outputs": [
    {
     "name": "stdout",
     "output_type": "stream",
     "text": [
      "(12+0j)\n"
     ]
    }
   ],
   "source": [
    "number = eval(input())\n",
    "if (number%2)==0 and (number%6)==0:\n",
    "    print(complex(number))"
   ]
  },
  {
   "attachments": {},
   "cell_type": "markdown",
   "metadata": {},
   "source": [
    "5)WAP to check whether a given input is divisible by 3 or 5. If the condition is satisfied,  the number is converted to a list. \n",
    "i/p: 30 \n",
    "o/p:[‘3’,’0’]"
   ]
  },
  {
   "cell_type": "code",
   "execution_count": null,
   "metadata": {},
   "outputs": [
    {
     "name": "stdout",
     "output_type": "stream",
     "text": [
      "['3', '0']\n"
     ]
    }
   ],
   "source": [
    "a = 30 \n",
    "list_a = []\n",
    "if (a%3)==0 and(a%5)==0:\n",
    "    b=str(a)\n",
    "    print(list(b))\n",
    "    "
   ]
  },
  {
   "attachments": {},
   "cell_type": "markdown",
   "metadata": {},
   "source": [
    "6)Write a program to check whether a given number is multiple of 5 or not"
   ]
  },
  {
   "cell_type": "code",
   "execution_count": null,
   "metadata": {},
   "outputs": [],
   "source": [
    "a = eval(input())\n",
    "if (a%5)==0:\n",
    "    print(\"Number is divisible\")\n",
    "    "
   ]
  },
  {
   "attachments": {},
   "cell_type": "markdown",
   "metadata": {},
   "source": [
    "7)WAP to check whether the given input is 0 or not if 0 prints 0."
   ]
  },
  {
   "cell_type": "code",
   "execution_count": null,
   "metadata": {},
   "outputs": [],
   "source": [
    "a = eval(input())\n",
    "if(a==0):\n",
    "    print(\"0\")"
   ]
  },
  {
   "attachments": {},
   "cell_type": "markdown",
   "metadata": {},
   "source": [
    "8)WAP to check whether a number is negative. If negative, print a message negative."
   ]
  },
  {
   "cell_type": "code",
   "execution_count": null,
   "metadata": {},
   "outputs": [],
   "source": [
    "a = eval(input())\n",
    "if(a<0):\n",
    "    print(\"Negative\")"
   ]
  },
  {
   "attachments": {},
   "cell_type": "markdown",
   "metadata": {},
   "source": [
    "9)WAP to check whether a number is even or not. If even, store the value inside the list."
   ]
  },
  {
   "cell_type": "code",
   "execution_count": null,
   "metadata": {},
   "outputs": [
    {
     "name": "stdout",
     "output_type": "stream",
     "text": [
      "[4]\n"
     ]
    }
   ],
   "source": [
    "a = eval(input())\n",
    "list_a=[]\n",
    "if(a%2)==0:\n",
    "    list_a+=[a]\n",
    "    print(list_a)"
   ]
  },
  {
   "attachments": {},
   "cell_type": "markdown",
   "metadata": {},
   "source": [
    "10)WAP to check whether a number is odd or not. If odd, store the value inside the tuple."
   ]
  },
  {
   "cell_type": "code",
   "execution_count": null,
   "metadata": {},
   "outputs": [
    {
     "name": "stdout",
     "output_type": "stream",
     "text": [
      "(5,)\n"
     ]
    }
   ],
   "source": [
    "a = eval(input())\n",
    "tuple_a=()\n",
    "if(a%2)!=0:\n",
    "    tuple_a+=(a,)\n",
    "    print(tuple_a)"
   ]
  },
  {
   "attachments": {},
   "cell_type": "markdown",
   "metadata": {},
   "source": [
    "11)WAP to check whether a given value is divisible by 5 and 7. If the value is divisible, to display the square of the values."
   ]
  },
  {
   "cell_type": "code",
   "execution_count": null,
   "metadata": {},
   "outputs": [
    {
     "name": "stdout",
     "output_type": "stream",
     "text": [
      "1225\n"
     ]
    }
   ],
   "source": [
    "a = eval(input())\n",
    "if(a%5)==0 and (a%7)==0:\n",
    "    print(a**2)"
   ]
  },
  {
   "attachments": {},
   "cell_type": "markdown",
   "metadata": {},
   "source": [
    "12)WAP to check whether the given value's last digit is greater than 5 or not. If greater, to  perform the bitwise right shift operator (skipping value is 2)"
   ]
  },
  {
   "cell_type": "code",
   "execution_count": null,
   "metadata": {},
   "outputs": [
    {
     "name": "stdout",
     "output_type": "stream",
     "text": [
      "1472\n"
     ]
    }
   ],
   "source": [
    "a = \"46\"\n",
    "if(int(a[-1]))>5:\n",
    "    print(int(a)<<5)\n",
    "    "
   ]
  },
  {
   "attachments": {},
   "cell_type": "markdown",
   "metadata": {},
   "source": [
    "13)WAP to check whether a given value is divisible by 3 and less than 30. If the value is  divisible, to display the square of the values."
   ]
  },
  {
   "cell_type": "code",
   "execution_count": null,
   "metadata": {},
   "outputs": [
    {
     "name": "stdout",
     "output_type": "stream",
     "text": [
      "729\n"
     ]
    }
   ],
   "source": [
    "a = eval(input())\n",
    "if(a%3)==0 and a<=30:\n",
    "    print(a**2)"
   ]
  },
  {
   "attachments": {},
   "cell_type": "markdown",
   "metadata": {},
   "source": [
    "14)WAP to check whether a given value is an even number and divisible by 4. If satisfied  ,to display the cube of the values."
   ]
  },
  {
   "cell_type": "code",
   "execution_count": null,
   "metadata": {},
   "outputs": [
    {
     "name": "stdout",
     "output_type": "stream",
     "text": [
      "4096\n"
     ]
    }
   ],
   "source": [
    "a = eval(input())\n",
    "if(a%2)==0 and (a%4)==0:\n",
    "    print(a**3)"
   ]
  },
  {
   "attachments": {},
   "cell_type": "markdown",
   "metadata": {},
   "source": [
    "15)WAP to check whether given value is even value or not. If the even number stores the  value inside the list"
   ]
  },
  {
   "cell_type": "code",
   "execution_count": null,
   "metadata": {},
   "outputs": [
    {
     "name": "stdout",
     "output_type": "stream",
     "text": [
      "[56]\n"
     ]
    }
   ],
   "source": [
    "a = eval(input())\n",
    "list_c=[]\n",
    "if(a%2)==0:\n",
    "    list_c += [a]\n",
    "    print(list_c)"
   ]
  },
  {
   "attachments": {},
   "cell_type": "markdown",
   "metadata": {},
   "source": [
    "16)WAP to check whether a given value is a negative or even number. If satisfied ,to  display the last digit of the values."
   ]
  },
  {
   "cell_type": "code",
   "execution_count": null,
   "metadata": {},
   "outputs": [
    {
     "name": "stdout",
     "output_type": "stream",
     "text": [
      "8\n"
     ]
    }
   ],
   "source": [
    "a = eval(input())\n",
    "if(a%2)==0 or(a<0):\n",
    "    str_1 = str(a)\n",
    "    print(str_1[-1])"
   ]
  },
  {
   "attachments": {},
   "cell_type": "markdown",
   "metadata": {},
   "source": [
    "17)WAP to check whether a given value is a negative or odd number and divisible by 4.  If satisfied ,to display the cube of the values."
   ]
  },
  {
   "cell_type": "code",
   "execution_count": null,
   "metadata": {},
   "outputs": [
    {
     "name": "stdout",
     "output_type": "stream",
     "text": [
      "274625\n"
     ]
    }
   ],
   "source": [
    "a = eval(input())\n",
    "if(a%2)!=0 or(a<0) and (a%4)==0:\n",
    "    print(a**3)"
   ]
  },
  {
   "attachments": {},
   "cell_type": "markdown",
   "metadata": {},
   "source": [
    "18)WAP to check whether a given ascii value is divisible by 4 and even value. If satisfied  ,to display the ascii character."
   ]
  },
  {
   "cell_type": "code",
   "execution_count": null,
   "metadata": {},
   "outputs": [
    {
     "name": "stdout",
     "output_type": "stream",
     "text": [
      "56\n"
     ]
    }
   ],
   "source": [
    "a = eval(input())\n",
    "if(a%4)==0 and(a%2)==0:\n",
    "    print(ord(str(a)))"
   ]
  },
  {
   "attachments": {},
   "cell_type": "markdown",
   "metadata": {},
   "source": [
    "19)WAP to check whether a given value is present in between 45 to 125 and the number  should be divisible by 4 and 5 and even value. If satisfied ,to display the ascii character."
   ]
  },
  {
   "cell_type": "code",
   "execution_count": null,
   "metadata": {},
   "outputs": [],
   "source": [
    "a = eval(input())\n",
    "if(45>=a<=125) and (a%4)==0 and(a%5)==0 and (a%2)==0:\n",
    "    print(ord(str(a)))"
   ]
  },
  {
   "attachments": {},
   "cell_type": "markdown",
   "metadata": {},
   "source": [
    "20)WAP to check whether a given value is present in between 25 to 100 and the number  should be divisible by 4 and 5. If satisfied, to display multiplication of given value with  5."
   ]
  },
  {
   "cell_type": "code",
   "execution_count": null,
   "metadata": {},
   "outputs": [],
   "source": [
    "a = eval(input())\n",
    "if(25>=a<=100) and (a%4)==0 and(a%5)==0:\n",
    "    print(a*5)"
   ]
  },
  {
   "attachments": {},
   "cell_type": "markdown",
   "metadata": {},
   "source": [
    "21)WAP to check whether a given number is an integer and odd number. If the condition  is satisfied, the integer is divisible by 5 and displays the result."
   ]
  },
  {
   "cell_type": "code",
   "execution_count": null,
   "metadata": {},
   "outputs": [
    {
     "name": "stdout",
     "output_type": "stream",
     "text": [
      "Is divisble\n"
     ]
    }
   ],
   "source": [
    "a = eval(input())\n",
    "if(type(a)==int) and(a%2)!= 0:\n",
    "    if a%5 ==0:\n",
    "        print(\"Is divisble\")"
   ]
  },
  {
   "attachments": {},
   "cell_type": "markdown",
   "metadata": {},
   "source": [
    "22)WAP to check whether a given value is an integer or not. If integer, the given value is  converted to string and displays the result."
   ]
  },
  {
   "cell_type": "code",
   "execution_count": null,
   "metadata": {},
   "outputs": [
    {
     "name": "stdout",
     "output_type": "stream",
     "text": [
      "556\n",
      "<class 'str'>\n"
     ]
    }
   ],
   "source": [
    "x = eval(input())\n",
    "if(type(x)==int):\n",
    "    z = str(x)\n",
    "    print(str(z))\n",
    "    print(type(z))"
   ]
  },
  {
   "attachments": {},
   "cell_type": "markdown",
   "metadata": {},
   "source": [
    "23)WAP to check whether a given value is less than 125 and greater than 60 or not. If the  condition is satisfied, take the name and extract the middle character and display it."
   ]
  },
  {
   "cell_type": "code",
   "execution_count": null,
   "metadata": {},
   "outputs": [
    {
     "name": "stdout",
     "output_type": "stream",
     "text": [
      "s\n"
     ]
    }
   ],
   "source": [
    "value = eval(input())\n",
    "string_1 = \"Vamshi\"\n",
    "if value<125 and value>60:\n",
    "    middle = len(string_1)//2 \n",
    "    print(string_1[middle])\n",
    "    "
   ]
  },
  {
   "attachments": {},
   "cell_type": "markdown",
   "metadata": {},
   "source": [
    "24)WAP to check whether a given two integers are equal or not. If both are equal, to  perform addition and display the result."
   ]
  },
  {
   "cell_type": "code",
   "execution_count": null,
   "metadata": {},
   "outputs": [
    {
     "name": "stdout",
     "output_type": "stream",
     "text": [
      "8\n"
     ]
    }
   ],
   "source": [
    "num_1 = eval(input())\n",
    "num_2 = eval(input())\n",
    "if num_1==num_2:\n",
    "    print(num_1+num_2)"
   ]
  },
  {
   "attachments": {},
   "cell_type": "markdown",
   "metadata": {},
   "source": [
    "25)WAP to check whether two values are equal or not if equal to perform multiplication  and division by 3 and display the value."
   ]
  },
  {
   "cell_type": "code",
   "execution_count": null,
   "metadata": {},
   "outputs": [
    {
     "name": "stdout",
     "output_type": "stream",
     "text": [
      "36\n"
     ]
    }
   ],
   "source": [
    "num_1 = eval(input())\n",
    "num_2 = eval(input())\n",
    "if num_1==num_2:\n",
    "    multiply = num_1*num_2\n",
    "    if(multiply%3) == 0:\n",
    "        print(multiply)"
   ]
  },
  {
   "attachments": {},
   "cell_type": "markdown",
   "metadata": {},
   "source": [
    "26)WAP to check whether a character is in the alphabet or not. If the alphabet, store the  value inside the dictionary(key as a character and value as an ascii value).\n",
    "\n"
   ]
  },
  {
   "cell_type": "code",
   "execution_count": null,
   "metadata": {},
   "outputs": [
    {
     "name": "stdout",
     "output_type": "stream",
     "text": [
      "{'z': 122}\n"
     ]
    }
   ],
   "source": [
    "alphabet = eval(input())\n",
    "dict_a = {}\n",
    "if(\"A\" <= alphabet <=\"z\" and \"a\" <=alphabet<=\"z\"): \n",
    "    key = alphabet\n",
    "    value = ord(alphabet)\n",
    "    dict_a = {key:value}\n",
    "    print(dict_a)    "
   ]
  },
  {
   "attachments": {},
   "cell_type": "markdown",
   "metadata": {},
   "source": [
    "27)WAP to check whether a character is in the uppercase or not. If the uppercase, store  the value inside the dictionary (key as a character and value as an ascii value)."
   ]
  },
  {
   "cell_type": "code",
   "execution_count": null,
   "metadata": {},
   "outputs": [
    {
     "name": "stdout",
     "output_type": "stream",
     "text": [
      "{'B': 66}\n"
     ]
    }
   ],
   "source": [
    "alphabet = eval(input())\n",
    "dict_a = {}\n",
    "if \"A\" <= alphabet <=\"Z\":\n",
    "    dict_a = {alphabet:ord(alphabet)}\n",
    "    print(dict_a)    "
   ]
  },
  {
   "attachments": {},
   "cell_type": "markdown",
   "metadata": {},
   "source": [
    "28)WAP to check whether a character is in the uppercase or not. If the uppercase, convert  to lowercase and store the value inside the dictionary (character as a key and ascii  value as a value).\n",
    "\n"
   ]
  },
  {
   "cell_type": "code",
   "execution_count": null,
   "metadata": {},
   "outputs": [
    {
     "name": "stdout",
     "output_type": "stream",
     "text": [
      "{'b': 98}\n"
     ]
    }
   ],
   "source": [
    "alphabet = eval(input())\n",
    "dict_b ={}\n",
    "if \"A\" <= alphabet <=\"Z\":\n",
    "    lower = ord(alphabet)+32\n",
    "    dict_b = {chr(lower):lower}\n",
    "    print(dict_b)\n",
    "    "
   ]
  },
  {
   "attachments": {},
   "cell_type": "markdown",
   "metadata": {},
   "source": [
    "29)WAP to check whether a character is in the lowercase or not. If the lowercase, to  perform the replication operation on that character."
   ]
  },
  {
   "cell_type": "code",
   "execution_count": null,
   "metadata": {},
   "outputs": [
    {
     "name": "stdout",
     "output_type": "stream",
     "text": [
      "bb\n"
     ]
    }
   ],
   "source": [
    "alphabet = eval(input())\n",
    "if(alphabet >=\"a\") and(alphabet<=\"z\"):\n",
    "    print(alphabet*2)    "
   ]
  },
  {
   "attachments": {},
   "cell_type": "markdown",
   "metadata": {},
   "source": [
    "30)WAP to check whether a character is in the ascii number or not. If the ascii number, to  convert into integer."
   ]
  },
  {
   "cell_type": "code",
   "execution_count": null,
   "metadata": {},
   "outputs": [
    {
     "name": "stdout",
     "output_type": "stream",
     "text": [
      "8\n"
     ]
    }
   ],
   "source": [
    "number = eval(input())\n",
    "if \"0\" <= number <=\"9\":\n",
    "    print(int(number))"
   ]
  },
  {
   "attachments": {},
   "cell_type": "markdown",
   "metadata": {},
   "source": [
    "31)WAP to check whether a character is in the special symbol or not. If the special symbol,  to display a symbol with ascii value."
   ]
  },
  {
   "cell_type": "code",
   "execution_count": null,
   "metadata": {},
   "outputs": [
    {
     "name": "stdout",
     "output_type": "stream",
     "text": [
      "36\n"
     ]
    }
   ],
   "source": [
    "number = eval(input())\n",
    "if not(\"0\" <= number <=\"9\") or (\"A\"<=number<=\"Z\")  or (\"a\"<=number<=\"z\"):\n",
    "    print(ord(number))"
   ]
  },
  {
   "attachments": {},
   "cell_type": "markdown",
   "metadata": {},
   "source": [
    "32)WAP to check whether a character is an even number or not. If the even number, to  display an even number."
   ]
  },
  {
   "cell_type": "code",
   "execution_count": null,
   "metadata": {},
   "outputs": [],
   "source": [
    "number = int(input())\n",
    "if(number%2)==0:\n",
    "    print(\"even number\")"
   ]
  },
  {
   "attachments": {},
   "cell_type": "markdown",
   "metadata": {},
   "source": [
    "33)WAP to check whether a character is in the vowel or not. If the vowel, print the next  character."
   ]
  },
  {
   "cell_type": "code",
   "execution_count": null,
   "metadata": {},
   "outputs": [
    {
     "name": "stdout",
     "output_type": "stream",
     "text": [
      "B\n"
     ]
    }
   ],
   "source": [
    "character = eval(input())\n",
    "if character in \"AEIOUaeiou\":\n",
    "    next = ord(character)+1\n",
    "    print(chr(next))"
   ]
  },
  {
   "attachments": {},
   "cell_type": "markdown",
   "metadata": {},
   "source": [
    "34)WAP to check whether a character is in the not a vowel. If it's not a vowel, print the previous character."
   ]
  },
  {
   "cell_type": "code",
   "execution_count": null,
   "metadata": {},
   "outputs": [
    {
     "name": "stdout",
     "output_type": "stream",
     "text": [
      "C\n"
     ]
    }
   ],
   "source": [
    "character = eval(input())\n",
    "if character not in \"AEIOUaeiou\":\n",
    "    next = ord(character)-1\n",
    "    print(chr(next))"
   ]
  },
  {
   "attachments": {},
   "cell_type": "markdown",
   "metadata": {},
   "source": [
    "35)WAP to check whether a given value is a single value data type or not. If single value,  display the given value as a single value data type."
   ]
  },
  {
   "cell_type": "code",
   "execution_count": null,
   "metadata": {},
   "outputs": [
    {
     "name": "stdout",
     "output_type": "stream",
     "text": [
      "Singlevalue\n"
     ]
    }
   ],
   "source": [
    "value = eval(input())\n",
    "if type(value) in [int,float,complex,bytes,None]:\n",
    "    print(\"Singlevalue\")"
   ]
  },
  {
   "attachments": {},
   "cell_type": "markdown",
   "metadata": {},
   "source": [
    "36)WAP to check whether a given value is a multi-value data type or not. If multi value,  store the given value inside the tuple and display it."
   ]
  },
  {
   "cell_type": "code",
   "execution_count": null,
   "metadata": {},
   "outputs": [
    {
     "name": "stdout",
     "output_type": "stream",
     "text": [
      "([1, 2, 3],)\n"
     ]
    }
   ],
   "source": [
    "value = eval(input())\n",
    "tuple_1 = ()\n",
    "if type(value) not in [int,float,complex,bytes,None]:\n",
    "    tuple_1 += (value,)\n",
    "    print(tuple_1)"
   ]
  },
  {
   "attachments": {},
   "cell_type": "markdown",
   "metadata": {},
   "source": [
    "37)WAP to check whether a given value is an immutable data type or not. If an immutable  data type value, store the given value inside the set and display it."
   ]
  },
  {
   "cell_type": "code",
   "execution_count": null,
   "metadata": {},
   "outputs": [
    {
     "name": "stdout",
     "output_type": "stream",
     "text": [
      "{10, 20, 30}\n"
     ]
    }
   ],
   "source": [
    "value = eval(input())\n",
    "set_1 = {10,20}\n",
    "if type(value) in [int,float,complex,bytes,None,tuple,str]:\n",
    "    set_1.add(value)\n",
    "    print(set_1)"
   ]
  },
  {
   "attachments": {},
   "cell_type": "markdown",
   "metadata": {},
   "source": [
    "38)WAP to check whether the middle element of a given list is odd or not. If it is odd then  print odd then print the number else directly print the number"
   ]
  },
  {
   "cell_type": "code",
   "execution_count": null,
   "metadata": {},
   "outputs": [
    {
     "name": "stdout",
     "output_type": "stream",
     "text": [
      "4\n"
     ]
    }
   ],
   "source": [
    "list_A = [1,2,3,4,5,6]\n",
    "middle = len(list_A)//2\n",
    "if  int(middle)%2 ==0:\n",
    "    print(\"odd number\")\n",
    "else:\n",
    "    print(list_A[middle])\n",
    "    "
   ]
  },
  {
   "attachments": {},
   "cell_type": "markdown",
   "metadata": {},
   "source": [
    "39)WAP to check whether the two variables are pointing to the same memory location or  not if they are pointing to the same memory location then print the address of both the  variables."
   ]
  },
  {
   "cell_type": "code",
   "execution_count": null,
   "metadata": {},
   "outputs": [
    {
     "name": "stdout",
     "output_type": "stream",
     "text": [
      "140713223058312\n",
      "140713223058312\n"
     ]
    }
   ],
   "source": [
    "a = eval(input())\n",
    "b = eval(input())\n",
    "if id(a)==id(b):\n",
    "    print(id(a))\n",
    "    print(id(b))"
   ]
  },
  {
   "attachments": {},
   "cell_type": "markdown",
   "metadata": {},
   "source": [
    "40)WAP to check whether the given length of the string is even or not. If the condition is  satisfied, display the sequence of characters from zero position to length of collection  -2."
   ]
  },
  {
   "cell_type": "code",
   "execution_count": null,
   "metadata": {},
   "outputs": [
    {
     "name": "stdout",
     "output_type": "stream",
     "text": [
      "vams\n"
     ]
    }
   ],
   "source": [
    "string_1 = \"vamshi\"\n",
    "if(len(string_1)%2)==0:\n",
    "    print(string_1[:-2:1])\n",
    "    "
   ]
  },
  {
   "attachments": {},
   "cell_type": "markdown",
   "metadata": {},
   "source": [
    "41)WAP to check whether the two given strings are having the same values or not. If both  are not the same values then swap the values of one variable to another variable after  swapping print the two values."
   ]
  },
  {
   "cell_type": "code",
   "execution_count": null,
   "metadata": {},
   "outputs": [
    {
     "name": "stdout",
     "output_type": "stream",
     "text": [
      "Krishna\n",
      "Vamshi\n"
     ]
    }
   ],
   "source": [
    "string_1 = eval(input())\n",
    "string_2 = eval(input())\n",
    "if string_1 != string_2:\n",
    "    temp = string_1 \n",
    "    string_1 = string_2\n",
    "    string_2 = temp \n",
    "    print(string_1)\n",
    "    print(string_2)\n",
    "       "
   ]
  },
  {
   "attachments": {},
   "cell_type": "markdown",
   "metadata": {},
   "source": [
    "42)WAP to check whether a given character is a special symbol or not. If satisfied, store  the symbol as a key and value as a ascii value of the given character inside the  dictionary."
   ]
  },
  {
   "cell_type": "code",
   "execution_count": null,
   "metadata": {},
   "outputs": [
    {
     "name": "stdout",
     "output_type": "stream",
     "text": [
      "{'$': 36}\n"
     ]
    }
   ],
   "source": [
    "character_1 = eval(input())\n",
    "dict_2 = {}\n",
    "if not(\"a\" <= character_1 <=\"z\" or \"A\"<=character_1<=\"Z\" or \"0\" <= character_1 <=\"9\"):\n",
    "    key = character_1 \n",
    "    value = ord(character_1)\n",
    "    dict_2 =  {key:value}\n",
    "    print(dict_2)\n",
    "    "
   ]
  },
  {
   "attachments": {},
   "cell_type": "markdown",
   "metadata": {},
   "source": [
    "43)WAP to check whether a number is positive or negative. If Positive print positive  message or else print Negative Number."
   ]
  },
  {
   "cell_type": "code",
   "execution_count": null,
   "metadata": {},
   "outputs": [
    {
     "name": "stdout",
     "output_type": "stream",
     "text": [
      "postive\n"
     ]
    }
   ],
   "source": [
    "a = eval(input())\n",
    "if(a>0):\n",
    "    print(\"postive\")\n",
    "else:\n",
    "    print(\"Negative\")"
   ]
  },
  {
   "attachments": {},
   "cell_type": "markdown",
   "metadata": {},
   "source": [
    "44)WAP to check whether a number is even or odd. If even, print message an even or else  print message as odd."
   ]
  },
  {
   "cell_type": "code",
   "execution_count": null,
   "metadata": {},
   "outputs": [
    {
     "name": "stdout",
     "output_type": "stream",
     "text": [
      "even\n"
     ]
    }
   ],
   "source": [
    "a = eval(input())\n",
    "if(a%2)==0:\n",
    "    print(\"even\")\n",
    "else:\n",
    "    print(\"odd\")"
   ]
  },
  {
   "attachments": {},
   "cell_type": "markdown",
   "metadata": {},
   "source": [
    "45)Write a program to check whether a given number is greater than 10 or not. if it is  greater than 10 print message as greater and print that or else if that number is not  greater than 10 print that number"
   ]
  },
  {
   "cell_type": "code",
   "execution_count": null,
   "metadata": {},
   "outputs": [
    {
     "name": "stdout",
     "output_type": "stream",
     "text": [
      "greater\n"
     ]
    }
   ],
   "source": [
    "a = eval(input())\n",
    "if(a>10):\n",
    "    print(\"greater\")\n",
    "else:\n",
    "    print(\"not greater then 10\")"
   ]
  },
  {
   "attachments": {},
   "cell_type": "markdown",
   "metadata": {},
   "source": [
    "46)WAP to check whether a given value is present in between 45 to 125. If value is present  print the ascii character. "
   ]
  },
  {
   "cell_type": "code",
   "execution_count": null,
   "metadata": {},
   "outputs": [
    {
     "name": "stdout",
     "output_type": "stream",
     "text": [
      "A\n"
     ]
    }
   ],
   "source": [
    "v = eval(input())\n",
    "if(45<=a<=125):\n",
    "    print(chr(v))"
   ]
  },
  {
   "attachments": {},
   "cell_type": "markdown",
   "metadata": {},
   "source": [
    "47)WAP to accept two integers and check whether they are equal or not. If equal, multiply to value or quotation value and display it."
   ]
  },
  {
   "cell_type": "code",
   "execution_count": null,
   "metadata": {},
   "outputs": [
    {
     "name": "stdout",
     "output_type": "stream",
     "text": [
      "0.8\n"
     ]
    }
   ],
   "source": [
    "a = eval(input())\n",
    "b =eval(input())\n",
    "if a==b:\n",
    "    print(a*b)\n",
    "else:\n",
    "    print(a/b)"
   ]
  },
  {
   "attachments": {},
   "cell_type": "markdown",
   "metadata": {},
   "source": [
    "48)WAP to find the largest of two numbers."
   ]
  },
  {
   "cell_type": "code",
   "execution_count": null,
   "metadata": {},
   "outputs": [
    {
     "name": "stdout",
     "output_type": "stream",
     "text": [
      "7\n"
     ]
    }
   ],
   "source": [
    "a = eval(input())\n",
    "b =eval(input())\n",
    "if a>b:\n",
    "    print(a)\n",
    "else:\n",
    "    print(b)"
   ]
  },
  {
   "attachments": {},
   "cell_type": "markdown",
   "metadata": {},
   "source": [
    "49)WAP to find the smallest of two numbers."
   ]
  },
  {
   "cell_type": "code",
   "execution_count": null,
   "metadata": {},
   "outputs": [],
   "source": [
    "a = eval(input())\n",
    "b =eval(input())\n",
    "if a<b:\n",
    "    print(a)\n",
    "else:\n",
    "    print(b)"
   ]
  },
  {
   "attachments": {},
   "cell_type": "markdown",
   "metadata": {},
   "source": [
    "50)WAP to check whether the given number is even or odd. If it is even then make it as an odd number, if it is an odd number then make it as even number."
   ]
  },
  {
   "cell_type": "code",
   "execution_count": null,
   "metadata": {},
   "outputs": [
    {
     "name": "stdout",
     "output_type": "stream",
     "text": [
      "9\n"
     ]
    }
   ],
   "source": [
    "a  = 8 \n",
    "if(a%2)==0:\n",
    "    print(a+1)\n",
    "else:\n",
    "    print(a-1)"
   ]
  },
  {
   "attachments": {},
   "cell_type": "markdown",
   "metadata": {},
   "source": [
    " 51) WAP to check whether the given number lies between 1 to 19, if it is true square that number or else false cube that number and display the number."
   ]
  },
  {
   "cell_type": "code",
   "execution_count": null,
   "metadata": {},
   "outputs": [
    {
     "name": "stdout",
     "output_type": "stream",
     "text": [
      "12167\n"
     ]
    }
   ],
   "source": [
    "a = eval(input())\n",
    "if 1<=a<=19:\n",
    "    print(a**2)\n",
    "else:\n",
    "    print(a**3)"
   ]
  },
  {
   "attachments": {},
   "cell_type": "markdown",
   "metadata": {},
   "source": [
    "52) WAP to check whether a given value is even and in range of 47 to 58 and not in 0 or odd. if condition is True, to perform display the ascii character or else to perform floor division with 5 and display it."
   ]
  },
  {
   "cell_type": "code",
   "execution_count": null,
   "metadata": {},
   "outputs": [
    {
     "name": "stdout",
     "output_type": "stream",
     "text": [
      "12\n"
     ]
    }
   ],
   "source": [
    "a  = eval(input())\n",
    "if 47<=a<=58 and (a%2)==0 and (a!=0)or(a%2)!=0:\n",
    "    print(ord(a))\n",
    "else:\n",
    "    print(a//5)\n",
    "    "
   ]
  },
  {
   "attachments": {},
   "cell_type": "markdown",
   "metadata": {},
   "source": [
    "53) WAP to check whether a given value is less than 125 and in between 47 to 125 or not. if condition is True, to perform store the given value as key and value as a character into the dictionary or else to append the value in list and display it."
   ]
  },
  {
   "cell_type": "code",
   "execution_count": null,
   "metadata": {},
   "outputs": [
    {
     "name": "stdout",
     "output_type": "stream",
     "text": [
      "{98: 'b'}\n"
     ]
    }
   ],
   "source": [
    "k = eval(input())\n",
    "list_a = [1,2,3,4]\n",
    "if 47<=k<=125:\n",
    "    key = (k)\n",
    "    value = chr(k)    \n",
    "    print({key:value})\n",
    "else:\n",
    "    list_a+=[k]"
   ]
  },
  {
   "attachments": {},
   "cell_type": "markdown",
   "metadata": {},
   "source": [
    "54) WAP to check whether a given character is in the alphabet or not. if alphabet, display the alphabet with character or else display the not alphabet with character."
   ]
  },
  {
   "cell_type": "code",
   "execution_count": null,
   "metadata": {},
   "outputs": [
    {
     "name": "stdout",
     "output_type": "stream",
     "text": [
      "F 70\n"
     ]
    }
   ],
   "source": [
    "alpha = eval(input())\n",
    "if \"A\"<=alpha<=\"Z\" or \"a\"<=alpha<=\"z\":\n",
    "    print(alpha,ord(alpha))\n",
    "else:\n",
    "    print(alpha,ord(alpha))"
   ]
  },
  {
   "attachments": {},
   "cell_type": "markdown",
   "metadata": {},
   "source": [
    "55) WAP to check whether a given character is uppercase or other character. if uppercase, display the uppercase with character or else display the other character with character."
   ]
  },
  {
   "cell_type": "code",
   "execution_count": null,
   "metadata": {},
   "outputs": [
    {
     "name": "stdout",
     "output_type": "stream",
     "text": [
      "$ 36\n"
     ]
    }
   ],
   "source": [
    "character_1 = eval(input())\n",
    "if \"A\"<=character_1<=\"Z\":\n",
    "    print(character_1,ord(character_1))\n",
    "else:\n",
    "    print(character_1,ord(character_1))"
   ]
  },
  {
   "attachments": {},
   "cell_type": "markdown",
   "metadata": {},
   "source": [
    "56) WAP to check whether a given character is lowercase or other character. if lowercase, display the lowercase with character or else display the other character with character."
   ]
  },
  {
   "cell_type": "code",
   "execution_count": null,
   "metadata": {},
   "outputs": [],
   "source": [
    "character_1 = eval(input())\n",
    "if \"a\"<=character_1<=\"z\":\n",
    "    print(character_1,ord(character_1))\n",
    "else:\n",
    "    print(character_1,ord(character_1))"
   ]
  },
  {
   "attachments": {},
   "cell_type": "markdown",
   "metadata": {},
   "source": [
    "57) WAP to check whether a given character is uppercase or other character. if uppercase, convert to lowercase .or else display the ascii number."
   ]
  },
  {
   "cell_type": "code",
   "execution_count": null,
   "metadata": {},
   "outputs": [
    {
     "name": "stdout",
     "output_type": "stream",
     "text": [
      "b\n"
     ]
    }
   ],
   "source": [
    "character_1 = eval(input())\n",
    "if \"A\"<=character_1<=\"Z\":\n",
    "    f = ord(character_1)+32\n",
    "    print(chr(f))\n",
    "else:\n",
    "    print(ord(character_1))"
   ]
  },
  {
   "attachments": {},
   "cell_type": "markdown",
   "metadata": {},
   "source": [
    "58) WAP to check whether the given character is in lowercase or uppercase. If it is in lowercase, convert it into uppercase, or else it is in uppercase and convert it into lowercase. Display the value."
   ]
  },
  {
   "cell_type": "code",
   "execution_count": null,
   "metadata": {},
   "outputs": [
    {
     "name": "stdout",
     "output_type": "stream",
     "text": [
      "B\n"
     ]
    }
   ],
   "source": [
    "character_1 = eval(input())\n",
    "if \"a\"<=character_1<=\"z\":\n",
    "    f = ord(character_1)-32\n",
    "    print(chr(f))\n",
    "else:\n",
    "    print(ord(character_1))"
   ]
  },
  {
   "attachments": {},
   "cell_type": "markdown",
   "metadata": {},
   "source": [
    "59) WAP to check whether a given character is a vowel or consonant. if vowel, to print the next character of a given character or else print previous characters."
   ]
  },
  {
   "cell_type": "code",
   "execution_count": null,
   "metadata": {},
   "outputs": [
    {
     "name": "stdout",
     "output_type": "stream",
     "text": [
      "B\n"
     ]
    }
   ],
   "source": [
    "character_3 = eval(input())\n",
    "if character_3 in \"AEIOUaeiou\":\n",
    "    k = ord(character_3)+1\n",
    "    print(chr(k))\n",
    "else:\n",
    "    l = ord(character_3)-1 \n",
    "    print(chr(l))"
   ]
  },
  {
   "attachments": {},
   "cell_type": "markdown",
   "metadata": {},
   "source": [
    "60) WAP to check whether a given string of first character is alphabet or not if the alphabet prints, reverse the string or else print the middle character."
   ]
  },
  {
   "cell_type": "code",
   "execution_count": null,
   "metadata": {},
   "outputs": [
    {
     "name": "stdout",
     "output_type": "stream",
     "text": [
      "anhsirkihsmaV\n"
     ]
    }
   ],
   "source": [
    "a  = \"Vamshikrishna\"\n",
    "first = a[0]\n",
    "if \"A\"<=first<=\"Z\" or \"a\"<=first<=\"z\":\n",
    "    print(a[::-1])\n",
    "else:\n",
    "    length = int(len(a)/2)\n",
    "    print(a[length])"
   ]
  },
  {
   "attachments": {},
   "cell_type": "markdown",
   "metadata": {},
   "source": [
    "61) WAP to check whether a given string is even length or not. if even, to append the new string called \"bye\" or else print the first and last characters.\n"
   ]
  },
  {
   "cell_type": "code",
   "execution_count": null,
   "metadata": {},
   "outputs": [
    {
     "name": "stdout",
     "output_type": "stream",
     "text": [
      "V\n",
      "a\n"
     ]
    }
   ],
   "source": [
    "a = \"Vamshikrishna\"\n",
    "if(len(a)%2)==0:\n",
    "    print(a+\"bye\")\n",
    "else:\n",
    "    print(a[0])\n",
    "    print(a[-1])"
   ]
  },
  {
   "attachments": {},
   "cell_type": "markdown",
   "metadata": {},
   "source": [
    "62) WAP to check whether a given year is a leap year or not. if leap year, print leap year or else not a leap year."
   ]
  },
  {
   "cell_type": "code",
   "execution_count": null,
   "metadata": {},
   "outputs": [
    {
     "name": "stdout",
     "output_type": "stream",
     "text": [
      "leap year\n"
     ]
    }
   ],
   "source": [
    "year = eval(input())\n",
    "if year%100 and year%4==0:\n",
    "    print(\"leap year\")\n",
    "else:\n",
    "    print(\"Not a leap year\")"
   ]
  },
  {
   "attachments": {},
   "cell_type": "markdown",
   "metadata": {},
   "source": [
    "63)WAP to find out the greatest of two numbers and display the greatest number. if the greatest number, display the greatest message with value."
   ]
  },
  {
   "cell_type": "code",
   "execution_count": null,
   "metadata": {},
   "outputs": [
    {
     "name": "stdout",
     "output_type": "stream",
     "text": [
      "a is greater than b 7\n"
     ]
    }
   ],
   "source": [
    "a = eval(input())\n",
    "b = eval(input())\n",
    "if(a>b):\n",
    "    print(\"a is greater than b\",a)\n"
   ]
  },
  {
   "attachments": {},
   "cell_type": "markdown",
   "metadata": {},
   "source": [
    "64) WAP to check whether the given value is present inside the given collection or not. if value is present, display the value is available or else the value is not present."
   ]
  },
  {
   "cell_type": "code",
   "execution_count": null,
   "metadata": {},
   "outputs": [
    {
     "name": "stdout",
     "output_type": "stream",
     "text": [
      "Value is not present\n"
     ]
    }
   ],
   "source": [
    "value = eval(input())\n",
    "collection = [1,\"vamshi\",\"qspiders\",8.0]\n",
    "if value in collection:\n",
    "    print(\"value is avaliable\")\n",
    "else:\n",
    "    print(\"Value is not present\")\n",
    "          "
   ]
  },
  {
   "attachments": {},
   "cell_type": "markdown",
   "metadata": {},
   "source": [
    "65) WAP to check whether a given value is a list and first and last values should be integer, if condition is satisfied first value is divisible by 5 and perform the bitwise not for last value and values are stored in same positions in list or else 2 power length of the collection and display it"
   ]
  },
  {
   "cell_type": "code",
   "execution_count": null,
   "metadata": {},
   "outputs": [
    {
     "name": "stdout",
     "output_type": "stream",
     "text": [
      "0\n",
      "-4\n"
     ]
    }
   ],
   "source": [
    "a = [10,2,3]\n",
    "first_value = a[0]\n",
    "last_value = a[-1]\n",
    "if type(first_value) == int and type(last_value) == int:\n",
    "    is_divisible = first_value%5\n",
    "    bitwise = ~last_value \n",
    "    print(is_divisible)\n",
    "    print(bitwise)\n",
    "else:\n",
    "    print(len(a)**2)   "
   ]
  },
  {
   "attachments": {},
   "cell_type": "markdown",
   "metadata": {},
   "source": [
    "66) WAP to check if the given string of first and second character should be sequence or not. if the sequence prints the first, second and last two characters, or else the first half string is reversed and the remaining half string should be normal and display it."
   ]
  },
  {
   "cell_type": "code",
   "execution_count": null,
   "metadata": {},
   "outputs": [],
   "source": [
    "value = \"HBCDE\"\n",
    "if len(value)>=2 and ord(value[0])+1 == ord(value[-1]):\n",
    "    res = value[0]+value[1]+value[-2]+value[-1]\n",
    "    print(res)\n",
    "else:\n",
    "    half = len(value)//2 \n",
    "    reverse = value[:half:-1]\n",
    "    "
   ]
  },
  {
   "attachments": {},
   "cell_type": "markdown",
   "metadata": {},
   "source": [
    "67) WAP to check whether a given key is present in the dictionary or not. if key is present: display the value or else add key and new value inside the dict."
   ]
  },
  {
   "cell_type": "code",
   "execution_count": null,
   "metadata": {},
   "outputs": [
    {
     "name": "stdout",
     "output_type": "stream",
     "text": [
      "{'a': 10, 'b': 20, 'c': 122}\n"
     ]
    }
   ],
   "source": [
    "key = \"c\"\n",
    "dict_a = {\"a\":10,\"b\":20}\n",
    "if key in dict_a:\n",
    "    print(key)\n",
    "else:\n",
    "    value = 122\n",
    "    dict_a[key] = value\n",
    "    print(dict_a)"
   ]
  },
  {
   "attachments": {},
   "cell_type": "markdown",
   "metadata": {},
   "source": [
    "68) WAP to check whether a given collection is set or not. if set, append the new value, or else eliminate the duplicate values in collection. final results should be set type.\n"
   ]
  },
  {
   "cell_type": "code",
   "execution_count": null,
   "metadata": {},
   "outputs": [
    {
     "name": "stdout",
     "output_type": "stream",
     "text": [
      "{10, 20, 30, 60}\n"
     ]
    }
   ],
   "source": [
    "a = {10,20,30}\n",
    "if type(a)==set:\n",
    "    value = 60\n",
    "    a.add(value)\n",
    "    print(a)\n",
    "else:\n",
    "    print(set(a))"
   ]
  },
  {
   "attachments": {},
   "cell_type": "markdown",
   "metadata": {},
   "source": [
    "69)WAP to read the age of a candidate and determine whether it is eligible for his/her own vote or not.it eligible print age and eligible messages or else print not eligible."
   ]
  },
  {
   "cell_type": "code",
   "execution_count": null,
   "metadata": {},
   "outputs": [],
   "source": [
    "a= eval(input())\n",
    "if a>=18:\n",
    "    print(\"eligible\")\n",
    "else:\n",
    "    print(\"not eligible\")"
   ]
  },
  {
   "attachments": {},
   "cell_type": "markdown",
   "metadata": {},
   "source": [
    "70) WAP to check whether a given value is even and in between 47 to 58 and not in 0 or odd. if condition is True, to perform display the ascii character. or else to perform floor division with 5 and display it."
   ]
  },
  {
   "cell_type": "code",
   "execution_count": null,
   "metadata": {},
   "outputs": [],
   "source": [
    "a = eval(input())\n",
    "if (a%2)==0 and 47<=a<=58 and a!=0 or (a%2)!=0:\n",
    "    print(ord(a))\n",
    "else:\n",
    "    print(a//5)"
   ]
  },
  {
   "attachments": {},
   "cell_type": "markdown",
   "metadata": {},
   "source": [
    "71) WAP to check whether the given string is palindrome or not if it is a palindrome string palindrome along with the string if it is not a palindrome print not palindrome"
   ]
  },
  {
   "cell_type": "code",
   "execution_count": null,
   "metadata": {},
   "outputs": [
    {
     "name": "stdout",
     "output_type": "stream",
     "text": [
      "palindrome madam\n"
     ]
    }
   ],
   "source": [
    "string_1 = eval(input())\n",
    "reverse = string_1[::-1]\n",
    "if string_1 == reverse:\n",
    "    print(\"palindrome\",string_1)\n",
    "else:\n",
    "    print(\"not a palindrome\")"
   ]
  },
  {
   "attachments": {},
   "cell_type": "markdown",
   "metadata": {},
   "source": [
    "72)WAP to check whether a given number is palindrome or not. If palindrome, display the given value as a palindrome or else not a palindrome."
   ]
  },
  {
   "cell_type": "code",
   "execution_count": null,
   "metadata": {},
   "outputs": [],
   "source": [
    "string_1 = eval(input())\n",
    "reverse = string_1[::-1]\n",
    "if string_1 == reverse:\n",
    "    print(\"palindrome\")\n",
    "else:\n",
    "    print(\"not a palindrome\")"
   ]
  },
  {
   "attachments": {},
   "cell_type": "markdown",
   "metadata": {},
   "source": [
    "73) WAP to check length of both string collections equal or not if both are equal print the concat the two strings and display, or else if any one of the collection not equal print both the collections with lengths"
   ]
  },
  {
   "cell_type": "code",
   "execution_count": null,
   "metadata": {},
   "outputs": [
    {
     "name": "stdout",
     "output_type": "stream",
     "text": [
      "4\n",
      "4\n"
     ]
    }
   ],
   "source": [
    "coll_1 = [1,2,3,5]\n",
    "coll_2 = [6,7,8,9]\n",
    "if coll_1==coll_2:\n",
    "    print(coll_1+coll_2)\n",
    "else:\n",
    "    print(len(coll_1))\n",
    "    print(len(coll_2))"
   ]
  },
  {
   "attachments": {},
   "cell_type": "markdown",
   "metadata": {},
   "source": [
    "74) WAP to check whether both given values point to the same memory location or not. if it is true print the middle item of the second collection, or else if it is false print the first item and last item of the first collection along with the memory address."
   ]
  },
  {
   "cell_type": "code",
   "execution_count": null,
   "metadata": {},
   "outputs": [
    {
     "name": "stdout",
     "output_type": "stream",
     "text": [
      "10 2742579477056\n",
      "30 2742579476736\n"
     ]
    }
   ],
   "source": [
    "a = [10,20,30] \n",
    "b = [10,20,30] \n",
    "if (id(a)==id(b)):\n",
    "    print(len(b)/2)\n",
    "else:\n",
    "    print(a[0],id(a))\n",
    "    print(a[-1],id(b))\n",
    "    "
   ]
  },
  {
   "attachments": {},
   "cell_type": "markdown",
   "metadata": {},
   "source": [
    "75) WAP to check whether a given string collection is more than ten, and the first + last character of the ascii values should be divisible by 5, if condition is satisfied print first, middle and last characters ASCII values or else print the string three times."
   ]
  },
  {
   "cell_type": "code",
   "execution_count": null,
   "metadata": {},
   "outputs": [
    {
     "name": "stdout",
     "output_type": "stream",
     "text": [
      "ChandravamshikrishnaChandravamshikrishnaChandravamshikrishna\n"
     ]
    }
   ],
   "source": [
    "a = \"Chandravamshikrishna\"\n",
    "if (len(a)>10) and (ord(a[0]) + ord(a[-1]))%5==0:\n",
    "    print(ord(a[0]))\n",
    "    middle = len(a)/2\n",
    "    print(ord(a[middle]))\n",
    "    print(ord(a[-1]))\n",
    "else:\n",
    "    print(a*3)\n",
    "    "
   ]
  },
  {
   "attachments": {},
   "cell_type": "markdown",
   "metadata": {},
   "source": [
    " 76) WAP to check whether the middle of the item present in the list is string data type or not if it is string print that list or else if it is not string then print that middle item."
   ]
  },
  {
   "cell_type": "code",
   "execution_count": null,
   "metadata": {},
   "outputs": [
    {
     "name": "stdout",
     "output_type": "stream",
     "text": [
      "30\n"
     ]
    }
   ],
   "source": [
    "list_d = [1,2,\"vamshi\",30,79,90]\n",
    "middle_item = int(len(list_d)/2)\n",
    "if type(middle_item) == str:\n",
    "    print(list_d)\n",
    "else:\n",
    "    print(list_d[middle_item])\n"
   ]
  },
  {
   "attachments": {},
   "cell_type": "markdown",
   "metadata": {},
   "source": [
    "# IF Elif Statement\n",
    "77) WAP to check whether a given value is positive or negative or neutral. if positive, display the positive with value or negative display the negative with value or else display the neutral with value."
   ]
  },
  {
   "cell_type": "code",
   "execution_count": null,
   "metadata": {},
   "outputs": [
    {
     "name": "stdout",
     "output_type": "stream",
     "text": [
      "postive\n"
     ]
    }
   ],
   "source": [
    "a  = eval(input())\n",
    "if (a>0):\n",
    "    print(\"postive\")\n",
    "elif (a<0):\n",
    "    print(\"negative\")\n",
    "else:\n",
    "    print(\"netural\")"
   ]
  },
  {
   "attachments": {},
   "cell_type": "markdown",
   "metadata": {},
   "source": [
    "78) WAP to find out the greatest of three numbers, and display the greatest number."
   ]
  },
  {
   "cell_type": "code",
   "execution_count": null,
   "metadata": {},
   "outputs": [
    {
     "name": "stdout",
     "output_type": "stream",
     "text": [
      "5\n"
     ]
    }
   ],
   "source": [
    "a = eval(input())\n",
    "b = eval(input())\n",
    "c = eval(input())\n",
    "if(a>=b)and(a>=c):\n",
    "    largest = a \n",
    "elif(b>=a) and(b>=c):\n",
    "    largest = b \n",
    "else:\n",
    "    largest = c \n",
    "print(largest)"
   ]
  },
  {
   "attachments": {},
   "cell_type": "markdown",
   "metadata": {},
   "source": [
    "79) Write a program to check whether a given number is divisible by 3 and 5. if the number divisible by 3 print fizz, if the number divisible by 5 print ‘buzz’ if it is divisible by both then print fizz buzz"
   ]
  },
  {
   "cell_type": "code",
   "execution_count": null,
   "metadata": {},
   "outputs": [],
   "source": [
    "a = eval(input())\n",
    "if(a%3)==0:\n",
    "    print(\"fizz\")\n",
    "elif(a%5)==0:\n",
    "    print(\"buzz\")\n",
    "else:\n",
    "    print(\"fizz buzz\")"
   ]
  },
  {
   "attachments": {},
   "cell_type": "markdown",
   "metadata": {},
   "source": [
    "80) WAP to find out the relationship between two values and display the relationship."
   ]
  },
  {
   "cell_type": "code",
   "execution_count": null,
   "metadata": {},
   "outputs": [],
   "source": [
    "a = eval(input())\n",
    "b = eval(input())\n",
    "if(a>b):\n",
    "    print(\"a>b\")\n",
    "elif(a<b)==0:\n",
    "    print(\"a<b\")\n",
    "else:\n",
    "    print(\"equal\")"
   ]
  },
  {
   "attachments": {},
   "cell_type": "markdown",
   "metadata": {},
   "source": [
    "81) Write a program to check if a given number is one digit or two digit or three digit\n",
    "for more than 3 digit, if one digit displays the one digit value, if two digit displays the\n",
    "two digit value and so on.."
   ]
  },
  {
   "cell_type": "code",
   "execution_count": null,
   "metadata": {},
   "outputs": [
    {
     "name": "stdout",
     "output_type": "stream",
     "text": [
      "Four\n"
     ]
    }
   ],
   "source": [
    "a = eval(input())\n",
    "str_1 = str(a)\n",
    "if(len(str_1)==1):\n",
    "    print(\"one\")\n",
    "elif(len(str_1)==2):\n",
    "    print(\"two\")\n",
    "elif(len(str_1)==3):\n",
    "    print(\"three\")\n",
    "else:\n",
    "    print(\"Four\")"
   ]
  },
  {
   "attachments": {},
   "cell_type": "markdown",
   "metadata": {},
   "source": [
    "82) WAP to check whether a given character is an alphabet or ascii number or special\n",
    "character or invalid. if alphabet, display the alphabet with character or elif ascii\n",
    "number display the ascii number with character, or else display the special character\n",
    "with character."
   ]
  },
  {
   "cell_type": "code",
   "execution_count": null,
   "metadata": {},
   "outputs": [
    {
     "name": "stdout",
     "output_type": "stream",
     "text": [
      "Special character\n"
     ]
    }
   ],
   "source": [
    "a = eval(input())\n",
    "if(\"A\"<=a<=\"Z\" or \"a\"<=a<=\"z\"):\n",
    "    print(\"alphabet\",a)\n",
    "elif('0'<=a<='9'):\n",
    "    print(\"ascii number\")\n",
    "elif(not(\"a\"<=a<=\"z\" or \"A\"<=a<=\"Z\" or '0'<=a<='9')):\n",
    "    print(\"Special character\")"
   ]
  },
  {
   "attachments": {},
   "cell_type": "markdown",
   "metadata": {},
   "source": [
    "83) Write a program to accept any number from 1-5 and display that number in word form."
   ]
  },
  {
   "cell_type": "code",
   "execution_count": null,
   "metadata": {},
   "outputs": [
    {
     "name": "stdout",
     "output_type": "stream",
     "text": [
      "Three\n"
     ]
    }
   ],
   "source": [
    "a = eval(input())\n",
    "if 1<=a<=5:\n",
    "    if a == 1:\n",
    "        print(\"One\")\n",
    "    elif a==2:\n",
    "        print(\"Two\")\n",
    "    elif a==3:\n",
    "        print(\"Three\")\n",
    "    elif a==4:\n",
    "        print(\"Four\")\n",
    "    elif a==5:\n",
    "        print(\"Five\")\n",
    "else:\n",
    "    print(\"Invalid\")"
   ]
  },
  {
   "attachments": {},
   "cell_type": "markdown",
   "metadata": {},
   "source": [
    "84) WAP to check whether a given character is uppercase or lowercase or special\n",
    "character. if uppercase, convert to lower case or elif lowercase, convert to uppercase\n",
    "or else display the previous, given and next characters and display it."
   ]
  },
  {
   "cell_type": "code",
   "execution_count": null,
   "metadata": {},
   "outputs": [
    {
     "name": "stdout",
     "output_type": "stream",
     "text": [
      ")\n"
     ]
    }
   ],
   "source": [
    "letter = input()\n",
    "if 'A'<=letter<='Z':\n",
    "    result = ord(letter)+32\n",
    "    print(chr(result))\n",
    "elif 'a'<=letter<='z':\n",
    "    result = ord(letter)-32\n",
    "    print(chr(result))\n",
    "else:\n",
    "    result = ord(letter)-1\n",
    "    print(chr(result))"
   ]
  },
  {
   "attachments": {},
   "cell_type": "markdown",
   "metadata": {},
   "source": [
    "85) WAP to check whether the given character is in lowercase or uppercase, numeric or\n",
    "special characters. Display the what type of case."
   ]
  },
  {
   "cell_type": "code",
   "execution_count": null,
   "metadata": {},
   "outputs": [
    {
     "name": "stdout",
     "output_type": "stream",
     "text": [
      "Upper case\n"
     ]
    }
   ],
   "source": [
    "letter = input()\n",
    "if 'A'<=letter<='Z':\n",
    "    print(\"Upper case\")\n",
    "elif 'a'<=letter<='z':\n",
    "    print(\"lower case\")\n",
    "elif '0'<=letter<='9':\n",
    "    print(\"Numeric\")\n",
    "else:\n",
    "    print(\"Special character\")"
   ]
  },
  {
   "attachments": {},
   "cell_type": "markdown",
   "metadata": {},
   "source": [
    "86) WAP to check whether a given percentage is which grade and display grade.\n",
    "note.(first grade, second grade, third grade, fail)"
   ]
  },
  {
   "cell_type": "code",
   "execution_count": null,
   "metadata": {},
   "outputs": [
    {
     "name": "stdout",
     "output_type": "stream",
     "text": [
      "third grade\n"
     ]
    }
   ],
   "source": [
    "percentage = int(input())\n",
    "if percentage >= 90:\n",
    "    print(\"First grade\")\n",
    "elif percentage>=80:\n",
    "    print(\"second grade\")\n",
    "elif percentage>=70:\n",
    "    print(\"third grade\")\n",
    "else:\n",
    "    print(\"fail\")"
   ]
  },
  {
   "attachments": {},
   "cell_type": "markdown",
   "metadata": {},
   "source": [
    "87) WAP to perform arithmetic operations depends on a user choice."
   ]
  },
  {
   "cell_type": "code",
   "execution_count": null,
   "metadata": {},
   "outputs": [
    {
     "name": "stdout",
     "output_type": "stream",
     "text": [
      "11\n"
     ]
    }
   ],
   "source": [
    "num1 =eval(input())\n",
    "num2 = eval(input())\n",
    "operation = eval(input())\n",
    "if operation == \"+\":\n",
    "    print(num1+num2)\n",
    "if operation == \"-\":\n",
    "    print(num1-num2)\n",
    "if operation == \"*\":\n",
    "    print(num1*num2)\n",
    "if operation == \"/\":\n",
    "    print(num1/num2)"
   ]
  },
  {
   "attachments": {},
   "cell_type": "markdown",
   "metadata": {},
   "source": [
    "88) WAP to check whether a given collection is a list or tuple or set or character string.\n",
    "if list, append the new value in middle of the list,\n",
    "if tuple, append the new value in starting of the tuple\n",
    "if set, append the new value in set, or else append a new key as given character and\n",
    "values as an ascii value with character."
   ]
  },
  {
   "cell_type": "code",
   "execution_count": null,
   "metadata": {},
   "outputs": [
    {
     "name": "stdout",
     "output_type": "stream",
     "text": [
      "{'a': 10, 'b': 20, 'A': 22}\n"
     ]
    }
   ],
   "source": [
    "def new_func():\n",
    "    collection_1 = eval(input())\n",
    "    if type(collection_1) == list:\n",
    "        value = 22 \n",
    "        middle = len(collection_1)//2 \n",
    "        print(collection_1[:middle]+[value]+collection_1[middle:])\n",
    "    elif type(collection_1) == tuple:\n",
    "        value = 22 \n",
    "        print((value,)+collection_1)\n",
    "    elif type(collection_1) == set:\n",
    "        value = 22\n",
    "        collection_1.add(value)\n",
    "        print(collection_1)\n",
    "    elif type(collection_1) == dict:\n",
    "        key = \"A\"\n",
    "        value = 22\n",
    "        collection_1[key] = value\n",
    "        print(collection_1)\n",
    "\n",
    "new_func()\n",
    "    "
   ]
  },
  {
   "attachments": {},
   "cell_type": "markdown",
   "metadata": {},
   "source": [
    "89) WAP to check whether a given value is a integer or float or string or other, if integer,\n",
    "given value division by 5 and display the quotient,\n",
    "if float, perform the bitwise or operation with 15, if string, extract for last position value\n",
    "and store it in first positions of the string, else store the value in the list and display the\n",
    "result."
   ]
  },
  {
   "cell_type": "code",
   "execution_count": null,
   "metadata": {},
   "outputs": [
    {
     "name": "stdout",
     "output_type": "stream",
     "text": [
      "ivamshi\n"
     ]
    }
   ],
   "source": [
    "value_1 = eval(input())\n",
    "if type(value_1) == int:\n",
    "    print(value_1/5)    \n",
    "elif type(value_1) == float:\n",
    "    print(int(value_1)|15)\n",
    "elif type(value_1) == str:\n",
    "    last_chr = value_1[-1]\n",
    "    print(last_chr+value_1)\n",
    "else:\n",
    "    value=10\n",
    "    value_1+=[value]\n",
    "    print(value_1)\n",
    "    "
   ]
  },
  {
   "attachments": {},
   "cell_type": "markdown",
   "metadata": {},
   "source": [
    "# NESTED IF STATEMENT\n",
    "90) WAP to check whether the given input alphabet present in a collection or not if it is\n",
    "present in the collection check whether that alphabet is uppercase or lowercase if it is\n",
    "uppercase convert it into lowercase and vice versa if the alphabet not present in the\n",
    "collection print invalid"
   ]
  },
  {
   "cell_type": "code",
   "execution_count": null,
   "metadata": {},
   "outputs": [
    {
     "name": "stdout",
     "output_type": "stream",
     "text": [
      "invalid\n"
     ]
    }
   ],
   "source": [
    "value = eval(input())\n",
    "collection_2 = ['A','B','pys','qsp','b']\n",
    "if value in collection_2:\n",
    "    if 'A'<=value<='Z' or 'a'<=value<='z':\n",
    "        if 'A'<=value<='Z':\n",
    "            result = ord(value)+32\n",
    "            print(chr(result))\n",
    "        elif 'a'<=value<='z':\n",
    "            result = ord(value)-32\n",
    "            print(chr(result))\n",
    "    else:\n",
    "        print(\"invalid\")\n",
    "else:\n",
    "    print(\"invalid\")"
   ]
  },
  {
   "attachments": {},
   "cell_type": "markdown",
   "metadata": {},
   "source": [
    "91) WAP to check whether the given input character is present in a given string collection\n",
    "or not.\n",
    "if it is present, check whether the collection length is even or odd,\n",
    "if it is even print even indexed items of that collection using slicing\n",
    "if it is odd, print odd indexed item of that collection\n",
    "if the character not present in the collection just print that collection"
   ]
  },
  {
   "cell_type": "code",
   "execution_count": null,
   "metadata": {},
   "outputs": [
    {
     "name": "stdout",
     "output_type": "stream",
     "text": [
      "mh\n"
     ]
    }
   ],
   "source": [
    "value = eval(input())\n",
    "collection_2 = \"Vamshi\"\n",
    "if value in collection_2:\n",
    "    if len(collection_2)%2==0:\n",
    "        print(collection_2[2::2])\n",
    "    elif len(collection_2)%2!=0:\n",
    "        print(collection_2[1::3])\n",
    "else:\n",
    "    print(collection_2)"
   ]
  },
  {
   "cell_type": "code",
   "execution_count": 3,
   "metadata": {},
   "outputs": [
    {
     "name": "stdout",
     "output_type": "stream",
     "text": [
      "V\n"
     ]
    }
   ],
   "source": [
    "a = \"Vamshi\"\n",
    "print(a[0])"
   ]
  },
  {
   "cell_type": "code",
   "execution_count": 1,
   "metadata": {},
   "outputs": [
    {
     "name": "stdout",
     "output_type": "stream",
     "text": [
      "* * * * \n",
      "  * * * \n",
      "    * * \n",
      "      * \n"
     ]
    }
   ],
   "source": [
    "def print_pattern(n):\n",
    "    for i in range(n):\n",
    "        # Print leading spaces\n",
    "        for j in range(i):\n",
    "            print(\"  \", end=\"\")\n",
    "        \n",
    "        # Print asterisks\n",
    "        for k in range(n - i):\n",
    "            print(\"* \", end=\"\")\n",
    "        \n",
    "        # Move to the next line\n",
    "        print()\n",
    "\n",
    "# Define the number of rows in the pattern\n",
    "num_rows = 4\n",
    "\n",
    "# Call the function to print the pattern\n",
    "print_pattern(num_rows)\n"
   ]
  },
  {
   "cell_type": "code",
   "execution_count": null,
   "metadata": {},
   "outputs": [],
   "source": []
  },
  {
   "cell_type": "code",
   "execution_count": null,
   "metadata": {},
   "outputs": [],
   "source": []
  }
 ],
 "metadata": {
  "kernelspec": {
   "display_name": "Python 3",
   "language": "python",
   "name": "python3"
  },
  "language_info": {
   "codemirror_mode": {
    "name": "ipython",
    "version": 3
   },
   "file_extension": ".py",
   "mimetype": "text/x-python",
   "name": "python",
   "nbconvert_exporter": "python",
   "pygments_lexer": "ipython3",
   "version": "3.11.2"
  },
  "orig_nbformat": 4,
  "vscode": {
   "interpreter": {
    "hash": "7db823d84b97507e614081374149b6439ed188c3f8e0eb4229607403bc4d1625"
   }
  }
 },
 "nbformat": 4,
 "nbformat_minor": 2
}
